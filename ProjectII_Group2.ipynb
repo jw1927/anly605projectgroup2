{
 "cells": [
  {
   "cell_type": "code",
   "execution_count": 1,
   "metadata": {
    "id": "3sMXuG772KM9"
   },
   "outputs": [],
   "source": [
    "import random\n",
    "#from sklearn.datasets import load_breast_cancer\n",
    "import matplotlib.pyplot as plt\n",
    "import seaborn as sns\n",
    "import numpy as np\n",
    "import pandas as pd\n",
    "import os\n",
    "#from google.colab import files\n",
    "random.seed(8281)"
   ]
  },
  {
   "cell_type": "markdown",
   "metadata": {
    "id": "34qFOjwwAv8Q"
   },
   "source": [
    "### Preprocessing"
   ]
  },
  {
   "cell_type": "code",
   "execution_count": 2,
   "metadata": {
    "id": "WQ5wjigj3OxZ"
   },
   "outputs": [],
   "source": [
    "heart_group2 = pd.read_csv('heart_failure_clinical_records_dataset.csv', header = 0)"
   ]
  },
  {
   "cell_type": "code",
   "execution_count": 3,
   "metadata": {
    "colab": {
     "base_uri": "https://localhost:8080/",
     "height": 254
    },
    "id": "A8h4VBi1AdAR",
    "outputId": "aae6e11c-d1f8-4d10-e3f6-ad4aed5cd512"
   },
   "outputs": [
    {
     "data": {
      "text/html": [
       "<div>\n",
       "<style scoped>\n",
       "    .dataframe tbody tr th:only-of-type {\n",
       "        vertical-align: middle;\n",
       "    }\n",
       "\n",
       "    .dataframe tbody tr th {\n",
       "        vertical-align: top;\n",
       "    }\n",
       "\n",
       "    .dataframe thead th {\n",
       "        text-align: right;\n",
       "    }\n",
       "</style>\n",
       "<table border=\"1\" class=\"dataframe\">\n",
       "  <thead>\n",
       "    <tr style=\"text-align: right;\">\n",
       "      <th></th>\n",
       "      <th>age</th>\n",
       "      <th>anaemia</th>\n",
       "      <th>creatinine_phosphokinase</th>\n",
       "      <th>diabetes</th>\n",
       "      <th>ejection_fraction</th>\n",
       "      <th>high_blood_pressure</th>\n",
       "      <th>platelets</th>\n",
       "      <th>serum_creatinine</th>\n",
       "      <th>serum_sodium</th>\n",
       "      <th>sex</th>\n",
       "      <th>smoking</th>\n",
       "      <th>time</th>\n",
       "      <th>DEATH_EVENT</th>\n",
       "    </tr>\n",
       "  </thead>\n",
       "  <tbody>\n",
       "    <tr>\n",
       "      <th>0</th>\n",
       "      <td>75.0</td>\n",
       "      <td>0</td>\n",
       "      <td>582</td>\n",
       "      <td>0</td>\n",
       "      <td>20</td>\n",
       "      <td>1</td>\n",
       "      <td>265000.00</td>\n",
       "      <td>1.9</td>\n",
       "      <td>130</td>\n",
       "      <td>1</td>\n",
       "      <td>0</td>\n",
       "      <td>4</td>\n",
       "      <td>1</td>\n",
       "    </tr>\n",
       "    <tr>\n",
       "      <th>1</th>\n",
       "      <td>55.0</td>\n",
       "      <td>0</td>\n",
       "      <td>7861</td>\n",
       "      <td>0</td>\n",
       "      <td>38</td>\n",
       "      <td>0</td>\n",
       "      <td>263358.03</td>\n",
       "      <td>1.1</td>\n",
       "      <td>136</td>\n",
       "      <td>1</td>\n",
       "      <td>0</td>\n",
       "      <td>6</td>\n",
       "      <td>1</td>\n",
       "    </tr>\n",
       "    <tr>\n",
       "      <th>2</th>\n",
       "      <td>65.0</td>\n",
       "      <td>0</td>\n",
       "      <td>146</td>\n",
       "      <td>0</td>\n",
       "      <td>20</td>\n",
       "      <td>0</td>\n",
       "      <td>162000.00</td>\n",
       "      <td>1.3</td>\n",
       "      <td>129</td>\n",
       "      <td>1</td>\n",
       "      <td>1</td>\n",
       "      <td>7</td>\n",
       "      <td>1</td>\n",
       "    </tr>\n",
       "    <tr>\n",
       "      <th>3</th>\n",
       "      <td>50.0</td>\n",
       "      <td>1</td>\n",
       "      <td>111</td>\n",
       "      <td>0</td>\n",
       "      <td>20</td>\n",
       "      <td>0</td>\n",
       "      <td>210000.00</td>\n",
       "      <td>1.9</td>\n",
       "      <td>137</td>\n",
       "      <td>1</td>\n",
       "      <td>0</td>\n",
       "      <td>7</td>\n",
       "      <td>1</td>\n",
       "    </tr>\n",
       "    <tr>\n",
       "      <th>4</th>\n",
       "      <td>65.0</td>\n",
       "      <td>1</td>\n",
       "      <td>160</td>\n",
       "      <td>1</td>\n",
       "      <td>20</td>\n",
       "      <td>0</td>\n",
       "      <td>327000.00</td>\n",
       "      <td>2.7</td>\n",
       "      <td>116</td>\n",
       "      <td>0</td>\n",
       "      <td>0</td>\n",
       "      <td>8</td>\n",
       "      <td>1</td>\n",
       "    </tr>\n",
       "    <tr>\n",
       "      <th>5</th>\n",
       "      <td>90.0</td>\n",
       "      <td>1</td>\n",
       "      <td>47</td>\n",
       "      <td>0</td>\n",
       "      <td>40</td>\n",
       "      <td>1</td>\n",
       "      <td>204000.00</td>\n",
       "      <td>2.1</td>\n",
       "      <td>132</td>\n",
       "      <td>1</td>\n",
       "      <td>1</td>\n",
       "      <td>8</td>\n",
       "      <td>1</td>\n",
       "    </tr>\n",
       "  </tbody>\n",
       "</table>\n",
       "</div>"
      ],
      "text/plain": [
       "    age  anaemia  creatinine_phosphokinase  diabetes  ejection_fraction  \\\n",
       "0  75.0        0                       582         0                 20   \n",
       "1  55.0        0                      7861         0                 38   \n",
       "2  65.0        0                       146         0                 20   \n",
       "3  50.0        1                       111         0                 20   \n",
       "4  65.0        1                       160         1                 20   \n",
       "5  90.0        1                        47         0                 40   \n",
       "\n",
       "   high_blood_pressure  platelets  serum_creatinine  serum_sodium  sex  \\\n",
       "0                    1  265000.00               1.9           130    1   \n",
       "1                    0  263358.03               1.1           136    1   \n",
       "2                    0  162000.00               1.3           129    1   \n",
       "3                    0  210000.00               1.9           137    1   \n",
       "4                    0  327000.00               2.7           116    0   \n",
       "5                    1  204000.00               2.1           132    1   \n",
       "\n",
       "   smoking  time  DEATH_EVENT  \n",
       "0        0     4            1  \n",
       "1        0     6            1  \n",
       "2        1     7            1  \n",
       "3        0     7            1  \n",
       "4        0     8            1  \n",
       "5        1     8            1  "
      ]
     },
     "execution_count": 3,
     "metadata": {},
     "output_type": "execute_result"
    }
   ],
   "source": [
    "heart_group2.head(6)"
   ]
  },
  {
   "cell_type": "code",
   "execution_count": 4,
   "metadata": {
    "colab": {
     "base_uri": "https://localhost:8080/"
    },
    "id": "q_rP86CFAdLk",
    "outputId": "9210e3c3-ad31-4ec3-cc8c-3004419b009e"
   },
   "outputs": [
    {
     "name": "stdout",
     "output_type": "stream",
     "text": [
      "<class 'pandas.core.frame.DataFrame'>\n",
      "RangeIndex: 299 entries, 0 to 298\n",
      "Data columns (total 13 columns):\n",
      " #   Column                    Non-Null Count  Dtype   \n",
      "---  ------                    --------------  -----   \n",
      " 0   age                       299 non-null    float64 \n",
      " 1   anaemia                   299 non-null    category\n",
      " 2   creatinine_phosphokinase  299 non-null    int64   \n",
      " 3   diabetes                  299 non-null    category\n",
      " 4   ejection_fraction         299 non-null    int64   \n",
      " 5   high_blood_pressure       299 non-null    category\n",
      " 6   platelets                 299 non-null    float64 \n",
      " 7   serum_creatinine          299 non-null    float64 \n",
      " 8   serum_sodium              299 non-null    int64   \n",
      " 9   sex                       299 non-null    category\n",
      " 10  smoking                   299 non-null    category\n",
      " 11  time                      299 non-null    int64   \n",
      " 12  DEATH_EVENT               299 non-null    category\n",
      "dtypes: category(6), float64(3), int64(4)\n",
      "memory usage: 19.0 KB\n"
     ]
    }
   ],
   "source": [
    "heart_group2.anaemia = heart_group2.anaemia.astype('category')\n",
    "heart_group2.diabetes = heart_group2.diabetes.astype('category')\n",
    "heart_group2.high_blood_pressure = heart_group2.high_blood_pressure.astype('category')\n",
    "heart_group2.sex = heart_group2.sex.astype('category')\n",
    "heart_group2.smoking = heart_group2.smoking.astype('category')\n",
    "heart_group2.DEATH_EVENT = heart_group2.DEATH_EVENT.astype('category')\n",
    "\n",
    "heart_group2.info()"
   ]
  },
  {
   "cell_type": "markdown",
   "metadata": {
    "id": "3TY1FTHjAq8m"
   },
   "source": [
    "### Describe the Datatset - Heart Failure"
   ]
  },
  {
   "cell_type": "code",
   "execution_count": 5,
   "metadata": {
    "colab": {
     "base_uri": "https://localhost:8080/",
     "height": 297
    },
    "id": "JkMlh0I9Anip",
    "outputId": "696cc921-4a42-4169-bb5b-eb44d4d70fd1"
   },
   "outputs": [
    {
     "data": {
      "text/html": [
       "<div>\n",
       "<style scoped>\n",
       "    .dataframe tbody tr th:only-of-type {\n",
       "        vertical-align: middle;\n",
       "    }\n",
       "\n",
       "    .dataframe tbody tr th {\n",
       "        vertical-align: top;\n",
       "    }\n",
       "\n",
       "    .dataframe thead th {\n",
       "        text-align: right;\n",
       "    }\n",
       "</style>\n",
       "<table border=\"1\" class=\"dataframe\">\n",
       "  <thead>\n",
       "    <tr style=\"text-align: right;\">\n",
       "      <th></th>\n",
       "      <th>age</th>\n",
       "      <th>creatinine_phosphokinase</th>\n",
       "      <th>ejection_fraction</th>\n",
       "      <th>platelets</th>\n",
       "      <th>serum_creatinine</th>\n",
       "      <th>serum_sodium</th>\n",
       "      <th>time</th>\n",
       "    </tr>\n",
       "  </thead>\n",
       "  <tbody>\n",
       "    <tr>\n",
       "      <th>count</th>\n",
       "      <td>299.000000</td>\n",
       "      <td>299.000000</td>\n",
       "      <td>299.000000</td>\n",
       "      <td>299.000000</td>\n",
       "      <td>299.00000</td>\n",
       "      <td>299.000000</td>\n",
       "      <td>299.000000</td>\n",
       "    </tr>\n",
       "    <tr>\n",
       "      <th>mean</th>\n",
       "      <td>60.833893</td>\n",
       "      <td>581.839465</td>\n",
       "      <td>38.083612</td>\n",
       "      <td>263358.029264</td>\n",
       "      <td>1.39388</td>\n",
       "      <td>136.625418</td>\n",
       "      <td>130.260870</td>\n",
       "    </tr>\n",
       "    <tr>\n",
       "      <th>std</th>\n",
       "      <td>11.894809</td>\n",
       "      <td>970.287881</td>\n",
       "      <td>11.834841</td>\n",
       "      <td>97804.236869</td>\n",
       "      <td>1.03451</td>\n",
       "      <td>4.412477</td>\n",
       "      <td>77.614208</td>\n",
       "    </tr>\n",
       "    <tr>\n",
       "      <th>min</th>\n",
       "      <td>40.000000</td>\n",
       "      <td>23.000000</td>\n",
       "      <td>14.000000</td>\n",
       "      <td>25100.000000</td>\n",
       "      <td>0.50000</td>\n",
       "      <td>113.000000</td>\n",
       "      <td>4.000000</td>\n",
       "    </tr>\n",
       "    <tr>\n",
       "      <th>25%</th>\n",
       "      <td>51.000000</td>\n",
       "      <td>116.500000</td>\n",
       "      <td>30.000000</td>\n",
       "      <td>212500.000000</td>\n",
       "      <td>0.90000</td>\n",
       "      <td>134.000000</td>\n",
       "      <td>73.000000</td>\n",
       "    </tr>\n",
       "    <tr>\n",
       "      <th>50%</th>\n",
       "      <td>60.000000</td>\n",
       "      <td>250.000000</td>\n",
       "      <td>38.000000</td>\n",
       "      <td>262000.000000</td>\n",
       "      <td>1.10000</td>\n",
       "      <td>137.000000</td>\n",
       "      <td>115.000000</td>\n",
       "    </tr>\n",
       "    <tr>\n",
       "      <th>75%</th>\n",
       "      <td>70.000000</td>\n",
       "      <td>582.000000</td>\n",
       "      <td>45.000000</td>\n",
       "      <td>303500.000000</td>\n",
       "      <td>1.40000</td>\n",
       "      <td>140.000000</td>\n",
       "      <td>203.000000</td>\n",
       "    </tr>\n",
       "    <tr>\n",
       "      <th>max</th>\n",
       "      <td>95.000000</td>\n",
       "      <td>7861.000000</td>\n",
       "      <td>80.000000</td>\n",
       "      <td>850000.000000</td>\n",
       "      <td>9.40000</td>\n",
       "      <td>148.000000</td>\n",
       "      <td>285.000000</td>\n",
       "    </tr>\n",
       "  </tbody>\n",
       "</table>\n",
       "</div>"
      ],
      "text/plain": [
       "              age  creatinine_phosphokinase  ejection_fraction      platelets  \\\n",
       "count  299.000000                299.000000         299.000000     299.000000   \n",
       "mean    60.833893                581.839465          38.083612  263358.029264   \n",
       "std     11.894809                970.287881          11.834841   97804.236869   \n",
       "min     40.000000                 23.000000          14.000000   25100.000000   \n",
       "25%     51.000000                116.500000          30.000000  212500.000000   \n",
       "50%     60.000000                250.000000          38.000000  262000.000000   \n",
       "75%     70.000000                582.000000          45.000000  303500.000000   \n",
       "max     95.000000               7861.000000          80.000000  850000.000000   \n",
       "\n",
       "       serum_creatinine  serum_sodium        time  \n",
       "count         299.00000    299.000000  299.000000  \n",
       "mean            1.39388    136.625418  130.260870  \n",
       "std             1.03451      4.412477   77.614208  \n",
       "min             0.50000    113.000000    4.000000  \n",
       "25%             0.90000    134.000000   73.000000  \n",
       "50%             1.10000    137.000000  115.000000  \n",
       "75%             1.40000    140.000000  203.000000  \n",
       "max             9.40000    148.000000  285.000000  "
      ]
     },
     "execution_count": 5,
     "metadata": {},
     "output_type": "execute_result"
    }
   ],
   "source": [
    "heart_group2.describe()"
   ]
  },
  {
   "cell_type": "markdown",
   "metadata": {
    "id": "bTu8wv8rA8m5"
   },
   "source": [
    "### Correlation Plot with numerical variables"
   ]
  },
  {
   "cell_type": "code",
   "execution_count": 6,
   "metadata": {
    "colab": {
     "base_uri": "https://localhost:8080/",
     "height": 785
    },
    "id": "VmYwbaqIAnll",
    "outputId": "ea67ef44-f2ce-4c06-c7c1-18c4d0d67561"
   },
   "outputs": [
    {
     "data": {
      "image/png": "[encoded data removed]",
      "text/plain": [
       "<Figure size 936x936 with 2 Axes>"
      ]
     },
     "metadata": {
      "needs_background": "light"
     },
     "output_type": "display_data"
    }
   ],
   "source": [
    "from matplotlib import rcParams\n",
    "\n",
    "## Exclude the categorical variables:\n",
    "categorical = ['anaemia','diabetes','high_blood_pressure','sex','smoking','DEATH_EVENT']\n",
    "numerical = [item for item in list(heart_group2.columns) if item not in categorical]\n",
    "\n",
    "rcParams['figure.figsize'] = 13,13\n",
    "correlation_plot_group2 = heart_group2.loc[:,numerical].corr()\n",
    "ax = sns.heatmap(\n",
    "    correlation_plot_group2, \n",
    "    vmin=-1, vmax=1, center=0,\n",
    "    cmap=sns.diverging_palette(870, 30, sep=25, n=220),\n",
    "    square=True\n",
    ")\n",
    "ax.set_xticklabels(\n",
    "    ax.get_xticklabels(),\n",
    "    rotation=45,\n",
    "    horizontalalignment='right'\n",
    ");\n",
    "\n",
    "\n",
    "plt.title('Heatmap')\n",
    "plt.savefig(\"app\\static\\heatmap.svg\")"
   ]
  },
  {
   "cell_type": "markdown",
   "metadata": {
    "id": "TZx4UIUMBJ2g"
   },
   "source": [
    "There is no heavily correlated variables according to the plot. Thus, it is not necessary to delete any variable for further analysis. "
   ]
  },
  {
   "cell_type": "markdown",
   "metadata": {
    "id": "lyH5tWSdTerk"
   },
   "source": [
    "### EDA correlationplot with categorical variables"
   ]
  },
  {
   "cell_type": "code",
   "execution_count": 9,
   "metadata": {
    "colab": {
     "base_uri": "https://localhost:8080/",
     "height": 297
    },
    "id": "bEvPwe2wzR_o",
    "outputId": "75923665-874a-4583-8141-42682e4b5cd4"
   },
   "outputs": [
    {
     "data": {
      "image/png": "[encoded data removed]",
      "text/plain": [
       "<Figure size 453.45x288 with 2 Axes>"
      ]
     },
     "metadata": {
      "needs_background": "light"
     },
     "output_type": "display_data"
    }
   ],
   "source": [
    "sns.catplot(x=\"anaemia\", hue=\"smoking\", col=\"sex\",\n",
    "                data=heart_group2, kind=\"count\",palette=\"Set1\",\n",
    "                height=4, aspect=.7);\n",
    "\n",
    "\n",
    "#plt.title('Barplot by Sex and Anaemia')\n",
    "plt.savefig(\"app\\static\\barplot1.svg\")"
   ]
  },
  {
   "cell_type": "code",
   "execution_count": 10,
   "metadata": {
    "colab": {
     "base_uri": "https://localhost:8080/",
     "height": 585
    },
    "id": "2Src8HAM3UFt",
    "outputId": "8bc31789-e37e-4f34-b5a2-4646abd5db22"
   },
   "outputs": [
    {
     "data": {
      "image/png": "[encoded data removed]",
      "text/plain": [
       "<Figure size 454.2x576 with 4 Axes>"
      ]
     },
     "metadata": {
      "needs_background": "light"
     },
     "output_type": "display_data"
    }
   ],
   "source": [
    "sns.catplot(x=\"high_blood_pressure\", hue=\"diabetes\", col=\"sex\", row=\"anaemia\",\n",
    "                data=heart_group2, kind=\"count\",palette=\"Set2\",\n",
    "                height=4, aspect=.7);\n",
    "\n",
    "#plt.title('Barplot by Sex and Anaemia')\n",
    "plt.savefig(\"app\\static\\barplot2.svg\")"
   ]
  },
  {
   "cell_type": "code",
   "execution_count": 11,
   "metadata": {
    "colab": {
     "base_uri": "https://localhost:8080/",
     "height": 585
    },
    "id": "Exz5xAhH2FeW",
    "outputId": "3395cedc-6db8-4ba8-9d29-b8fa1e8284e8"
   },
   "outputs": [
    {
     "data": {
      "image/png": "[encoded data removed]",
      "text/plain": [
       "<Figure size 454.2x576 with 4 Axes>"
      ]
     },
     "metadata": {
      "needs_background": "light"
     },
     "output_type": "display_data"
    }
   ],
   "source": [
    "sns.catplot(x=\"high_blood_pressure\", hue=\"diabetes\", col=\"sex\", row=\"smoking\",\n",
    "                data=heart_group2, kind=\"count\",palette=\"Set3\",\n",
    "                height=4, aspect=.7);\n",
    "\n",
    "plt.savefig(\"app\\static\\barplot3.svg\")"
   ]
  },
  {
   "cell_type": "markdown",
   "metadata": {
    "id": "QK_eXYIXBcxl"
   },
   "source": [
    "### Scatter Plot "
   ]
  },
  {
   "cell_type": "code",
   "execution_count": 13,
   "metadata": {
    "colab": {
     "base_uri": "https://localhost:8080/",
     "height": 542
    },
    "id": "fr8Em-exAnrj",
    "outputId": "79327d58-0331-4f1c-9ffc-09fc2e02ec02"
   },
   "outputs": [
    {
     "data": {
      "application/vnd.plotly.v1+json": {
       "config": {
        "plotlyServerURL": "https://plot.ly"
       },
       "data": [
        {
         "diagonal": {
          "visible": false
         },
         "dimensions": [
          {
           "axis": {
            "matches": true
           },
           "label": "age",
           "values": [
            75,
            55,
            65,
            50,
            65,
            90,
            75,
            60,
            65,
            80,
            75,
            62,
            45,
            50,
            82,
            87,
            45,
            70,
            48,
            65,
            68,
            75,
            80,
            95,
            70,
            58,
            82,
            94,
            85,
            50,
            65,
            69,
            90,
            82,
            60,
            70,
            50,
            70,
            60,
            50,
            51,
            60,
            80,
            57,
            68,
            53,
            60,
            70,
            60,
            95,
            49,
            72,
            45,
            50,
            45,
            60,
            42,
            72,
            70,
            65,
            85,
            69,
            60,
            60,
            59,
            60,
            72,
            85,
            70,
            86,
            60,
            46,
            80,
            72,
            75,
            72,
            50,
            45,
            80,
            59,
            59,
            65,
            75,
            58,
            60.667,
            50,
            60,
            45,
            77,
            48,
            54,
            73,
            60,
            55,
            65,
            55
           ]
          },
          {
           "axis": {
            "matches": true
           },
           "label": "creatinine phosphokinase",
           "values": [
            582,
            7861,
            146,
            111,
            160,
            47,
            246,
            315,
            157,
            123,
            81,
            231,
            981,
            168,
            379,
            149,
            582,
            125,
            582,
            128,
            220,
            582,
            148,
            112,
            122,
            60,
            70,
            582,
            23,
            249,
            94,
            582,
            60,
            855,
            235,
            582,
            124,
            571,
            588,
            582,
            1380,
            582,
            553,
            129,
            577,
            91,
            3964,
            69,
            260,
            371,
            789,
            364,
            7702,
            318,
            582,
            68,
            250,
            110,
            161,
            113,
            5882,
            582,
            47,
            76,
            280,
            154,
            328,
            129,
            143,
            582,
            582,
            168,
            805,
            943,
            582,
            233,
            2334,
            2442,
            776,
            66,
            176,
            395,
            99,
            145,
            104,
            582,
            1896,
            582,
            418,
            131,
            427,
            582,
            166,
            2017,
            258,
            1199
           ]
          },
          {
           "axis": {
            "matches": true
           },
           "label": "ejection fraction",
           "values": [
            20,
            38,
            20,
            20,
            20,
            40,
            15,
            60,
            65,
            35,
            38,
            25,
            30,
            38,
            50,
            38,
            14,
            25,
            55,
            30,
            35,
            30,
            38,
            40,
            45,
            38,
            30,
            38,
            45,
            35,
            50,
            35,
            50,
            50,
            38,
            20,
            30,
            45,
            60,
            38,
            25,
            38,
            20,
            30,
            25,
            20,
            62,
            50,
            38,
            30,
            20,
            20,
            25,
            40,
            35,
            20,
            15,
            25,
            25,
            25,
            35,
            20,
            20,
            25,
            25,
            25,
            30,
            60,
            60,
            38,
            40,
            17,
            38,
            25,
            30,
            45,
            35,
            30,
            38,
            20,
            25,
            25,
            38,
            25,
            30,
            50,
            25,
            20,
            45,
            30,
            70,
            20,
            30,
            25,
            25,
            20
           ]
          },
          {
           "axis": {
            "matches": true
           },
           "label": "platelets",
           "values": [
            265000,
            263358.03,
            162000,
            210000,
            327000,
            204000,
            127000,
            454000,
            263358.03,
            388000,
            368000,
            253000,
            136000,
            276000,
            47000,
            262000,
            166000,
            237000,
            87000,
            297000,
            289000,
            263358.03,
            149000,
            196000,
            284000,
            153000,
            200000,
            263358.03,
            360000,
            319000,
            188000,
            228000,
            226000,
            321000,
            329000,
            263358.03,
            153000,
            185000,
            194000,
            310000,
            271000,
            451000,
            140000,
            395000,
            166000,
            418000,
            263358.03,
            351000,
            255000,
            461000,
            319000,
            254000,
            390000,
            216000,
            385000,
            119000,
            213000,
            274000,
            244000,
            497000,
            243000,
            266000,
            204000,
            196000,
            302000,
            210000,
            621000,
            306000,
            351000,
            263358.03,
            217000,
            271000,
            263358.03,
            338000,
            225000,
            235000,
            75000,
            334000,
            192000,
            70000,
            221000,
            265000,
            224000,
            219000,
            389000,
            153000,
            365000,
            126000,
            223000,
            244000,
            151000,
            263358.03,
            62000,
            314000,
            198000,
            263358.03
           ]
          },
          {
           "axis": {
            "matches": true
           },
           "label": "serum creatinine",
           "values": [
            1.9,
            1.1,
            1.3,
            1.9,
            2.7,
            2.1,
            1.2,
            1.1,
            1.5,
            9.4,
            4,
            0.9,
            1.1,
            1.1,
            1.3,
            0.9,
            0.8,
            1,
            1.9,
            1.6,
            0.9,
            1.83,
            1.9,
            1,
            1.3,
            5.8,
            1.2,
            1.83,
            3,
            1,
            1,
            3.5,
            1,
            1,
            3,
            1.83,
            1.2,
            1.2,
            1.1,
            1.9,
            0.9,
            0.6,
            4.4,
            1,
            1,
            1.4,
            6.8,
            1,
            2.2,
            2,
            1.1,
            1.3,
            1,
            2.3,
            1,
            2.9,
            1.3,
            1,
            1.2,
            1.83,
            1,
            1.2,
            0.7,
            2.5,
            1,
            1.7,
            1.7,
            1.2,
            1.3,
            1.83,
            3.7,
            2.1,
            1.1,
            1.7,
            1.83,
            2.5,
            0.9,
            1.1,
            1.3,
            2.4,
            1,
            1.2,
            2.5,
            1.2,
            1.5,
            0.6,
            2.1,
            1.6,
            1.8,
            1.6,
            9,
            1.83,
            1.7,
            1.1,
            1.4,
            1.83
           ]
          },
          {
           "axis": {
            "matches": true
           },
           "label": "serum sodium",
           "values": [
            130,
            136,
            129,
            137,
            116,
            132,
            137,
            131,
            138,
            133,
            131,
            140,
            137,
            137,
            136,
            140,
            127,
            140,
            121,
            136,
            140,
            134,
            144,
            138,
            136,
            134,
            132,
            134,
            132,
            128,
            140,
            134,
            134,
            145,
            142,
            134,
            136,
            139,
            142,
            135,
            130,
            138,
            133,
            140,
            138,
            139,
            146,
            134,
            132,
            132,
            136,
            136,
            139,
            131,
            145,
            127,
            136,
            140,
            142,
            135,
            132,
            134,
            139,
            132,
            141,
            135,
            138,
            132,
            137,
            134,
            134,
            124,
            134,
            139,
            134,
            135,
            142,
            139,
            135,
            134,
            136,
            136,
            134,
            137,
            136,
            134,
            144,
            135,
            145,
            130,
            137,
            134,
            127,
            138,
            129,
            134
           ]
          },
          {
           "axis": {
            "matches": true
           },
           "label": "time",
           "values": [
            4,
            6,
            7,
            7,
            8,
            8,
            10,
            10,
            10,
            10,
            10,
            10,
            11,
            11,
            13,
            14,
            14,
            15,
            15,
            20,
            20,
            23,
            23,
            24,
            26,
            26,
            26,
            27,
            28,
            28,
            29,
            30,
            30,
            30,
            30,
            31,
            32,
            33,
            33,
            35,
            38,
            40,
            41,
            42,
            43,
            43,
            43,
            44,
            45,
            50,
            55,
            59,
            60,
            60,
            61,
            64,
            65,
            65,
            66,
            67,
            72,
            73,
            73,
            77,
            78,
            82,
            88,
            90,
            90,
            95,
            96,
            100,
            109,
            111,
            113,
            115,
            126,
            129,
            130,
            135,
            150,
            154,
            162,
            170,
            171,
            172,
            172,
            180,
            180,
            193,
            196,
            198,
            207,
            214,
            235,
            241
           ]
          },
          {
           "axis": {
            "matches": true
           },
           "label": "DEATH EVENT",
           "values": [
            1,
            1,
            1,
            1,
            1,
            1,
            1,
            1,
            1,
            1,
            1,
            1,
            1,
            1,
            1,
            1,
            1,
            1,
            1,
            1,
            1,
            1,
            1,
            1,
            1,
            1,
            1,
            1,
            1,
            1,
            1,
            1,
            1,
            1,
            1,
            1,
            1,
            1,
            1,
            1,
            1,
            1,
            1,
            1,
            1,
            1,
            1,
            1,
            1,
            1,
            1,
            1,
            1,
            1,
            1,
            1,
            1,
            1,
            1,
            1,
            1,
            1,
            1,
            1,
            1,
            1,
            1,
            1,
            1,
            1,
            1,
            1,
            1,
            1,
            1,
            1,
            1,
            1,
            1,
            1,
            1,
            1,
            1,
            1,
            1,
            1,
            1,
            1,
            1,
            1,
            1,
            1,
            1,
            1,
            1,
            1
           ]
          }
         ],
         "hovertemplate": "DEATH EVENT=1<br>%{xaxis.title.text}=%{x}<br>%{yaxis.title.text}=%{y}<extra></extra>",
         "legendgroup": "1",
         "marker": {
          "color": "#636efa",
          "symbol": "circle"
         },
         "name": "1",
         "showlegend": true,
         "type": "splom"
        },
        {
         "diagonal": {
          "visible": false
         },
         "dimensions": [
          {
           "axis": {
            "matches": true
           },
           "label": "age",
           "values": [
            49,
            65,
            53,
            50,
            60,
            72,
            70,
            60,
            55,
            45,
            41,
            58,
            65,
            70,
            42,
            75,
            55,
            70,
            67,
            79,
            51,
            55,
            65,
            44,
            57,
            70,
            60,
            42,
            58,
            58,
            63,
            70,
            60,
            63,
            65,
            75,
            80,
            42,
            60,
            55,
            45,
            63,
            45,
            55,
            50,
            60,
            58,
            60,
            85,
            65,
            60,
            66,
            60,
            60,
            43,
            58,
            61,
            53,
            53,
            60,
            46,
            63,
            81,
            75,
            65,
            68,
            62,
            50,
            46,
            50,
            61,
            50,
            52,
            64,
            60,
            62,
            50,
            50,
            65,
            60,
            52,
            50,
            85,
            59,
            66,
            45,
            63,
            53,
            65,
            70,
            51,
            52,
            70,
            50,
            65,
            60,
            69,
            49,
            63,
            55,
            40,
            60.667,
            40,
            80,
            64,
            50,
            73,
            45,
            65,
            50,
            60,
            63,
            45,
            70,
            60,
            78,
            50,
            40,
            85,
            60,
            49,
            70,
            50,
            78,
            65,
            73,
            70,
            68,
            55,
            65,
            42,
            47,
            58,
            75,
            58,
            55,
            65,
            72,
            70,
            40,
            53,
            53,
            77,
            75,
            70,
            65,
            55,
            70,
            65,
            40,
            73,
            54,
            61,
            64,
            40,
            53,
            50,
            55,
            50,
            70,
            53,
            52,
            65,
            58,
            45,
            53,
            55,
            62,
            68,
            61,
            50,
            56,
            45,
            40,
            44,
            51,
            67,
            42,
            60,
            45,
            70,
            70,
            50,
            55,
            70,
            70,
            42,
            65,
            50,
            55,
            60,
            45,
            65,
            90,
            45,
            60,
            52,
            63,
            62,
            55,
            45,
            45,
            50
           ]
          },
          {
           "axis": {
            "matches": true
           },
           "label": "creatinine phosphokinase",
           "values": [
            80,
            52,
            63,
            159,
            2656,
            127,
            75,
            607,
            109,
            582,
            148,
            582,
            224,
            92,
            102,
            203,
            336,
            69,
            582,
            55,
            78,
            47,
            68,
            84,
            115,
            66,
            897,
            582,
            144,
            133,
            514,
            59,
            156,
            61,
            305,
            582,
            898,
            5209,
            53,
            748,
            1876,
            936,
            292,
            60,
            369,
            754,
            400,
            96,
            102,
            113,
            737,
            68,
            96,
            582,
            358,
            200,
            248,
            270,
            1808,
            1082,
            719,
            193,
            4540,
            582,
            59,
            646,
            281,
            1548,
            291,
            482,
            84,
            185,
            132,
            1610,
            2261,
            30,
            115,
            1846,
            335,
            231,
            58,
            250,
            910,
            129,
            72,
            130,
            582,
            196,
            582,
            835,
            582,
            3966,
            171,
            115,
            198,
            95,
            1419,
            69,
            122,
            835,
            478,
            151,
            244,
            582,
            62,
            121,
            231,
            582,
            167,
            582,
            1211,
            1767,
            308,
            97,
            59,
            64,
            167,
            101,
            212,
            2281,
            972,
            212,
            582,
            224,
            135,
            582,
            1202,
            1021,
            582,
            118,
            86,
            582,
            582,
            675,
            57,
            2794,
            56,
            211,
            93,
            129,
            707,
            582,
            109,
            119,
            232,
            720,
            180,
            81,
            582,
            90,
            1185,
            582,
            80,
            143,
            624,
            207,
            2522,
            572,
            245,
            88,
            446,
            191,
            326,
            132,
            66,
            56,
            66,
            655,
            157,
            582,
            298,
            135,
            582,
            582,
            582,
            582,
            213,
            64,
            257,
            582,
            618,
            582,
            1051,
            84,
            2695,
            582,
            64,
            1688,
            54,
            170,
            253,
            582,
            892,
            337,
            615,
            320,
            190,
            103,
            61,
            1820,
            2060,
            2413,
            196
           ]
          },
          {
           "axis": {
            "matches": true
           },
           "label": "ejection fraction",
           "values": [
            30,
            25,
            60,
            30,
            30,
            50,
            35,
            40,
            35,
            80,
            40,
            35,
            50,
            60,
            40,
            38,
            45,
            40,
            50,
            50,
            50,
            35,
            60,
            40,
            25,
            45,
            45,
            60,
            38,
            60,
            25,
            60,
            25,
            40,
            25,
            45,
            25,
            30,
            50,
            45,
            35,
            38,
            35,
            35,
            25,
            40,
            40,
            60,
            60,
            60,
            60,
            38,
            38,
            30,
            50,
            60,
            30,
            35,
            60,
            45,
            40,
            60,
            35,
            40,
            60,
            25,
            35,
            30,
            35,
            30,
            40,
            30,
            30,
            60,
            35,
            60,
            45,
            35,
            35,
            25,
            35,
            25,
            50,
            45,
            40,
            35,
            40,
            60,
            40,
            35,
            35,
            40,
            60,
            20,
            35,
            60,
            40,
            50,
            60,
            40,
            30,
            40,
            45,
            35,
            60,
            40,
            30,
            38,
            30,
            20,
            35,
            45,
            60,
            60,
            25,
            40,
            45,
            40,
            38,
            40,
            35,
            17,
            62,
            50,
            35,
            35,
            50,
            35,
            35,
            50,
            35,
            25,
            25,
            60,
            25,
            35,
            25,
            25,
            35,
            35,
            38,
            45,
            50,
            50,
            30,
            40,
            45,
            35,
            30,
            35,
            40,
            38,
            38,
            25,
            35,
            40,
            30,
            35,
            45,
            35,
            60,
            30,
            38,
            38,
            25,
            50,
            40,
            40,
            60,
            38,
            35,
            38,
            38,
            35,
            30,
            40,
            38,
            40,
            30,
            38,
            35,
            38,
            30,
            38,
            40,
            40,
            30,
            38,
            40,
            40,
            35,
            55,
            35,
            38,
            55,
            35,
            38,
            35,
            38,
            38,
            60,
            38,
            45
           ]
          },
          {
           "axis": {
            "matches": true
           },
           "label": "platelets",
           "values": [
            427000,
            276000,
            368000,
            302000,
            305000,
            218000,
            223000,
            216000,
            254000,
            263358.03,
            374000,
            122000,
            149000,
            317000,
            237000,
            283000,
            324000,
            293000,
            263358.03,
            172000,
            406000,
            173000,
            304000,
            235000,
            181000,
            249000,
            297000,
            263358.03,
            327000,
            219000,
            254000,
            255000,
            318000,
            221000,
            298000,
            263358.03,
            149000,
            226000,
            286000,
            263000,
            226000,
            304000,
            850000,
            228000,
            252000,
            328000,
            164000,
            271000,
            507000,
            203000,
            210000,
            162000,
            228000,
            127000,
            237000,
            300000,
            267000,
            227000,
            249000,
            250000,
            263358.03,
            295000,
            231000,
            263358.03,
            172000,
            305000,
            221000,
            211000,
            348000,
            329000,
            229000,
            266000,
            218000,
            242000,
            228000,
            244000,
            184000,
            263358.03,
            235000,
            194000,
            277000,
            262000,
            235000,
            362000,
            242000,
            174000,
            448000,
            220000,
            270000,
            305000,
            263358.03,
            325000,
            176000,
            189000,
            281000,
            337000,
            105000,
            132000,
            267000,
            279000,
            303000,
            201000,
            275000,
            350000,
            309000,
            260000,
            160000,
            263358.03,
            259000,
            279000,
            263358.03,
            73000,
            377000,
            220000,
            212000,
            277000,
            362000,
            226000,
            186000,
            283000,
            268000,
            389000,
            147000,
            481000,
            290000,
            203000,
            358000,
            271000,
            371000,
            194000,
            365000,
            130000,
            504000,
            265000,
            189000,
            141000,
            237000,
            274000,
            185000,
            255000,
            330000,
            305000,
            406000,
            248000,
            173000,
            257000,
            263358.03,
            533000,
            249000,
            255000,
            220000,
            264000,
            282000,
            246000,
            301000,
            223000,
            404000,
            231000,
            274000,
            236000,
            263358.03,
            334000,
            294000,
            253000,
            233000,
            308000,
            203000,
            283000,
            208000,
            147000,
            362000,
            133000,
            302000,
            222000,
            263358.03,
            221000,
            215000,
            189000,
            150000,
            422000,
            327000,
            25100,
            232000,
            451000,
            241000,
            51000,
            215000,
            263358.03,
            279000,
            336000,
            279000,
            543000,
            263358.03,
            390000,
            222000,
            133000,
            382000,
            179000,
            155000,
            270000,
            742000,
            140000,
            395000
           ]
          },
          {
           "axis": {
            "matches": true
           },
           "label": "serum creatinine",
           "values": [
            1,
            1.3,
            0.8,
            1.2,
            2.3,
            1,
            2.7,
            0.6,
            1.1,
            1.18,
            0.8,
            0.9,
            1.3,
            0.8,
            1.2,
            0.6,
            0.9,
            1.7,
            1.18,
            1.8,
            0.7,
            1.1,
            0.8,
            0.7,
            1.1,
            0.8,
            1,
            1.18,
            0.7,
            1,
            1.3,
            1.1,
            1.2,
            1.1,
            1.1,
            1.18,
            1.1,
            1,
            2.3,
            1.3,
            0.9,
            1.1,
            1.3,
            1.2,
            1.6,
            1.2,
            1,
            0.7,
            3.2,
            0.9,
            1.5,
            1,
            0.75,
            0.9,
            1.3,
            0.8,
            0.7,
            3.4,
            0.7,
            6.1,
            1.18,
            1.3,
            1.18,
            1.18,
            0.9,
            2.1,
            1,
            0.8,
            0.9,
            0.9,
            0.9,
            0.7,
            0.7,
            1,
            0.9,
            0.9,
            0.9,
            1.18,
            0.8,
            1.7,
            1.4,
            1,
            1.3,
            1.1,
            1.2,
            0.8,
            0.9,
            0.7,
            1,
            0.8,
            1.5,
            0.9,
            1.1,
            0.8,
            0.9,
            1,
            1,
            1,
            1.2,
            0.7,
            0.9,
            1,
            0.9,
            2.1,
            1.5,
            0.7,
            1.18,
            1.18,
            0.8,
            1,
            1.8,
            0.7,
            1,
            0.9,
            3.5,
            0.7,
            1,
            0.8,
            0.9,
            1,
            0.8,
            1,
            0.8,
            1.4,
            0.8,
            1.3,
            0.9,
            1.1,
            0.7,
            1.1,
            1.1,
            0.8,
            1,
            1.4,
            1.3,
            1,
            5,
            1.2,
            1.1,
            0.9,
            1.4,
            1.1,
            1.1,
            1.1,
            1.2,
            1,
            1.18,
            1.3,
            1.3,
            1.1,
            0.9,
            1.8,
            1.4,
            2.4,
            1,
            1.2,
            0.5,
            0.8,
            1,
            1.2,
            1,
            1,
            1.7,
            1,
            0.8,
            0.7,
            1,
            0.7,
            1,
            1.2,
            0.9,
            1.7,
            0.9,
            1,
            1.6,
            0.9,
            1.2,
            0.7,
            1,
            0.8,
            1.1,
            1.1,
            0.7,
            1.3,
            1,
            2.7,
            3.8,
            1.1,
            0.8,
            1.2,
            1.7,
            1,
            1.1,
            0.9,
            0.8,
            1.4,
            1,
            0.9,
            1.1,
            1.2,
            0.8,
            1.4,
            1.6
           ]
          },
          {
           "axis": {
            "matches": true
           },
           "label": "serum sodium",
           "values": [
            138,
            137,
            135,
            138,
            137,
            134,
            138,
            138,
            139,
            137,
            140,
            139,
            137,
            140,
            140,
            131,
            140,
            136,
            137,
            133,
            140,
            137,
            140,
            139,
            144,
            136,
            133,
            137,
            142,
            141,
            134,
            136,
            137,
            140,
            141,
            137,
            144,
            140,
            143,
            137,
            138,
            133,
            142,
            135,
            136,
            126,
            139,
            136,
            138,
            140,
            135,
            136,
            140,
            145,
            135,
            137,
            136,
            145,
            138,
            131,
            137,
            145,
            137,
            137,
            137,
            130,
            136,
            138,
            140,
            132,
            141,
            141,
            136,
            137,
            136,
            139,
            134,
            137,
            136,
            140,
            136,
            136,
            134,
            139,
            134,
            139,
            137,
            133,
            138,
            133,
            136,
            140,
            145,
            139,
            137,
            138,
            135,
            140,
            145,
            140,
            136,
            136,
            140,
            134,
            135,
            130,
            142,
            137,
            138,
            134,
            113,
            137,
            136,
            138,
            136,
            137,
            136,
            141,
            136,
            141,
            130,
            136,
            140,
            138,
            134,
            134,
            141,
            134,
            140,
            145,
            139,
            134,
            138,
            125,
            132,
            140,
            130,
            134,
            134,
            137,
            137,
            137,
            137,
            148,
            132,
            136,
            137,
            139,
            136,
            136,
            141,
            134,
            137,
            135,
            142,
            130,
            139,
            143,
            133,
            132,
            139,
            142,
            139,
            139,
            135,
            135,
            138,
            133,
            140,
            141,
            140,
            140,
            140,
            132,
            130,
            134,
            133,
            140,
            137,
            137,
            142,
            140,
            136,
            136,
            137,
            136,
            128,
            138,
            141,
            135,
            140,
            132,
            142,
            144,
            141,
            139,
            140,
            136,
            143,
            139,
            138,
            140,
            136
           ]
          },
          {
           "axis": {
            "matches": true
           },
           "label": "time",
           "values": [
            12,
            16,
            22,
            29,
            30,
            33,
            54,
            54,
            60,
            63,
            68,
            71,
            72,
            74,
            74,
            74,
            74,
            75,
            76,
            78,
            79,
            79,
            79,
            79,
            79,
            80,
            80,
            82,
            83,
            83,
            83,
            85,
            85,
            86,
            87,
            87,
            87,
            87,
            87,
            88,
            88,
            88,
            88,
            90,
            90,
            91,
            91,
            94,
            94,
            94,
            95,
            95,
            95,
            95,
            97,
            104,
            104,
            105,
            106,
            107,
            107,
            107,
            107,
            107,
            107,
            108,
            108,
            108,
            109,
            109,
            110,
            112,
            112,
            113,
            115,
            117,
            118,
            119,
            120,
            120,
            120,
            120,
            121,
            121,
            121,
            121,
            123,
            134,
            140,
            145,
            145,
            146,
            146,
            146,
            146,
            146,
            147,
            147,
            147,
            147,
            148,
            172,
            174,
            174,
            174,
            175,
            180,
            185,
            186,
            186,
            186,
            186,
            186,
            186,
            187,
            187,
            187,
            187,
            187,
            187,
            187,
            188,
            192,
            192,
            194,
            195,
            196,
            197,
            197,
            200,
            201,
            201,
            205,
            205,
            205,
            206,
            207,
            207,
            208,
            209,
            209,
            209,
            209,
            209,
            210,
            210,
            211,
            212,
            212,
            212,
            213,
            213,
            213,
            214,
            214,
            214,
            214,
            215,
            215,
            215,
            215,
            216,
            220,
            230,
            230,
            231,
            233,
            233,
            237,
            237,
            240,
            244,
            244,
            244,
            244,
            244,
            245,
            245,
            245,
            245,
            245,
            246,
            246,
            246,
            247,
            250,
            250,
            250,
            250,
            250,
            250,
            250,
            256,
            256,
            257,
            258,
            258,
            270,
            270,
            271,
            278,
            280,
            285
           ]
          },
          {
           "axis": {
            "matches": true
           },
           "label": "DEATH EVENT",
           "values": [
            0,
            0,
            0,
            0,
            0,
            0,
            0,
            0,
            0,
            0,
            0,
            0,
            0,
            0,
            0,
            0,
            0,
            0,
            0,
            0,
            0,
            0,
            0,
            0,
            0,
            0,
            0,
            0,
            0,
            0,
            0,
            0,
            0,
            0,
            0,
            0,
            0,
            0,
            0,
            0,
            0,
            0,
            0,
            0,
            0,
            0,
            0,
            0,
            0,
            0,
            0,
            0,
            0,
            0,
            0,
            0,
            0,
            0,
            0,
            0,
            0,
            0,
            0,
            0,
            0,
            0,
            0,
            0,
            0,
            0,
            0,
            0,
            0,
            0,
            0,
            0,
            0,
            0,
            0,
            0,
            0,
            0,
            0,
            0,
            0,
            0,
            0,
            0,
            0,
            0,
            0,
            0,
            0,
            0,
            0,
            0,
            0,
            0,
            0,
            0,
            0,
            0,
            0,
            0,
            0,
            0,
            0,
            0,
            0,
            0,
            0,
            0,
            0,
            0,
            0,
            0,
            0,
            0,
            0,
            0,
            0,
            0,
            0,
            0,
            0,
            0,
            0,
            0,
            0,
            0,
            0,
            0,
            0,
            0,
            0,
            0,
            0,
            0,
            0,
            0,
            0,
            0,
            0,
            0,
            0,
            0,
            0,
            0,
            0,
            0,
            0,
            0,
            0,
            0,
            0,
            0,
            0,
            0,
            0,
            0,
            0,
            0,
            0,
            0,
            0,
            0,
            0,
            0,
            0,
            0,
            0,
            0,
            0,
            0,
            0,
            0,
            0,
            0,
            0,
            0,
            0,
            0,
            0,
            0,
            0,
            0,
            0,
            0,
            0,
            0,
            0,
            0,
            0,
            0,
            0,
            0,
            0,
            0,
            0,
            0,
            0,
            0,
            0
           ]
          }
         ],
         "hovertemplate": "DEATH EVENT=0<br>%{xaxis.title.text}=%{x}<br>%{yaxis.title.text}=%{y}<extra></extra>",
         "legendgroup": "0",
         "marker": {
          "color": "#EF553B",
          "symbol": "diamond"
         },
         "name": "0",
         "showlegend": true,
         "type": "splom"
        }
       ],
       "layout": {
        "dragmode": "select",
        "legend": {
         "title": {
          "text": "DEATH EVENT"
         },
         "tracegroupgap": 0
        },
        "template": {
         "data": {
          "bar": [
           {
            "error_x": {
             "color": "#2a3f5f"
            },
            "error_y": {
             "color": "#2a3f5f"
            },
            "marker": {
             "line": {
              "color": "#E5ECF6",
              "width": 0.5
             },
             "pattern": {
              "fillmode": "overlay",
              "size": 10,
              "solidity": 0.2
             }
            },
            "type": "bar"
           }
          ],
          "barpolar": [
           {
            "marker": {
             "line": {
              "color": "#E5ECF6",
              "width": 0.5
             },
             "pattern": {
              "fillmode": "overlay",
              "size": 10,
              "solidity": 0.2
             }
            },
            "type": "barpolar"
           }
          ],
          "carpet": [
           {
            "aaxis": {
             "endlinecolor": "#2a3f5f",
             "gridcolor": "white",
             "linecolor": "white",
             "minorgridcolor": "white",
             "startlinecolor": "#2a3f5f"
            },
            "baxis": {
             "endlinecolor": "#2a3f5f",
             "gridcolor": "white",
             "linecolor": "white",
             "minorgridcolor": "white",
             "startlinecolor": "#2a3f5f"
            },
            "type": "carpet"
           }
          ],
          "choropleth": [
           {
            "colorbar": {
             "outlinewidth": 0,
             "ticks": ""
            },
            "type": "choropleth"
           }
          ],
          "contour": [
           {
            "colorbar": {
             "outlinewidth": 0,
             "ticks": ""
            },
            "colorscale": [
             [
              0,
              "#0d0887"
             ],
             [
              0.1111111111111111,
              "#46039f"
             ],
             [
              0.2222222222222222,
              "#7201a8"
             ],
             [
              0.3333333333333333,
              "#9c179e"
             ],
             [
              0.4444444444444444,
              "#bd3786"
             ],
             [
              0.5555555555555556,
              "#d8576b"
             ],
             [
              0.6666666666666666,
              "#ed7953"
             ],
             [
              0.7777777777777778,
              "#fb9f3a"
             ],
             [
              0.8888888888888888,
              "#fdca26"
             ],
             [
              1,
              "#f0f921"
             ]
            ],
            "type": "contour"
           }
          ],
          "contourcarpet": [
           {
            "colorbar": {
             "outlinewidth": 0,
             "ticks": ""
            },
            "type": "contourcarpet"
           }
          ],
          "heatmap": [
           {
            "colorbar": {
             "outlinewidth": 0,
             "ticks": ""
            },
            "colorscale": [
             [
              0,
              "#0d0887"
             ],
             [
              0.1111111111111111,
              "#46039f"
             ],
             [
              0.2222222222222222,
              "#7201a8"
             ],
             [
              0.3333333333333333,
              "#9c179e"
             ],
             [
              0.4444444444444444,
              "#bd3786"
             ],
             [
              0.5555555555555556,
              "#d8576b"
             ],
             [
              0.6666666666666666,
              "#ed7953"
             ],
             [
              0.7777777777777778,
              "#fb9f3a"
             ],
             [
              0.8888888888888888,
              "#fdca26"
             ],
             [
              1,
              "#f0f921"
             ]
            ],
            "type": "heatmap"
           }
          ],
          "heatmapgl": [
           {
            "colorbar": {
             "outlinewidth": 0,
             "ticks": ""
            },
            "colorscale": [
             [
              0,
              "#0d0887"
             ],
             [
              0.1111111111111111,
              "#46039f"
             ],
             [
              0.2222222222222222,
              "#7201a8"
             ],
             [
              0.3333333333333333,
              "#9c179e"
             ],
             [
              0.4444444444444444,
              "#bd3786"
             ],
             [
              0.5555555555555556,
              "#d8576b"
             ],
             [
              0.6666666666666666,
              "#ed7953"
             ],
             [
              0.7777777777777778,
              "#fb9f3a"
             ],
             [
              0.8888888888888888,
              "#fdca26"
             ],
             [
              1,
              "#f0f921"
             ]
            ],
            "type": "heatmapgl"
           }
          ],
          "histogram": [
           {
            "marker": {
             "pattern": {
              "fillmode": "overlay",
              "size": 10,
              "solidity": 0.2
             }
            },
            "type": "histogram"
           }
          ],
          "histogram2d": [
           {
            "colorbar": {
             "outlinewidth": 0,
             "ticks": ""
            },
            "colorscale": [
             [
              0,
              "#0d0887"
             ],
             [
              0.1111111111111111,
              "#46039f"
             ],
             [
              0.2222222222222222,
              "#7201a8"
             ],
             [
              0.3333333333333333,
              "#9c179e"
             ],
             [
              0.4444444444444444,
              "#bd3786"
             ],
             [
              0.5555555555555556,
              "#d8576b"
             ],
             [
              0.6666666666666666,
              "#ed7953"
             ],
             [
              0.7777777777777778,
              "#fb9f3a"
             ],
             [
              0.8888888888888888,
              "#fdca26"
             ],
             [
              1,
              "#f0f921"
             ]
            ],
            "type": "histogram2d"
           }
          ],
          "histogram2dcontour": [
           {
            "colorbar": {
             "outlinewidth": 0,
             "ticks": ""
            },
            "colorscale": [
             [
              0,
              "#0d0887"
             ],
             [
              0.1111111111111111,
              "#46039f"
             ],
             [
              0.2222222222222222,
              "#7201a8"
             ],
             [
              0.3333333333333333,
              "#9c179e"
             ],
             [
              0.4444444444444444,
              "#bd3786"
             ],
             [
              0.5555555555555556,
              "#d8576b"
             ],
             [
              0.6666666666666666,
              "#ed7953"
             ],
             [
              0.7777777777777778,
              "#fb9f3a"
             ],
             [
              0.8888888888888888,
              "#fdca26"
             ],
             [
              1,
              "#f0f921"
             ]
            ],
            "type": "histogram2dcontour"
           }
          ],
          "mesh3d": [
           {
            "colorbar": {
             "outlinewidth": 0,
             "ticks": ""
            },
            "type": "mesh3d"
           }
          ],
          "parcoords": [
           {
            "line": {
             "colorbar": {
              "outlinewidth": 0,
              "ticks": ""
             }
            },
            "type": "parcoords"
           }
          ],
          "pie": [
           {
            "automargin": true,
            "type": "pie"
           }
          ],
          "scatter": [
           {
            "marker": {
             "colorbar": {
              "outlinewidth": 0,
              "ticks": ""
             }
            },
            "type": "scatter"
           }
          ],
          "scatter3d": [
           {
            "line": {
             "colorbar": {
              "outlinewidth": 0,
              "ticks": ""
             }
            },
            "marker": {
             "colorbar": {
              "outlinewidth": 0,
              "ticks": ""
             }
            },
            "type": "scatter3d"
           }
          ],
          "scattercarpet": [
           {
            "marker": {
             "colorbar": {
              "outlinewidth": 0,
              "ticks": ""
             }
            },
            "type": "scattercarpet"
           }
          ],
          "scattergeo": [
           {
            "marker": {
             "colorbar": {
              "outlinewidth": 0,
              "ticks": ""
             }
            },
            "type": "scattergeo"
           }
          ],
          "scattergl": [
           {
            "marker": {
             "colorbar": {
              "outlinewidth": 0,
              "ticks": ""
             }
            },
            "type": "scattergl"
           }
          ],
          "scattermapbox": [
           {
            "marker": {
             "colorbar": {
              "outlinewidth": 0,
              "ticks": ""
             }
            },
            "type": "scattermapbox"
           }
          ],
          "scatterpolar": [
           {
            "marker": {
             "colorbar": {
              "outlinewidth": 0,
              "ticks": ""
             }
            },
            "type": "scatterpolar"
           }
          ],
          "scatterpolargl": [
           {
            "marker": {
             "colorbar": {
              "outlinewidth": 0,
              "ticks": ""
             }
            },
            "type": "scatterpolargl"
           }
          ],
          "scatterternary": [
           {
            "marker": {
             "colorbar": {
              "outlinewidth": 0,
              "ticks": ""
             }
            },
            "type": "scatterternary"
           }
          ],
          "surface": [
           {
            "colorbar": {
             "outlinewidth": 0,
             "ticks": ""
            },
            "colorscale": [
             [
              0,
              "#0d0887"
             ],
             [
              0.1111111111111111,
              "#46039f"
             ],
             [
              0.2222222222222222,
              "#7201a8"
             ],
             [
              0.3333333333333333,
              "#9c179e"
             ],
             [
              0.4444444444444444,
              "#bd3786"
             ],
             [
              0.5555555555555556,
              "#d8576b"
             ],
             [
              0.6666666666666666,
              "#ed7953"
             ],
             [
              0.7777777777777778,
              "#fb9f3a"
             ],
             [
              0.8888888888888888,
              "#fdca26"
             ],
             [
              1,
              "#f0f921"
             ]
            ],
            "type": "surface"
           }
          ],
          "table": [
           {
            "cells": {
             "fill": {
              "color": "#EBF0F8"
             },
             "line": {
              "color": "white"
             }
            },
            "header": {
             "fill": {
              "color": "#C8D4E3"
             },
             "line": {
              "color": "white"
             }
            },
            "type": "table"
           }
          ]
         },
         "layout": {
          "annotationdefaults": {
           "arrowcolor": "#2a3f5f",
           "arrowhead": 0,
           "arrowwidth": 1
          },
          "autotypenumbers": "strict",
          "coloraxis": {
           "colorbar": {
            "outlinewidth": 0,
            "ticks": ""
           }
          },
          "colorscale": {
           "diverging": [
            [
             0,
             "#8e0152"
            ],
            [
             0.1,
             "#c51b7d"
            ],
            [
             0.2,
             "#de77ae"
            ],
            [
             0.3,
             "#f1b6da"
            ],
            [
             0.4,
             "#fde0ef"
            ],
            [
             0.5,
             "#f7f7f7"
            ],
            [
             0.6,
             "#e6f5d0"
            ],
            [
             0.7,
             "#b8e186"
            ],
            [
             0.8,
             "#7fbc41"
            ],
            [
             0.9,
             "#4d9221"
            ],
            [
             1,
             "#276419"
            ]
           ],
           "sequential": [
            [
             0,
             "#0d0887"
            ],
            [
             0.1111111111111111,
             "#46039f"
            ],
            [
             0.2222222222222222,
             "#7201a8"
            ],
            [
             0.3333333333333333,
             "#9c179e"
            ],
            [
             0.4444444444444444,
             "#bd3786"
            ],
            [
             0.5555555555555556,
             "#d8576b"
            ],
            [
             0.6666666666666666,
             "#ed7953"
            ],
            [
             0.7777777777777778,
             "#fb9f3a"
            ],
            [
             0.8888888888888888,
             "#fdca26"
            ],
            [
             1,
             "#f0f921"
            ]
           ],
           "sequentialminus": [
            [
             0,
             "#0d0887"
            ],
            [
             0.1111111111111111,
             "#46039f"
            ],
            [
             0.2222222222222222,
             "#7201a8"
            ],
            [
             0.3333333333333333,
             "#9c179e"
            ],
            [
             0.4444444444444444,
             "#bd3786"
            ],
            [
             0.5555555555555556,
             "#d8576b"
            ],
            [
             0.6666666666666666,
             "#ed7953"
            ],
            [
             0.7777777777777778,
             "#fb9f3a"
            ],
            [
             0.8888888888888888,
             "#fdca26"
            ],
            [
             1,
             "#f0f921"
            ]
           ]
          },
          "colorway": [
           "#636efa",
           "#EF553B",
           "#00cc96",
           "#ab63fa",
           "#FFA15A",
           "#19d3f3",
           "#FF6692",
           "#B6E880",
           "#FF97FF",
           "#FECB52"
          ],
          "font": {
           "color": "#2a3f5f"
          },
          "geo": {
           "bgcolor": "white",
           "lakecolor": "white",
           "landcolor": "#E5ECF6",
           "showlakes": true,
           "showland": true,
           "subunitcolor": "white"
          },
          "hoverlabel": {
           "align": "left"
          },
          "hovermode": "closest",
          "mapbox": {
           "style": "light"
          },
          "paper_bgcolor": "white",
          "plot_bgcolor": "#E5ECF6",
          "polar": {
           "angularaxis": {
            "gridcolor": "white",
            "linecolor": "white",
            "ticks": ""
           },
           "bgcolor": "#E5ECF6",
           "radialaxis": {
            "gridcolor": "white",
            "linecolor": "white",
            "ticks": ""
           }
          },
          "scene": {
           "xaxis": {
            "backgroundcolor": "#E5ECF6",
            "gridcolor": "white",
            "gridwidth": 2,
            "linecolor": "white",
            "showbackground": true,
            "ticks": "",
            "zerolinecolor": "white"
           },
           "yaxis": {
            "backgroundcolor": "#E5ECF6",
            "gridcolor": "white",
            "gridwidth": 2,
            "linecolor": "white",
            "showbackground": true,
            "ticks": "",
            "zerolinecolor": "white"
           },
           "zaxis": {
            "backgroundcolor": "#E5ECF6",
            "gridcolor": "white",
            "gridwidth": 2,
            "linecolor": "white",
            "showbackground": true,
            "ticks": "",
            "zerolinecolor": "white"
           }
          },
          "shapedefaults": {
           "line": {
            "color": "#2a3f5f"
           }
          },
          "ternary": {
           "aaxis": {
            "gridcolor": "white",
            "linecolor": "white",
            "ticks": ""
           },
           "baxis": {
            "gridcolor": "white",
            "linecolor": "white",
            "ticks": ""
           },
           "bgcolor": "#E5ECF6",
           "caxis": {
            "gridcolor": "white",
            "linecolor": "white",
            "ticks": ""
           }
          },
          "title": {
           "x": 0.05
          },
          "xaxis": {
           "automargin": true,
           "gridcolor": "white",
           "linecolor": "white",
           "ticks": "",
           "title": {
            "standoff": 15
           },
           "zerolinecolor": "white",
           "zerolinewidth": 2
          },
          "yaxis": {
           "automargin": true,
           "gridcolor": "white",
           "linecolor": "white",
           "ticks": "",
           "title": {
            "standoff": 15
           },
           "zerolinecolor": "white",
           "zerolinewidth": 2
          }
         }
        },
        "title": {
         "text": "Scatter matrix of Heart Failure Data"
        }
       }
      },
      "text/html": [
       "<div>                            <div id=\"10fbe94c-6d2d-4de3-8406-42e3a349e72d\" class=\"plotly-graph-div\" style=\"height:525px; width:100%;\"></div>            <script type=\"text/javascript\">                require([\"plotly\"], function(Plotly) {                    window.PLOTLYENV=window.PLOTLYENV || {};                                    if (document.getElementById(\"10fbe94c-6d2d-4de3-8406-42e3a349e72d\")) {                    Plotly.newPlot(                        \"10fbe94c-6d2d-4de3-8406-42e3a349e72d\",                        [{\"diagonal\":{\"visible\":false},\"dimensions\":[{\"axis\":{\"matches\":true},\"label\":\"age\",\"values\":[75.0,55.0,65.0,50.0,65.0,90.0,75.0,60.0,65.0,80.0,75.0,62.0,45.0,50.0,82.0,87.0,45.0,70.0,48.0,65.0,68.0,75.0,80.0,95.0,70.0,58.0,82.0,94.0,85.0,50.0,65.0,69.0,90.0,82.0,60.0,70.0,50.0,70.0,60.0,50.0,51.0,60.0,80.0,57.0,68.0,53.0,60.0,70.0,60.0,95.0,49.0,72.0,45.0,50.0,45.0,60.0,42.0,72.0,70.0,65.0,85.0,69.0,60.0,60.0,59.0,60.0,72.0,85.0,70.0,86.0,60.0,46.0,80.0,72.0,75.0,72.0,50.0,45.0,80.0,59.0,59.0,65.0,75.0,58.0,60.667,50.0,60.0,45.0,77.0,48.0,54.0,73.0,60.0,55.0,65.0,55.0]},{\"axis\":{\"matches\":true},\"label\":\"creatinine phosphokinase\",\"values\":[582,7861,146,111,160,47,246,315,157,123,81,231,981,168,379,149,582,125,582,128,220,582,148,112,122,60,70,582,23,249,94,582,60,855,235,582,124,571,588,582,1380,582,553,129,577,91,3964,69,260,371,789,364,7702,318,582,68,250,110,161,113,5882,582,47,76,280,154,328,129,143,582,582,168,805,943,582,233,2334,2442,776,66,176,395,99,145,104,582,1896,582,418,131,427,582,166,2017,258,1199]},{\"axis\":{\"matches\":true},\"label\":\"ejection fraction\",\"values\":[20,38,20,20,20,40,15,60,65,35,38,25,30,38,50,38,14,25,55,30,35,30,38,40,45,38,30,38,45,35,50,35,50,50,38,20,30,45,60,38,25,38,20,30,25,20,62,50,38,30,20,20,25,40,35,20,15,25,25,25,35,20,20,25,25,25,30,60,60,38,40,17,38,25,30,45,35,30,38,20,25,25,38,25,30,50,25,20,45,30,70,20,30,25,25,20]},{\"axis\":{\"matches\":true},\"label\":\"platelets\",\"values\":[265000.0,263358.03,162000.0,210000.0,327000.0,204000.0,127000.0,454000.0,263358.03,388000.0,368000.0,253000.0,136000.0,276000.0,47000.0,262000.0,166000.0,237000.0,87000.0,297000.0,289000.0,263358.03,149000.0,196000.0,284000.0,153000.0,200000.0,263358.03,360000.0,319000.0,188000.0,228000.0,226000.0,321000.0,329000.0,263358.03,153000.0,185000.0,194000.0,310000.0,271000.0,451000.0,140000.0,395000.0,166000.0,418000.0,263358.03,351000.0,255000.0,461000.0,319000.0,254000.0,390000.0,216000.0,385000.0,119000.0,213000.0,274000.0,244000.0,497000.0,243000.0,266000.0,204000.0,196000.0,302000.0,210000.0,621000.0,306000.0,351000.0,263358.03,217000.0,271000.0,263358.03,338000.0,225000.0,235000.0,75000.0,334000.0,192000.0,70000.0,221000.0,265000.0,224000.0,219000.0,389000.0,153000.0,365000.0,126000.0,223000.0,244000.0,151000.0,263358.03,62000.0,314000.0,198000.0,263358.03]},{\"axis\":{\"matches\":true},\"label\":\"serum creatinine\",\"values\":[1.9,1.1,1.3,1.9,2.7,2.1,1.2,1.1,1.5,9.4,4.0,0.9,1.1,1.1,1.3,0.9,0.8,1.0,1.9,1.6,0.9,1.83,1.9,1.0,1.3,5.8,1.2,1.83,3.0,1.0,1.0,3.5,1.0,1.0,3.0,1.83,1.2,1.2,1.1,1.9,0.9,0.6,4.4,1.0,1.0,1.4,6.8,1.0,2.2,2.0,1.1,1.3,1.0,2.3,1.0,2.9,1.3,1.0,1.2,1.83,1.0,1.2,0.7,2.5,1.0,1.7,1.7,1.2,1.3,1.83,3.7,2.1,1.1,1.7,1.83,2.5,0.9,1.1,1.3,2.4,1.0,1.2,2.5,1.2,1.5,0.6,2.1,1.6,1.8,1.6,9.0,1.83,1.7,1.1,1.4,1.83]},{\"axis\":{\"matches\":true},\"label\":\"serum sodium\",\"values\":[130,136,129,137,116,132,137,131,138,133,131,140,137,137,136,140,127,140,121,136,140,134,144,138,136,134,132,134,132,128,140,134,134,145,142,134,136,139,142,135,130,138,133,140,138,139,146,134,132,132,136,136,139,131,145,127,136,140,142,135,132,134,139,132,141,135,138,132,137,134,134,124,134,139,134,135,142,139,135,134,136,136,134,137,136,134,144,135,145,130,137,134,127,138,129,134]},{\"axis\":{\"matches\":true},\"label\":\"time\",\"values\":[4,6,7,7,8,8,10,10,10,10,10,10,11,11,13,14,14,15,15,20,20,23,23,24,26,26,26,27,28,28,29,30,30,30,30,31,32,33,33,35,38,40,41,42,43,43,43,44,45,50,55,59,60,60,61,64,65,65,66,67,72,73,73,77,78,82,88,90,90,95,96,100,109,111,113,115,126,129,130,135,150,154,162,170,171,172,172,180,180,193,196,198,207,214,235,241]},{\"axis\":{\"matches\":true},\"label\":\"DEATH EVENT\",\"values\":[1,1,1,1,1,1,1,1,1,1,1,1,1,1,1,1,1,1,1,1,1,1,1,1,1,1,1,1,1,1,1,1,1,1,1,1,1,1,1,1,1,1,1,1,1,1,1,1,1,1,1,1,1,1,1,1,1,1,1,1,1,1,1,1,1,1,1,1,1,1,1,1,1,1,1,1,1,1,1,1,1,1,1,1,1,1,1,1,1,1,1,1,1,1,1,1]}],\"hovertemplate\":\"DEATH EVENT=1<br>%{xaxis.title.text}=%{x}<br>%{yaxis.title.text}=%{y}<extra></extra>\",\"legendgroup\":\"1\",\"marker\":{\"color\":\"#636efa\",\"symbol\":\"circle\"},\"name\":\"1\",\"showlegend\":true,\"type\":\"splom\"},{\"diagonal\":{\"visible\":false},\"dimensions\":[{\"axis\":{\"matches\":true},\"label\":\"age\",\"values\":[49.0,65.0,53.0,50.0,60.0,72.0,70.0,60.0,55.0,45.0,41.0,58.0,65.0,70.0,42.0,75.0,55.0,70.0,67.0,79.0,51.0,55.0,65.0,44.0,57.0,70.0,60.0,42.0,58.0,58.0,63.0,70.0,60.0,63.0,65.0,75.0,80.0,42.0,60.0,55.0,45.0,63.0,45.0,55.0,50.0,60.0,58.0,60.0,85.0,65.0,60.0,66.0,60.0,60.0,43.0,58.0,61.0,53.0,53.0,60.0,46.0,63.0,81.0,75.0,65.0,68.0,62.0,50.0,46.0,50.0,61.0,50.0,52.0,64.0,60.0,62.0,50.0,50.0,65.0,60.0,52.0,50.0,85.0,59.0,66.0,45.0,63.0,53.0,65.0,70.0,51.0,52.0,70.0,50.0,65.0,60.0,69.0,49.0,63.0,55.0,40.0,60.667,40.0,80.0,64.0,50.0,73.0,45.0,65.0,50.0,60.0,63.0,45.0,70.0,60.0,78.0,50.0,40.0,85.0,60.0,49.0,70.0,50.0,78.0,65.0,73.0,70.0,68.0,55.0,65.0,42.0,47.0,58.0,75.0,58.0,55.0,65.0,72.0,70.0,40.0,53.0,53.0,77.0,75.0,70.0,65.0,55.0,70.0,65.0,40.0,73.0,54.0,61.0,64.0,40.0,53.0,50.0,55.0,50.0,70.0,53.0,52.0,65.0,58.0,45.0,53.0,55.0,62.0,68.0,61.0,50.0,56.0,45.0,40.0,44.0,51.0,67.0,42.0,60.0,45.0,70.0,70.0,50.0,55.0,70.0,70.0,42.0,65.0,50.0,55.0,60.0,45.0,65.0,90.0,45.0,60.0,52.0,63.0,62.0,55.0,45.0,45.0,50.0]},{\"axis\":{\"matches\":true},\"label\":\"creatinine phosphokinase\",\"values\":[80,52,63,159,2656,127,75,607,109,582,148,582,224,92,102,203,336,69,582,55,78,47,68,84,115,66,897,582,144,133,514,59,156,61,305,582,898,5209,53,748,1876,936,292,60,369,754,400,96,102,113,737,68,96,582,358,200,248,270,1808,1082,719,193,4540,582,59,646,281,1548,291,482,84,185,132,1610,2261,30,115,1846,335,231,58,250,910,129,72,130,582,196,582,835,582,3966,171,115,198,95,1419,69,122,835,478,151,244,582,62,121,231,582,167,582,1211,1767,308,97,59,64,167,101,212,2281,972,212,582,224,135,582,1202,1021,582,118,86,582,582,675,57,2794,56,211,93,129,707,582,109,119,232,720,180,81,582,90,1185,582,80,143,624,207,2522,572,245,88,446,191,326,132,66,56,66,655,157,582,298,135,582,582,582,582,213,64,257,582,618,582,1051,84,2695,582,64,1688,54,170,253,582,892,337,615,320,190,103,61,1820,2060,2413,196]},{\"axis\":{\"matches\":true},\"label\":\"ejection fraction\",\"values\":[30,25,60,30,30,50,35,40,35,80,40,35,50,60,40,38,45,40,50,50,50,35,60,40,25,45,45,60,38,60,25,60,25,40,25,45,25,30,50,45,35,38,35,35,25,40,40,60,60,60,60,38,38,30,50,60,30,35,60,45,40,60,35,40,60,25,35,30,35,30,40,30,30,60,35,60,45,35,35,25,35,25,50,45,40,35,40,60,40,35,35,40,60,20,35,60,40,50,60,40,30,40,45,35,60,40,30,38,30,20,35,45,60,60,25,40,45,40,38,40,35,17,62,50,35,35,50,35,35,50,35,25,25,60,25,35,25,25,35,35,38,45,50,50,30,40,45,35,30,35,40,38,38,25,35,40,30,35,45,35,60,30,38,38,25,50,40,40,60,38,35,38,38,35,30,40,38,40,30,38,35,38,30,38,40,40,30,38,40,40,35,55,35,38,55,35,38,35,38,38,60,38,45]},{\"axis\":{\"matches\":true},\"label\":\"platelets\",\"values\":[427000.0,276000.0,368000.0,302000.0,305000.0,218000.0,223000.0,216000.0,254000.0,263358.03,374000.0,122000.0,149000.0,317000.0,237000.0,283000.0,324000.0,293000.0,263358.03,172000.0,406000.0,173000.0,304000.0,235000.0,181000.0,249000.0,297000.0,263358.03,327000.0,219000.0,254000.0,255000.0,318000.0,221000.0,298000.0,263358.03,149000.0,226000.0,286000.0,263000.0,226000.0,304000.0,850000.0,228000.0,252000.0,328000.0,164000.0,271000.0,507000.0,203000.0,210000.0,162000.0,228000.0,127000.0,237000.0,300000.0,267000.0,227000.0,249000.0,250000.0,263358.03,295000.0,231000.0,263358.03,172000.0,305000.0,221000.0,211000.0,348000.0,329000.0,229000.0,266000.0,218000.0,242000.0,228000.0,244000.0,184000.0,263358.03,235000.0,194000.0,277000.0,262000.0,235000.0,362000.0,242000.0,174000.0,448000.0,220000.0,270000.0,305000.0,263358.03,325000.0,176000.0,189000.0,281000.0,337000.0,105000.0,132000.0,267000.0,279000.0,303000.0,201000.0,275000.0,350000.0,309000.0,260000.0,160000.0,263358.03,259000.0,279000.0,263358.03,73000.0,377000.0,220000.0,212000.0,277000.0,362000.0,226000.0,186000.0,283000.0,268000.0,389000.0,147000.0,481000.0,290000.0,203000.0,358000.0,271000.0,371000.0,194000.0,365000.0,130000.0,504000.0,265000.0,189000.0,141000.0,237000.0,274000.0,185000.0,255000.0,330000.0,305000.0,406000.0,248000.0,173000.0,257000.0,263358.03,533000.0,249000.0,255000.0,220000.0,264000.0,282000.0,246000.0,301000.0,223000.0,404000.0,231000.0,274000.0,236000.0,263358.03,334000.0,294000.0,253000.0,233000.0,308000.0,203000.0,283000.0,208000.0,147000.0,362000.0,133000.0,302000.0,222000.0,263358.03,221000.0,215000.0,189000.0,150000.0,422000.0,327000.0,25100.0,232000.0,451000.0,241000.0,51000.0,215000.0,263358.03,279000.0,336000.0,279000.0,543000.0,263358.03,390000.0,222000.0,133000.0,382000.0,179000.0,155000.0,270000.0,742000.0,140000.0,395000.0]},{\"axis\":{\"matches\":true},\"label\":\"serum creatinine\",\"values\":[1.0,1.3,0.8,1.2,2.3,1.0,2.7,0.6,1.1,1.18,0.8,0.9,1.3,0.8,1.2,0.6,0.9,1.7,1.18,1.8,0.7,1.1,0.8,0.7,1.1,0.8,1.0,1.18,0.7,1.0,1.3,1.1,1.2,1.1,1.1,1.18,1.1,1.0,2.3,1.3,0.9,1.1,1.3,1.2,1.6,1.2,1.0,0.7,3.2,0.9,1.5,1.0,0.75,0.9,1.3,0.8,0.7,3.4,0.7,6.1,1.18,1.3,1.18,1.18,0.9,2.1,1.0,0.8,0.9,0.9,0.9,0.7,0.7,1.0,0.9,0.9,0.9,1.18,0.8,1.7,1.4,1.0,1.3,1.1,1.2,0.8,0.9,0.7,1.0,0.8,1.5,0.9,1.1,0.8,0.9,1.0,1.0,1.0,1.2,0.7,0.9,1.0,0.9,2.1,1.5,0.7,1.18,1.18,0.8,1.0,1.8,0.7,1.0,0.9,3.5,0.7,1.0,0.8,0.9,1.0,0.8,1.0,0.8,1.4,0.8,1.3,0.9,1.1,0.7,1.1,1.1,0.8,1.0,1.4,1.3,1.0,5.0,1.2,1.1,0.9,1.4,1.1,1.1,1.1,1.2,1.0,1.18,1.3,1.3,1.1,0.9,1.8,1.4,2.4,1.0,1.2,0.5,0.8,1.0,1.2,1.0,1.0,1.7,1.0,0.8,0.7,1.0,0.7,1.0,1.2,0.9,1.7,0.9,1.0,1.6,0.9,1.2,0.7,1.0,0.8,1.1,1.1,0.7,1.3,1.0,2.7,3.8,1.1,0.8,1.2,1.7,1.0,1.1,0.9,0.8,1.4,1.0,0.9,1.1,1.2,0.8,1.4,1.6]},{\"axis\":{\"matches\":true},\"label\":\"serum sodium\",\"values\":[138,137,135,138,137,134,138,138,139,137,140,139,137,140,140,131,140,136,137,133,140,137,140,139,144,136,133,137,142,141,134,136,137,140,141,137,144,140,143,137,138,133,142,135,136,126,139,136,138,140,135,136,140,145,135,137,136,145,138,131,137,145,137,137,137,130,136,138,140,132,141,141,136,137,136,139,134,137,136,140,136,136,134,139,134,139,137,133,138,133,136,140,145,139,137,138,135,140,145,140,136,136,140,134,135,130,142,137,138,134,113,137,136,138,136,137,136,141,136,141,130,136,140,138,134,134,141,134,140,145,139,134,138,125,132,140,130,134,134,137,137,137,137,148,132,136,137,139,136,136,141,134,137,135,142,130,139,143,133,132,139,142,139,139,135,135,138,133,140,141,140,140,140,132,130,134,133,140,137,137,142,140,136,136,137,136,128,138,141,135,140,132,142,144,141,139,140,136,143,139,138,140,136]},{\"axis\":{\"matches\":true},\"label\":\"time\",\"values\":[12,16,22,29,30,33,54,54,60,63,68,71,72,74,74,74,74,75,76,78,79,79,79,79,79,80,80,82,83,83,83,85,85,86,87,87,87,87,87,88,88,88,88,90,90,91,91,94,94,94,95,95,95,95,97,104,104,105,106,107,107,107,107,107,107,108,108,108,109,109,110,112,112,113,115,117,118,119,120,120,120,120,121,121,121,121,123,134,140,145,145,146,146,146,146,146,147,147,147,147,148,172,174,174,174,175,180,185,186,186,186,186,186,186,187,187,187,187,187,187,187,188,192,192,194,195,196,197,197,200,201,201,205,205,205,206,207,207,208,209,209,209,209,209,210,210,211,212,212,212,213,213,213,214,214,214,214,215,215,215,215,216,220,230,230,231,233,233,237,237,240,244,244,244,244,244,245,245,245,245,245,246,246,246,247,250,250,250,250,250,250,250,256,256,257,258,258,270,270,271,278,280,285]},{\"axis\":{\"matches\":true},\"label\":\"DEATH EVENT\",\"values\":[0,0,0,0,0,0,0,0,0,0,0,0,0,0,0,0,0,0,0,0,0,0,0,0,0,0,0,0,0,0,0,0,0,0,0,0,0,0,0,0,0,0,0,0,0,0,0,0,0,0,0,0,0,0,0,0,0,0,0,0,0,0,0,0,0,0,0,0,0,0,0,0,0,0,0,0,0,0,0,0,0,0,0,0,0,0,0,0,0,0,0,0,0,0,0,0,0,0,0,0,0,0,0,0,0,0,0,0,0,0,0,0,0,0,0,0,0,0,0,0,0,0,0,0,0,0,0,0,0,0,0,0,0,0,0,0,0,0,0,0,0,0,0,0,0,0,0,0,0,0,0,0,0,0,0,0,0,0,0,0,0,0,0,0,0,0,0,0,0,0,0,0,0,0,0,0,0,0,0,0,0,0,0,0,0,0,0,0,0,0,0,0,0,0,0,0,0,0,0,0,0,0,0]}],\"hovertemplate\":\"DEATH EVENT=0<br>%{xaxis.title.text}=%{x}<br>%{yaxis.title.text}=%{y}<extra></extra>\",\"legendgroup\":\"0\",\"marker\":{\"color\":\"#EF553B\",\"symbol\":\"diamond\"},\"name\":\"0\",\"showlegend\":true,\"type\":\"splom\"}],                        {\"dragmode\":\"select\",\"legend\":{\"title\":{\"text\":\"DEATH EVENT\"},\"tracegroupgap\":0},\"template\":{\"data\":{\"bar\":[{\"error_x\":{\"color\":\"#2a3f5f\"},\"error_y\":{\"color\":\"#2a3f5f\"},\"marker\":{\"line\":{\"color\":\"#E5ECF6\",\"width\":0.5},\"pattern\":{\"fillmode\":\"overlay\",\"size\":10,\"solidity\":0.2}},\"type\":\"bar\"}],\"barpolar\":[{\"marker\":{\"line\":{\"color\":\"#E5ECF6\",\"width\":0.5},\"pattern\":{\"fillmode\":\"overlay\",\"size\":10,\"solidity\":0.2}},\"type\":\"barpolar\"}],\"carpet\":[{\"aaxis\":{\"endlinecolor\":\"#2a3f5f\",\"gridcolor\":\"white\",\"linecolor\":\"white\",\"minorgridcolor\":\"white\",\"startlinecolor\":\"#2a3f5f\"},\"baxis\":{\"endlinecolor\":\"#2a3f5f\",\"gridcolor\":\"white\",\"linecolor\":\"white\",\"minorgridcolor\":\"white\",\"startlinecolor\":\"#2a3f5f\"},\"type\":\"carpet\"}],\"choropleth\":[{\"colorbar\":{\"outlinewidth\":0,\"ticks\":\"\"},\"type\":\"choropleth\"}],\"contour\":[{\"colorbar\":{\"outlinewidth\":0,\"ticks\":\"\"},\"colorscale\":[[0.0,\"#0d0887\"],[0.1111111111111111,\"#46039f\"],[0.2222222222222222,\"#7201a8\"],[0.3333333333333333,\"#9c179e\"],[0.4444444444444444,\"#bd3786\"],[0.5555555555555556,\"#d8576b\"],[0.6666666666666666,\"#ed7953\"],[0.7777777777777778,\"#fb9f3a\"],[0.8888888888888888,\"#fdca26\"],[1.0,\"#f0f921\"]],\"type\":\"contour\"}],\"contourcarpet\":[{\"colorbar\":{\"outlinewidth\":0,\"ticks\":\"\"},\"type\":\"contourcarpet\"}],\"heatmap\":[{\"colorbar\":{\"outlinewidth\":0,\"ticks\":\"\"},\"colorscale\":[[0.0,\"#0d0887\"],[0.1111111111111111,\"#46039f\"],[0.2222222222222222,\"#7201a8\"],[0.3333333333333333,\"#9c179e\"],[0.4444444444444444,\"#bd3786\"],[0.5555555555555556,\"#d8576b\"],[0.6666666666666666,\"#ed7953\"],[0.7777777777777778,\"#fb9f3a\"],[0.8888888888888888,\"#fdca26\"],[1.0,\"#f0f921\"]],\"type\":\"heatmap\"}],\"heatmapgl\":[{\"colorbar\":{\"outlinewidth\":0,\"ticks\":\"\"},\"colorscale\":[[0.0,\"#0d0887\"],[0.1111111111111111,\"#46039f\"],[0.2222222222222222,\"#7201a8\"],[0.3333333333333333,\"#9c179e\"],[0.4444444444444444,\"#bd3786\"],[0.5555555555555556,\"#d8576b\"],[0.6666666666666666,\"#ed7953\"],[0.7777777777777778,\"#fb9f3a\"],[0.8888888888888888,\"#fdca26\"],[1.0,\"#f0f921\"]],\"type\":\"heatmapgl\"}],\"histogram\":[{\"marker\":{\"pattern\":{\"fillmode\":\"overlay\",\"size\":10,\"solidity\":0.2}},\"type\":\"histogram\"}],\"histogram2d\":[{\"colorbar\":{\"outlinewidth\":0,\"ticks\":\"\"},\"colorscale\":[[0.0,\"#0d0887\"],[0.1111111111111111,\"#46039f\"],[0.2222222222222222,\"#7201a8\"],[0.3333333333333333,\"#9c179e\"],[0.4444444444444444,\"#bd3786\"],[0.5555555555555556,\"#d8576b\"],[0.6666666666666666,\"#ed7953\"],[0.7777777777777778,\"#fb9f3a\"],[0.8888888888888888,\"#fdca26\"],[1.0,\"#f0f921\"]],\"type\":\"histogram2d\"}],\"histogram2dcontour\":[{\"colorbar\":{\"outlinewidth\":0,\"ticks\":\"\"},\"colorscale\":[[0.0,\"#0d0887\"],[0.1111111111111111,\"#46039f\"],[0.2222222222222222,\"#7201a8\"],[0.3333333333333333,\"#9c179e\"],[0.4444444444444444,\"#bd3786\"],[0.5555555555555556,\"#d8576b\"],[0.6666666666666666,\"#ed7953\"],[0.7777777777777778,\"#fb9f3a\"],[0.8888888888888888,\"#fdca26\"],[1.0,\"#f0f921\"]],\"type\":\"histogram2dcontour\"}],\"mesh3d\":[{\"colorbar\":{\"outlinewidth\":0,\"ticks\":\"\"},\"type\":\"mesh3d\"}],\"parcoords\":[{\"line\":{\"colorbar\":{\"outlinewidth\":0,\"ticks\":\"\"}},\"type\":\"parcoords\"}],\"pie\":[{\"automargin\":true,\"type\":\"pie\"}],\"scatter\":[{\"marker\":{\"colorbar\":{\"outlinewidth\":0,\"ticks\":\"\"}},\"type\":\"scatter\"}],\"scatter3d\":[{\"line\":{\"colorbar\":{\"outlinewidth\":0,\"ticks\":\"\"}},\"marker\":{\"colorbar\":{\"outlinewidth\":0,\"ticks\":\"\"}},\"type\":\"scatter3d\"}],\"scattercarpet\":[{\"marker\":{\"colorbar\":{\"outlinewidth\":0,\"ticks\":\"\"}},\"type\":\"scattercarpet\"}],\"scattergeo\":[{\"marker\":{\"colorbar\":{\"outlinewidth\":0,\"ticks\":\"\"}},\"type\":\"scattergeo\"}],\"scattergl\":[{\"marker\":{\"colorbar\":{\"outlinewidth\":0,\"ticks\":\"\"}},\"type\":\"scattergl\"}],\"scattermapbox\":[{\"marker\":{\"colorbar\":{\"outlinewidth\":0,\"ticks\":\"\"}},\"type\":\"scattermapbox\"}],\"scatterpolar\":[{\"marker\":{\"colorbar\":{\"outlinewidth\":0,\"ticks\":\"\"}},\"type\":\"scatterpolar\"}],\"scatterpolargl\":[{\"marker\":{\"colorbar\":{\"outlinewidth\":0,\"ticks\":\"\"}},\"type\":\"scatterpolargl\"}],\"scatterternary\":[{\"marker\":{\"colorbar\":{\"outlinewidth\":0,\"ticks\":\"\"}},\"type\":\"scatterternary\"}],\"surface\":[{\"colorbar\":{\"outlinewidth\":0,\"ticks\":\"\"},\"colorscale\":[[0.0,\"#0d0887\"],[0.1111111111111111,\"#46039f\"],[0.2222222222222222,\"#7201a8\"],[0.3333333333333333,\"#9c179e\"],[0.4444444444444444,\"#bd3786\"],[0.5555555555555556,\"#d8576b\"],[0.6666666666666666,\"#ed7953\"],[0.7777777777777778,\"#fb9f3a\"],[0.8888888888888888,\"#fdca26\"],[1.0,\"#f0f921\"]],\"type\":\"surface\"}],\"table\":[{\"cells\":{\"fill\":{\"color\":\"#EBF0F8\"},\"line\":{\"color\":\"white\"}},\"header\":{\"fill\":{\"color\":\"#C8D4E3\"},\"line\":{\"color\":\"white\"}},\"type\":\"table\"}]},\"layout\":{\"annotationdefaults\":{\"arrowcolor\":\"#2a3f5f\",\"arrowhead\":0,\"arrowwidth\":1},\"autotypenumbers\":\"strict\",\"coloraxis\":{\"colorbar\":{\"outlinewidth\":0,\"ticks\":\"\"}},\"colorscale\":{\"diverging\":[[0,\"#8e0152\"],[0.1,\"#c51b7d\"],[0.2,\"#de77ae\"],[0.3,\"#f1b6da\"],[0.4,\"#fde0ef\"],[0.5,\"#f7f7f7\"],[0.6,\"#e6f5d0\"],[0.7,\"#b8e186\"],[0.8,\"#7fbc41\"],[0.9,\"#4d9221\"],[1,\"#276419\"]],\"sequential\":[[0.0,\"#0d0887\"],[0.1111111111111111,\"#46039f\"],[0.2222222222222222,\"#7201a8\"],[0.3333333333333333,\"#9c179e\"],[0.4444444444444444,\"#bd3786\"],[0.5555555555555556,\"#d8576b\"],[0.6666666666666666,\"#ed7953\"],[0.7777777777777778,\"#fb9f3a\"],[0.8888888888888888,\"#fdca26\"],[1.0,\"#f0f921\"]],\"sequentialminus\":[[0.0,\"#0d0887\"],[0.1111111111111111,\"#46039f\"],[0.2222222222222222,\"#7201a8\"],[0.3333333333333333,\"#9c179e\"],[0.4444444444444444,\"#bd3786\"],[0.5555555555555556,\"#d8576b\"],[0.6666666666666666,\"#ed7953\"],[0.7777777777777778,\"#fb9f3a\"],[0.8888888888888888,\"#fdca26\"],[1.0,\"#f0f921\"]]},\"colorway\":[\"#636efa\",\"#EF553B\",\"#00cc96\",\"#ab63fa\",\"#FFA15A\",\"#19d3f3\",\"#FF6692\",\"#B6E880\",\"#FF97FF\",\"#FECB52\"],\"font\":{\"color\":\"#2a3f5f\"},\"geo\":{\"bgcolor\":\"white\",\"lakecolor\":\"white\",\"landcolor\":\"#E5ECF6\",\"showlakes\":true,\"showland\":true,\"subunitcolor\":\"white\"},\"hoverlabel\":{\"align\":\"left\"},\"hovermode\":\"closest\",\"mapbox\":{\"style\":\"light\"},\"paper_bgcolor\":\"white\",\"plot_bgcolor\":\"#E5ECF6\",\"polar\":{\"angularaxis\":{\"gridcolor\":\"white\",\"linecolor\":\"white\",\"ticks\":\"\"},\"bgcolor\":\"#E5ECF6\",\"radialaxis\":{\"gridcolor\":\"white\",\"linecolor\":\"white\",\"ticks\":\"\"}},\"scene\":{\"xaxis\":{\"backgroundcolor\":\"#E5ECF6\",\"gridcolor\":\"white\",\"gridwidth\":2,\"linecolor\":\"white\",\"showbackground\":true,\"ticks\":\"\",\"zerolinecolor\":\"white\"},\"yaxis\":{\"backgroundcolor\":\"#E5ECF6\",\"gridcolor\":\"white\",\"gridwidth\":2,\"linecolor\":\"white\",\"showbackground\":true,\"ticks\":\"\",\"zerolinecolor\":\"white\"},\"zaxis\":{\"backgroundcolor\":\"#E5ECF6\",\"gridcolor\":\"white\",\"gridwidth\":2,\"linecolor\":\"white\",\"showbackground\":true,\"ticks\":\"\",\"zerolinecolor\":\"white\"}},\"shapedefaults\":{\"line\":{\"color\":\"#2a3f5f\"}},\"ternary\":{\"aaxis\":{\"gridcolor\":\"white\",\"linecolor\":\"white\",\"ticks\":\"\"},\"baxis\":{\"gridcolor\":\"white\",\"linecolor\":\"white\",\"ticks\":\"\"},\"bgcolor\":\"#E5ECF6\",\"caxis\":{\"gridcolor\":\"white\",\"linecolor\":\"white\",\"ticks\":\"\"}},\"title\":{\"x\":0.05},\"xaxis\":{\"automargin\":true,\"gridcolor\":\"white\",\"linecolor\":\"white\",\"ticks\":\"\",\"title\":{\"standoff\":15},\"zerolinecolor\":\"white\",\"zerolinewidth\":2},\"yaxis\":{\"automargin\":true,\"gridcolor\":\"white\",\"linecolor\":\"white\",\"ticks\":\"\",\"title\":{\"standoff\":15},\"zerolinecolor\":\"white\",\"zerolinewidth\":2}}},\"title\":{\"text\":\"Scatter matrix of Heart Failure Data\"}},                        {\"responsive\": true}                    ).then(function(){\n",
       "                            \n",
       "var gd = document.getElementById('10fbe94c-6d2d-4de3-8406-42e3a349e72d');\n",
       "var x = new MutationObserver(function (mutations, observer) {{\n",
       "        var display = window.getComputedStyle(gd).display;\n",
       "        if (!display || display === 'none') {{\n",
       "            console.log([gd, 'removed!']);\n",
       "            Plotly.purge(gd);\n",
       "            observer.disconnect();\n",
       "        }}\n",
       "}});\n",
       "\n",
       "// Listen for the removal of the full notebook cells\n",
       "var notebookContainer = gd.closest('#notebook-container');\n",
       "if (notebookContainer) {{\n",
       "    x.observe(notebookContainer, {childList: true});\n",
       "}}\n",
       "\n",
       "// Listen for the clearing of the current output cell\n",
       "var outputEl = gd.closest('.output');\n",
       "if (outputEl) {{\n",
       "    x.observe(outputEl, {childList: true});\n",
       "}}\n",
       "\n",
       "                        })                };                });            </script>        </div>"
      ]
     },
     "metadata": {},
     "output_type": "display_data"
    }
   ],
   "source": [
    "import plotly.express as px\n",
    "import plotly\n",
    "df_8281 = heart_group2.loc[:,numerical]\n",
    "df_8281.loc[:,'DEATH_EVENT'] = heart_group2.loc[:,'DEATH_EVENT']\n",
    "df_8281.DEATH_EVENT = df_8281.DEATH_EVENT.astype('category')\n",
    "\n",
    "fig = px.scatter_matrix(df_8281,\n",
    "                        symbol=\"DEATH_EVENT\", \n",
    "                        color = 'DEATH_EVENT',\n",
    "                        title=\"Scatter matrix of Heart Failure Data\", \n",
    "                        labels={col:col.replace('_', ' ') for col in df_8281.columns},\n",
    "                        ) \n",
    "fig.update_traces(diagonal_visible=False)\n",
    "fig.show()\n",
    "\n",
    "plotly.offline.plot(fig, image_filename='scatterplot', image='svg')"
   ]
  },
  {
   "cell_type": "markdown",
   "metadata": {
    "id": "vaQwBK1FBx4f"
   },
   "source": [
    "### Split to Training and Testing"
   ]
  },
  {
   "cell_type": "code",
   "execution_count": 14,
   "metadata": {
    "id": "kl_NUygzBvjX"
   },
   "outputs": [],
   "source": [
    "from sklearn.model_selection import train_test_split\n",
    "from sklearn.tree import DecisionTreeClassifier\n",
    "from sklearn.metrics import classification_report, confusion_matrix, accuracy_score, roc_auc_score\n",
    "from sklearn.preprocessing import MinMaxScaler\n",
    "from sklearn.svm import SVC\n",
    "#from xgboost import XGBClassifier"
   ]
  },
  {
   "cell_type": "code",
   "execution_count": 15,
   "metadata": {
    "id": "EYxfBma9B6vW"
   },
   "outputs": [],
   "source": [
    "x = heart_group2.iloc[:,:12]\n",
    "y = heart_group2.iloc[:,12]"
   ]
  },
  {
   "cell_type": "markdown",
   "metadata": {
    "id": "3JXX8P6RE5UL"
   },
   "source": [
    "We use split size = 0.1 because it is a relatively small dataset, so we need more training points. "
   ]
  },
  {
   "cell_type": "code",
   "execution_count": 16,
   "metadata": {
    "id": "HgU5F7K-CFMO"
   },
   "outputs": [],
   "source": [
    "X_train_group2, X_test_group2, y_train_group2, y_test_group2 = train_test_split(x, y, test_size=0.1, random_state=8281)"
   ]
  },
  {
   "cell_type": "markdown",
   "metadata": {
    "id": "BC5PjsgzCUsZ"
   },
   "source": [
    "## Classification and Refression\n",
    "\n",
    "\n"
   ]
  },
  {
   "cell_type": "code",
   "execution_count": 17,
   "metadata": {
    "id": "zqvKQHUWCM4H"
   },
   "outputs": [],
   "source": [
    "from sklearn.ensemble import RandomForestClassifier,GradientBoostingClassifier\n",
    "from sklearn.linear_model import LogisticRegression\n",
    "from sklearn.neighbors import KNeighborsClassifier\n",
    "from sklearn.svm import SVC\n",
    "from sklearn.naive_bayes import GaussianNB\n",
    "from sklearn.model_selection import GridSearchCV, KFold\n",
    "from sklearn.model_selection import train_test_split\n",
    "from sklearn.model_selection import cross_val_score\n",
    "#from sklearn.linear_model import Ridge, Lasso, LinearRegression\n",
    "from sklearn.tree import DecisionTreeClassifier\n",
    "#from xgboost import XGBRegressor\n",
    "#from xgboost import XGBClassifier as XGB\n",
    "from sklearn.ensemble import StackingClassifier\n",
    "#from lightgbm import LGBMRegressor\n",
    "from sklearn.ensemble import BaggingClassifier"
   ]
  },
  {
   "cell_type": "markdown",
   "metadata": {
    "id": "M2RyTTKRUtFN"
   },
   "source": [
    "### List of Base Models\n",
    "\n",
    "We will be building a base model where all the regression and classification models will be stored in it. They will be used to train models and plot accuracy plot. "
   ]
  },
  {
   "cell_type": "code",
   "execution_count": 18,
   "metadata": {
    "id": "x_kJLWnvCTQD"
   },
   "outputs": [],
   "source": [
    "def base_models():\n",
    "    models = dict()\n",
    "    models['lg'] = LogisticRegression()\n",
    "    models[\"KNN\"] = KNeighborsClassifier()\n",
    "    models[\"SVC\"] = SVC()\n",
    "    models[\"Tree\"] = DecisionTreeClassifier()\n",
    "    models[\"Random Forest\"] = RandomForestClassifier()\n",
    "    models[\"GBM\"] = GradientBoostingClassifier()\n",
    "    models[\"GNB\"] = GaussianNB()\n",
    "    models[\"Bagging\"] = BaggingClassifier()\n",
    "    #models['XGB'] = XGB()\n",
    "    return models"
   ]
  },
  {
   "cell_type": "markdown",
   "metadata": {
    "id": "B5gMDosiUnRc"
   },
   "source": [
    "### Evaluate the list of models\n",
    "\n",
    "This is the function that will be used to give out accuracy scores on the model."
   ]
  },
  {
   "cell_type": "code",
   "execution_count": 19,
   "metadata": {
    "id": "1xD0rN62CcgN"
   },
   "outputs": [],
   "source": [
    "from sklearn.model_selection import RepeatedKFold\n",
    "from matplotlib import pyplot\n",
    "\n",
    "\n",
    "def eval_models(model):\n",
    "    cv = RepeatedKFold(n_splits=10, n_repeats=3, random_state=1)\n",
    "    scores = cross_val_score(model, x, y,scoring='accuracy', cv=cv)\n",
    "    return scores"
   ]
  },
  {
   "cell_type": "markdown",
   "metadata": {
    "id": "KDe5oQaYUTXr"
   },
   "source": [
    "### Test the base Models\n",
    "\n",
    "This is to find the accuracy for each model in the base model so we know which one is the most accurate. "
   ]
  },
  {
   "cell_type": "code",
   "execution_count": 20,
   "metadata": {
    "id": "b49XISDMXVLU"
   },
   "outputs": [],
   "source": [
    "import warnings\n",
    "warnings.filterwarnings('ignore')"
   ]
  },
  {
   "cell_type": "code",
   "execution_count": 21,
   "metadata": {
    "colab": {
     "base_uri": "https://localhost:8080/"
    },
    "id": "63DeG7EgUWfA",
    "outputId": "07a676ea-d5a4-4a16-953c-638c8f4f2cb5"
   },
   "outputs": [
    {
     "name": "stdout",
     "output_type": "stream",
     "text": [
      ">lg 0.825 (0.076)\n",
      ">KNN 0.624 (0.071)\n",
      ">SVC 0.679 (0.085)\n",
      ">Tree 0.775 (0.069)\n",
      ">Random Forest 0.855 (0.083)\n",
      ">GBM 0.843 (0.074)\n",
      ">GNB 0.794 (0.087)\n",
      ">Bagging 0.809 (0.080)\n"
     ]
    }
   ],
   "source": [
    "models = base_models()\n",
    "# evaluate the models and store results\n",
    "results, names = list(), list() \n",
    "\n",
    "for name, model in models.items():\n",
    "    scores = eval_models(model)\n",
    "    results.append(scores)\n",
    "    names.append(name)\n",
    "    print('>%s %.3f (%.3f)' % (name, scores.mean(), scores.std()))"
   ]
  },
  {
   "cell_type": "markdown",
   "metadata": {
    "id": "W8MO-FyGUaEK"
   },
   "source": [
    "### Change regressmod df to classmo\n"
   ]
  },
  {
   "cell_type": "code",
   "execution_count": 22,
   "metadata": {
    "colab": {
     "base_uri": "https://localhost:8080/",
     "height": 419
    },
    "id": "k_Nao4gfUXfg",
    "outputId": "222678f2-4f2e-46b1-ac18-843d8019596f"
   },
   "outputs": [
    {
     "data": {
      "text/html": [
       "<div>\n",
       "<style scoped>\n",
       "    .dataframe tbody tr th:only-of-type {\n",
       "        vertical-align: middle;\n",
       "    }\n",
       "\n",
       "    .dataframe tbody tr th {\n",
       "        vertical-align: top;\n",
       "    }\n",
       "\n",
       "    .dataframe thead th {\n",
       "        text-align: right;\n",
       "    }\n",
       "</style>\n",
       "<table border=\"1\" class=\"dataframe\">\n",
       "  <thead>\n",
       "    <tr style=\"text-align: right;\">\n",
       "      <th></th>\n",
       "      <th>index</th>\n",
       "      <th>variable</th>\n",
       "      <th>value</th>\n",
       "    </tr>\n",
       "  </thead>\n",
       "  <tbody>\n",
       "    <tr>\n",
       "      <th>0</th>\n",
       "      <td>0</td>\n",
       "      <td>lg</td>\n",
       "      <td>0.866667</td>\n",
       "    </tr>\n",
       "    <tr>\n",
       "      <th>1</th>\n",
       "      <td>1</td>\n",
       "      <td>lg</td>\n",
       "      <td>0.866667</td>\n",
       "    </tr>\n",
       "    <tr>\n",
       "      <th>2</th>\n",
       "      <td>2</td>\n",
       "      <td>lg</td>\n",
       "      <td>0.666667</td>\n",
       "    </tr>\n",
       "    <tr>\n",
       "      <th>3</th>\n",
       "      <td>3</td>\n",
       "      <td>lg</td>\n",
       "      <td>0.800000</td>\n",
       "    </tr>\n",
       "    <tr>\n",
       "      <th>4</th>\n",
       "      <td>4</td>\n",
       "      <td>lg</td>\n",
       "      <td>0.700000</td>\n",
       "    </tr>\n",
       "    <tr>\n",
       "      <th>...</th>\n",
       "      <td>...</td>\n",
       "      <td>...</td>\n",
       "      <td>...</td>\n",
       "    </tr>\n",
       "    <tr>\n",
       "      <th>235</th>\n",
       "      <td>25</td>\n",
       "      <td>Bagging</td>\n",
       "      <td>0.800000</td>\n",
       "    </tr>\n",
       "    <tr>\n",
       "      <th>236</th>\n",
       "      <td>26</td>\n",
       "      <td>Bagging</td>\n",
       "      <td>0.866667</td>\n",
       "    </tr>\n",
       "    <tr>\n",
       "      <th>237</th>\n",
       "      <td>27</td>\n",
       "      <td>Bagging</td>\n",
       "      <td>0.800000</td>\n",
       "    </tr>\n",
       "    <tr>\n",
       "      <th>238</th>\n",
       "      <td>28</td>\n",
       "      <td>Bagging</td>\n",
       "      <td>0.733333</td>\n",
       "    </tr>\n",
       "    <tr>\n",
       "      <th>239</th>\n",
       "      <td>29</td>\n",
       "      <td>Bagging</td>\n",
       "      <td>0.931034</td>\n",
       "    </tr>\n",
       "  </tbody>\n",
       "</table>\n",
       "<p>240 rows × 3 columns</p>\n",
       "</div>"
      ],
      "text/plain": [
       "     index variable     value\n",
       "0        0       lg  0.866667\n",
       "1        1       lg  0.866667\n",
       "2        2       lg  0.666667\n",
       "3        3       lg  0.800000\n",
       "4        4       lg  0.700000\n",
       "..     ...      ...       ...\n",
       "235     25  Bagging  0.800000\n",
       "236     26  Bagging  0.866667\n",
       "237     27  Bagging  0.800000\n",
       "238     28  Bagging  0.733333\n",
       "239     29  Bagging  0.931034\n",
       "\n",
       "[240 rows x 3 columns]"
      ]
     },
     "execution_count": 22,
     "metadata": {},
     "output_type": "execute_result"
    }
   ],
   "source": [
    "classmod = pd.DataFrame(np.transpose(results), columns = [\"lg\",\"KNN\",\"SVC\",\"Tree\",\"Random Forest\",\"GBM\",\"GNB\",\"Bagging\"])\n",
    "classmod = pd.melt(classmod.reset_index(), id_vars='index',value_vars=[\"lg\",\"KNN\",\"SVC\",\"Tree\",\"Random Forest\",\"GBM\",\"GNB\",\"Bagging\"])\n",
    "classmod = classmod.dropna()\n",
    "classmod"
   ]
  },
  {
   "cell_type": "markdown",
   "metadata": {
    "id": "SJjWyqv5UfiY"
   },
   "source": [
    "### Accuracy Box Plot"
   ]
  },
  {
   "cell_type": "code",
   "execution_count": 24,
   "metadata": {
    "colab": {
     "base_uri": "https://localhost:8080/",
     "height": 542
    },
    "id": "L6GkzOUpUhY3",
    "outputId": "8218ff8d-ddf5-41aa-cc2e-4557d47eaa3a"
   },
   "outputs": [
    {
     "data": {
      "application/vnd.plotly.v1+json": {
       "config": {
        "plotlyServerURL": "https://plot.ly"
       },
       "data": [
        {
         "alignmentgroup": "True",
         "boxpoints": "all",
         "hovertemplate": "variable=%{x}<br>value=%{y}<extra></extra>",
         "legendgroup": "lg",
         "marker": {
          "color": "#636efa"
         },
         "name": "lg",
         "notched": false,
         "offsetgroup": "lg",
         "orientation": "v",
         "showlegend": true,
         "type": "box",
         "x": [
          "lg",
          "lg",
          "lg",
          "lg",
          "lg",
          "lg",
          "lg",
          "lg",
          "lg",
          "lg",
          "lg",
          "lg",
          "lg",
          "lg",
          "lg",
          "lg",
          "lg",
          "lg",
          "lg",
          "lg",
          "lg",
          "lg",
          "lg",
          "lg",
          "lg",
          "lg",
          "lg",
          "lg",
          "lg",
          "lg"
         ],
         "x0": " ",
         "xaxis": "x",
         "y": [
          0.8666666666666667,
          0.8666666666666667,
          0.6666666666666666,
          0.8,
          0.7,
          0.8333333333333334,
          0.8,
          0.8333333333333334,
          0.8666666666666667,
          0.9310344827586207,
          0.9,
          0.8333333333333334,
          0.9,
          0.8,
          0.7666666666666667,
          0.8,
          0.8333333333333334,
          0.8666666666666667,
          0.9,
          0.6896551724137931,
          0.8666666666666667,
          0.8666666666666667,
          0.6,
          0.8666666666666667,
          0.9,
          0.8333333333333334,
          0.8666666666666667,
          0.7666666666666667,
          0.8333333333333334,
          0.896551724137931
         ],
         "y0": " ",
         "yaxis": "y"
        },
        {
         "alignmentgroup": "True",
         "boxpoints": "all",
         "hovertemplate": "variable=%{x}<br>value=%{y}<extra></extra>",
         "legendgroup": "KNN",
         "marker": {
          "color": "#EF553B"
         },
         "name": "KNN",
         "notched": false,
         "offsetgroup": "KNN",
         "orientation": "v",
         "showlegend": true,
         "type": "box",
         "x": [
          "KNN",
          "KNN",
          "KNN",
          "KNN",
          "KNN",
          "KNN",
          "KNN",
          "KNN",
          "KNN",
          "KNN",
          "KNN",
          "KNN",
          "KNN",
          "KNN",
          "KNN",
          "KNN",
          "KNN",
          "KNN",
          "KNN",
          "KNN",
          "KNN",
          "KNN",
          "KNN",
          "KNN",
          "KNN",
          "KNN",
          "KNN",
          "KNN",
          "KNN",
          "KNN"
         ],
         "x0": " ",
         "xaxis": "x",
         "y": [
          0.6333333333333333,
          0.7333333333333333,
          0.6666666666666666,
          0.6333333333333333,
          0.5,
          0.7666666666666667,
          0.5666666666666667,
          0.6,
          0.6,
          0.5517241379310345,
          0.7,
          0.6333333333333333,
          0.6666666666666666,
          0.6666666666666666,
          0.6333333333333333,
          0.6333333333333333,
          0.5666666666666667,
          0.6,
          0.6,
          0.5862068965517241,
          0.6333333333333333,
          0.7666666666666667,
          0.4,
          0.6333333333333333,
          0.6333333333333333,
          0.6333333333333333,
          0.6666666666666666,
          0.5666666666666667,
          0.6333333333333333,
          0.6206896551724138
         ],
         "y0": " ",
         "yaxis": "y"
        },
        {
         "alignmentgroup": "True",
         "boxpoints": "all",
         "hovertemplate": "variable=%{x}<br>value=%{y}<extra></extra>",
         "legendgroup": "SVC",
         "marker": {
          "color": "#00cc96"
         },
         "name": "SVC",
         "notched": false,
         "offsetgroup": "SVC",
         "orientation": "v",
         "showlegend": true,
         "type": "box",
         "x": [
          "SVC",
          "SVC",
          "SVC",
          "SVC",
          "SVC",
          "SVC",
          "SVC",
          "SVC",
          "SVC",
          "SVC",
          "SVC",
          "SVC",
          "SVC",
          "SVC",
          "SVC",
          "SVC",
          "SVC",
          "SVC",
          "SVC",
          "SVC",
          "SVC",
          "SVC",
          "SVC",
          "SVC",
          "SVC",
          "SVC",
          "SVC",
          "SVC",
          "SVC",
          "SVC"
         ],
         "x0": " ",
         "xaxis": "x",
         "y": [
          0.7333333333333333,
          0.8,
          0.6,
          0.6666666666666666,
          0.4666666666666667,
          0.7666666666666667,
          0.6666666666666666,
          0.6666666666666666,
          0.7,
          0.7241379310344828,
          0.7,
          0.6333333333333333,
          0.7,
          0.6666666666666666,
          0.5666666666666667,
          0.7,
          0.8333333333333334,
          0.6333333333333333,
          0.7,
          0.6551724137931034,
          0.7,
          0.8,
          0.5,
          0.6333333333333333,
          0.6,
          0.7,
          0.8,
          0.7333333333333333,
          0.5666666666666667,
          0.7586206896551724
         ],
         "y0": " ",
         "yaxis": "y"
        },
        {
         "alignmentgroup": "True",
         "boxpoints": "all",
         "hovertemplate": "variable=%{x}<br>value=%{y}<extra></extra>",
         "legendgroup": "Tree",
         "marker": {
          "color": "#ab63fa"
         },
         "name": "Tree",
         "notched": false,
         "offsetgroup": "Tree",
         "orientation": "v",
         "showlegend": true,
         "type": "box",
         "x": [
          "Tree",
          "Tree",
          "Tree",
          "Tree",
          "Tree",
          "Tree",
          "Tree",
          "Tree",
          "Tree",
          "Tree",
          "Tree",
          "Tree",
          "Tree",
          "Tree",
          "Tree",
          "Tree",
          "Tree",
          "Tree",
          "Tree",
          "Tree",
          "Tree",
          "Tree",
          "Tree",
          "Tree",
          "Tree",
          "Tree",
          "Tree",
          "Tree",
          "Tree",
          "Tree"
         ],
         "x0": " ",
         "xaxis": "x",
         "y": [
          0.8,
          0.8333333333333334,
          0.7333333333333333,
          0.6666666666666666,
          0.7666666666666667,
          0.8333333333333334,
          0.8,
          0.8,
          0.8,
          0.7586206896551724,
          0.8,
          0.6333333333333333,
          0.8,
          0.6666666666666666,
          0.7333333333333333,
          0.7,
          0.7666666666666667,
          0.8,
          0.8333333333333334,
          0.6896551724137931,
          0.9,
          0.7666666666666667,
          0.6666666666666666,
          0.8,
          0.8333333333333334,
          0.7666666666666667,
          0.9333333333333333,
          0.7666666666666667,
          0.7333333333333333,
          0.8620689655172413
         ],
         "y0": " ",
         "yaxis": "y"
        },
        {
         "alignmentgroup": "True",
         "boxpoints": "all",
         "hovertemplate": "variable=%{x}<br>value=%{y}<extra></extra>",
         "legendgroup": "Random Forest",
         "marker": {
          "color": "#FFA15A"
         },
         "name": "Random Forest",
         "notched": false,
         "offsetgroup": "Random Forest",
         "orientation": "v",
         "showlegend": true,
         "type": "box",
         "x": [
          "Random Forest",
          "Random Forest",
          "Random Forest",
          "Random Forest",
          "Random Forest",
          "Random Forest",
          "Random Forest",
          "Random Forest",
          "Random Forest",
          "Random Forest",
          "Random Forest",
          "Random Forest",
          "Random Forest",
          "Random Forest",
          "Random Forest",
          "Random Forest",
          "Random Forest",
          "Random Forest",
          "Random Forest",
          "Random Forest",
          "Random Forest",
          "Random Forest",
          "Random Forest",
          "Random Forest",
          "Random Forest",
          "Random Forest",
          "Random Forest",
          "Random Forest",
          "Random Forest",
          "Random Forest"
         ],
         "x0": " ",
         "xaxis": "x",
         "y": [
          0.9,
          0.9666666666666667,
          0.8,
          0.8666666666666667,
          0.7333333333333333,
          0.8666666666666667,
          0.8,
          0.8333333333333334,
          0.8333333333333334,
          1,
          0.9,
          0.8333333333333334,
          0.8666666666666667,
          0.9,
          0.8333333333333334,
          0.8333333333333334,
          0.9666666666666667,
          0.8666666666666667,
          0.8,
          0.7241379310344828,
          0.9333333333333333,
          0.9666666666666667,
          0.6,
          0.8666666666666667,
          0.9,
          0.8666666666666667,
          0.8666666666666667,
          0.8,
          0.7666666666666667,
          0.9655172413793104
         ],
         "y0": " ",
         "yaxis": "y"
        },
        {
         "alignmentgroup": "True",
         "boxpoints": "all",
         "hovertemplate": "variable=%{x}<br>value=%{y}<extra></extra>",
         "legendgroup": "GBM",
         "marker": {
          "color": "#19d3f3"
         },
         "name": "GBM",
         "notched": false,
         "offsetgroup": "GBM",
         "orientation": "v",
         "showlegend": true,
         "type": "box",
         "x": [
          "GBM",
          "GBM",
          "GBM",
          "GBM",
          "GBM",
          "GBM",
          "GBM",
          "GBM",
          "GBM",
          "GBM",
          "GBM",
          "GBM",
          "GBM",
          "GBM",
          "GBM",
          "GBM",
          "GBM",
          "GBM",
          "GBM",
          "GBM",
          "GBM",
          "GBM",
          "GBM",
          "GBM",
          "GBM",
          "GBM",
          "GBM",
          "GBM",
          "GBM",
          "GBM"
         ],
         "x0": " ",
         "xaxis": "x",
         "y": [
          0.8333333333333334,
          0.8666666666666667,
          0.7666666666666667,
          0.8333333333333334,
          0.7666666666666667,
          0.9,
          0.8,
          0.8333333333333334,
          0.8666666666666667,
          1,
          0.8666666666666667,
          0.8666666666666667,
          0.8666666666666667,
          0.9666666666666667,
          0.8,
          0.7333333333333333,
          0.9,
          0.8666666666666667,
          0.8666666666666667,
          0.6551724137931034,
          0.9,
          0.8,
          0.7,
          0.8666666666666667,
          0.9333333333333333,
          0.8666666666666667,
          0.8666666666666667,
          0.8,
          0.7666666666666667,
          0.9310344827586207
         ],
         "y0": " ",
         "yaxis": "y"
        },
        {
         "alignmentgroup": "True",
         "boxpoints": "all",
         "hovertemplate": "variable=%{x}<br>value=%{y}<extra></extra>",
         "legendgroup": "GNB",
         "marker": {
          "color": "#FF6692"
         },
         "name": "GNB",
         "notched": false,
         "offsetgroup": "GNB",
         "orientation": "v",
         "showlegend": true,
         "type": "box",
         "x": [
          "GNB",
          "GNB",
          "GNB",
          "GNB",
          "GNB",
          "GNB",
          "GNB",
          "GNB",
          "GNB",
          "GNB",
          "GNB",
          "GNB",
          "GNB",
          "GNB",
          "GNB",
          "GNB",
          "GNB",
          "GNB",
          "GNB",
          "GNB",
          "GNB",
          "GNB",
          "GNB",
          "GNB",
          "GNB",
          "GNB",
          "GNB",
          "GNB",
          "GNB",
          "GNB"
         ],
         "x0": " ",
         "xaxis": "x",
         "y": [
          0.9,
          0.9,
          0.6666666666666666,
          0.7666666666666667,
          0.6666666666666666,
          0.7666666666666667,
          0.6333333333333333,
          0.8333333333333334,
          0.8666666666666667,
          0.9310344827586207,
          0.8666666666666667,
          0.7,
          0.8333333333333334,
          0.7666666666666667,
          0.7333333333333333,
          0.8333333333333334,
          0.8666666666666667,
          0.8333333333333334,
          0.8,
          0.6896551724137931,
          0.8666666666666667,
          0.8333333333333334,
          0.5666666666666667,
          0.8,
          0.8333333333333334,
          0.7666666666666667,
          0.7666666666666667,
          0.8,
          0.8,
          0.9310344827586207
         ],
         "y0": " ",
         "yaxis": "y"
        },
        {
         "alignmentgroup": "True",
         "boxpoints": "all",
         "hovertemplate": "variable=%{x}<br>value=%{y}<extra></extra>",
         "legendgroup": "Bagging",
         "marker": {
          "color": "#B6E880"
         },
         "name": "Bagging",
         "notched": false,
         "offsetgroup": "Bagging",
         "orientation": "v",
         "showlegend": true,
         "type": "box",
         "x": [
          "Bagging",
          "Bagging",
          "Bagging",
          "Bagging",
          "Bagging",
          "Bagging",
          "Bagging",
          "Bagging",
          "Bagging",
          "Bagging",
          "Bagging",
          "Bagging",
          "Bagging",
          "Bagging",
          "Bagging",
          "Bagging",
          "Bagging",
          "Bagging",
          "Bagging",
          "Bagging",
          "Bagging",
          "Bagging",
          "Bagging",
          "Bagging",
          "Bagging",
          "Bagging",
          "Bagging",
          "Bagging",
          "Bagging",
          "Bagging"
         ],
         "x0": " ",
         "xaxis": "x",
         "y": [
          0.8,
          0.9333333333333333,
          0.7666666666666667,
          0.8333333333333334,
          0.7333333333333333,
          0.8,
          0.8,
          0.8,
          0.8,
          0.896551724137931,
          0.8,
          0.9,
          0.8666666666666667,
          0.7333333333333333,
          0.7666666666666667,
          0.7666666666666667,
          0.9333333333333333,
          0.9,
          0.7666666666666667,
          0.6551724137931034,
          0.9,
          0.8,
          0.5666666666666667,
          0.8333333333333334,
          0.8,
          0.8,
          0.8666666666666667,
          0.8,
          0.7333333333333333,
          0.9310344827586207
         ],
         "y0": " ",
         "yaxis": "y"
        }
       ],
       "layout": {
        "boxmode": "overlay",
        "legend": {
         "title": {
          "text": "variable"
         },
         "tracegroupgap": 0
        },
        "margin": {
         "t": 60
        },
        "template": {
         "data": {
          "bar": [
           {
            "error_x": {
             "color": "#2a3f5f"
            },
            "error_y": {
             "color": "#2a3f5f"
            },
            "marker": {
             "line": {
              "color": "#E5ECF6",
              "width": 0.5
             },
             "pattern": {
              "fillmode": "overlay",
              "size": 10,
              "solidity": 0.2
             }
            },
            "type": "bar"
           }
          ],
          "barpolar": [
           {
            "marker": {
             "line": {
              "color": "#E5ECF6",
              "width": 0.5
             },
             "pattern": {
              "fillmode": "overlay",
              "size": 10,
              "solidity": 0.2
             }
            },
            "type": "barpolar"
           }
          ],
          "carpet": [
           {
            "aaxis": {
             "endlinecolor": "#2a3f5f",
             "gridcolor": "white",
             "linecolor": "white",
             "minorgridcolor": "white",
             "startlinecolor": "#2a3f5f"
            },
            "baxis": {
             "endlinecolor": "#2a3f5f",
             "gridcolor": "white",
             "linecolor": "white",
             "minorgridcolor": "white",
             "startlinecolor": "#2a3f5f"
            },
            "type": "carpet"
           }
          ],
          "choropleth": [
           {
            "colorbar": {
             "outlinewidth": 0,
             "ticks": ""
            },
            "type": "choropleth"
           }
          ],
          "contour": [
           {
            "colorbar": {
             "outlinewidth": 0,
             "ticks": ""
            },
            "colorscale": [
             [
              0,
              "#0d0887"
             ],
             [
              0.1111111111111111,
              "#46039f"
             ],
             [
              0.2222222222222222,
              "#7201a8"
             ],
             [
              0.3333333333333333,
              "#9c179e"
             ],
             [
              0.4444444444444444,
              "#bd3786"
             ],
             [
              0.5555555555555556,
              "#d8576b"
             ],
             [
              0.6666666666666666,
              "#ed7953"
             ],
             [
              0.7777777777777778,
              "#fb9f3a"
             ],
             [
              0.8888888888888888,
              "#fdca26"
             ],
             [
              1,
              "#f0f921"
             ]
            ],
            "type": "contour"
           }
          ],
          "contourcarpet": [
           {
            "colorbar": {
             "outlinewidth": 0,
             "ticks": ""
            },
            "type": "contourcarpet"
           }
          ],
          "heatmap": [
           {
            "colorbar": {
             "outlinewidth": 0,
             "ticks": ""
            },
            "colorscale": [
             [
              0,
              "#0d0887"
             ],
             [
              0.1111111111111111,
              "#46039f"
             ],
             [
              0.2222222222222222,
              "#7201a8"
             ],
             [
              0.3333333333333333,
              "#9c179e"
             ],
             [
              0.4444444444444444,
              "#bd3786"
             ],
             [
              0.5555555555555556,
              "#d8576b"
             ],
             [
              0.6666666666666666,
              "#ed7953"
             ],
             [
              0.7777777777777778,
              "#fb9f3a"
             ],
             [
              0.8888888888888888,
              "#fdca26"
             ],
             [
              1,
              "#f0f921"
             ]
            ],
            "type": "heatmap"
           }
          ],
          "heatmapgl": [
           {
            "colorbar": {
             "outlinewidth": 0,
             "ticks": ""
            },
            "colorscale": [
             [
              0,
              "#0d0887"
             ],
             [
              0.1111111111111111,
              "#46039f"
             ],
             [
              0.2222222222222222,
              "#7201a8"
             ],
             [
              0.3333333333333333,
              "#9c179e"
             ],
             [
              0.4444444444444444,
              "#bd3786"
             ],
             [
              0.5555555555555556,
              "#d8576b"
             ],
             [
              0.6666666666666666,
              "#ed7953"
             ],
             [
              0.7777777777777778,
              "#fb9f3a"
             ],
             [
              0.8888888888888888,
              "#fdca26"
             ],
             [
              1,
              "#f0f921"
             ]
            ],
            "type": "heatmapgl"
           }
          ],
          "histogram": [
           {
            "marker": {
             "pattern": {
              "fillmode": "overlay",
              "size": 10,
              "solidity": 0.2
             }
            },
            "type": "histogram"
           }
          ],
          "histogram2d": [
           {
            "colorbar": {
             "outlinewidth": 0,
             "ticks": ""
            },
            "colorscale": [
             [
              0,
              "#0d0887"
             ],
             [
              0.1111111111111111,
              "#46039f"
             ],
             [
              0.2222222222222222,
              "#7201a8"
             ],
             [
              0.3333333333333333,
              "#9c179e"
             ],
             [
              0.4444444444444444,
              "#bd3786"
             ],
             [
              0.5555555555555556,
              "#d8576b"
             ],
             [
              0.6666666666666666,
              "#ed7953"
             ],
             [
              0.7777777777777778,
              "#fb9f3a"
             ],
             [
              0.8888888888888888,
              "#fdca26"
             ],
             [
              1,
              "#f0f921"
             ]
            ],
            "type": "histogram2d"
           }
          ],
          "histogram2dcontour": [
           {
            "colorbar": {
             "outlinewidth": 0,
             "ticks": ""
            },
            "colorscale": [
             [
              0,
              "#0d0887"
             ],
             [
              0.1111111111111111,
              "#46039f"
             ],
             [
              0.2222222222222222,
              "#7201a8"
             ],
             [
              0.3333333333333333,
              "#9c179e"
             ],
             [
              0.4444444444444444,
              "#bd3786"
             ],
             [
              0.5555555555555556,
              "#d8576b"
             ],
             [
              0.6666666666666666,
              "#ed7953"
             ],
             [
              0.7777777777777778,
              "#fb9f3a"
             ],
             [
              0.8888888888888888,
              "#fdca26"
             ],
             [
              1,
              "#f0f921"
             ]
            ],
            "type": "histogram2dcontour"
           }
          ],
          "mesh3d": [
           {
            "colorbar": {
             "outlinewidth": 0,
             "ticks": ""
            },
            "type": "mesh3d"
           }
          ],
          "parcoords": [
           {
            "line": {
             "colorbar": {
              "outlinewidth": 0,
              "ticks": ""
             }
            },
            "type": "parcoords"
           }
          ],
          "pie": [
           {
            "automargin": true,
            "type": "pie"
           }
          ],
          "scatter": [
           {
            "marker": {
             "colorbar": {
              "outlinewidth": 0,
              "ticks": ""
             }
            },
            "type": "scatter"
           }
          ],
          "scatter3d": [
           {
            "line": {
             "colorbar": {
              "outlinewidth": 0,
              "ticks": ""
             }
            },
            "marker": {
             "colorbar": {
              "outlinewidth": 0,
              "ticks": ""
             }
            },
            "type": "scatter3d"
           }
          ],
          "scattercarpet": [
           {
            "marker": {
             "colorbar": {
              "outlinewidth": 0,
              "ticks": ""
             }
            },
            "type": "scattercarpet"
           }
          ],
          "scattergeo": [
           {
            "marker": {
             "colorbar": {
              "outlinewidth": 0,
              "ticks": ""
             }
            },
            "type": "scattergeo"
           }
          ],
          "scattergl": [
           {
            "marker": {
             "colorbar": {
              "outlinewidth": 0,
              "ticks": ""
             }
            },
            "type": "scattergl"
           }
          ],
          "scattermapbox": [
           {
            "marker": {
             "colorbar": {
              "outlinewidth": 0,
              "ticks": ""
             }
            },
            "type": "scattermapbox"
           }
          ],
          "scatterpolar": [
           {
            "marker": {
             "colorbar": {
              "outlinewidth": 0,
              "ticks": ""
             }
            },
            "type": "scatterpolar"
           }
          ],
          "scatterpolargl": [
           {
            "marker": {
             "colorbar": {
              "outlinewidth": 0,
              "ticks": ""
             }
            },
            "type": "scatterpolargl"
           }
          ],
          "scatterternary": [
           {
            "marker": {
             "colorbar": {
              "outlinewidth": 0,
              "ticks": ""
             }
            },
            "type": "scatterternary"
           }
          ],
          "surface": [
           {
            "colorbar": {
             "outlinewidth": 0,
             "ticks": ""
            },
            "colorscale": [
             [
              0,
              "#0d0887"
             ],
             [
              0.1111111111111111,
              "#46039f"
             ],
             [
              0.2222222222222222,
              "#7201a8"
             ],
             [
              0.3333333333333333,
              "#9c179e"
             ],
             [
              0.4444444444444444,
              "#bd3786"
             ],
             [
              0.5555555555555556,
              "#d8576b"
             ],
             [
              0.6666666666666666,
              "#ed7953"
             ],
             [
              0.7777777777777778,
              "#fb9f3a"
             ],
             [
              0.8888888888888888,
              "#fdca26"
             ],
             [
              1,
              "#f0f921"
             ]
            ],
            "type": "surface"
           }
          ],
          "table": [
           {
            "cells": {
             "fill": {
              "color": "#EBF0F8"
             },
             "line": {
              "color": "white"
             }
            },
            "header": {
             "fill": {
              "color": "#C8D4E3"
             },
             "line": {
              "color": "white"
             }
            },
            "type": "table"
           }
          ]
         },
         "layout": {
          "annotationdefaults": {
           "arrowcolor": "#2a3f5f",
           "arrowhead": 0,
           "arrowwidth": 1
          },
          "autotypenumbers": "strict",
          "coloraxis": {
           "colorbar": {
            "outlinewidth": 0,
            "ticks": ""
           }
          },
          "colorscale": {
           "diverging": [
            [
             0,
             "#8e0152"
            ],
            [
             0.1,
             "#c51b7d"
            ],
            [
             0.2,
             "#de77ae"
            ],
            [
             0.3,
             "#f1b6da"
            ],
            [
             0.4,
             "#fde0ef"
            ],
            [
             0.5,
             "#f7f7f7"
            ],
            [
             0.6,
             "#e6f5d0"
            ],
            [
             0.7,
             "#b8e186"
            ],
            [
             0.8,
             "#7fbc41"
            ],
            [
             0.9,
             "#4d9221"
            ],
            [
             1,
             "#276419"
            ]
           ],
           "sequential": [
            [
             0,
             "#0d0887"
            ],
            [
             0.1111111111111111,
             "#46039f"
            ],
            [
             0.2222222222222222,
             "#7201a8"
            ],
            [
             0.3333333333333333,
             "#9c179e"
            ],
            [
             0.4444444444444444,
             "#bd3786"
            ],
            [
             0.5555555555555556,
             "#d8576b"
            ],
            [
             0.6666666666666666,
             "#ed7953"
            ],
            [
             0.7777777777777778,
             "#fb9f3a"
            ],
            [
             0.8888888888888888,
             "#fdca26"
            ],
            [
             1,
             "#f0f921"
            ]
           ],
           "sequentialminus": [
            [
             0,
             "#0d0887"
            ],
            [
             0.1111111111111111,
             "#46039f"
            ],
            [
             0.2222222222222222,
             "#7201a8"
            ],
            [
             0.3333333333333333,
             "#9c179e"
            ],
            [
             0.4444444444444444,
             "#bd3786"
            ],
            [
             0.5555555555555556,
             "#d8576b"
            ],
            [
             0.6666666666666666,
             "#ed7953"
            ],
            [
             0.7777777777777778,
             "#fb9f3a"
            ],
            [
             0.8888888888888888,
             "#fdca26"
            ],
            [
             1,
             "#f0f921"
            ]
           ]
          },
          "colorway": [
           "#636efa",
           "#EF553B",
           "#00cc96",
           "#ab63fa",
           "#FFA15A",
           "#19d3f3",
           "#FF6692",
           "#B6E880",
           "#FF97FF",
           "#FECB52"
          ],
          "font": {
           "color": "#2a3f5f"
          },
          "geo": {
           "bgcolor": "white",
           "lakecolor": "white",
           "landcolor": "#E5ECF6",
           "showlakes": true,
           "showland": true,
           "subunitcolor": "white"
          },
          "hoverlabel": {
           "align": "left"
          },
          "hovermode": "closest",
          "mapbox": {
           "style": "light"
          },
          "paper_bgcolor": "white",
          "plot_bgcolor": "#E5ECF6",
          "polar": {
           "angularaxis": {
            "gridcolor": "white",
            "linecolor": "white",
            "ticks": ""
           },
           "bgcolor": "#E5ECF6",
           "radialaxis": {
            "gridcolor": "white",
            "linecolor": "white",
            "ticks": ""
           }
          },
          "scene": {
           "xaxis": {
            "backgroundcolor": "#E5ECF6",
            "gridcolor": "white",
            "gridwidth": 2,
            "linecolor": "white",
            "showbackground": true,
            "ticks": "",
            "zerolinecolor": "white"
           },
           "yaxis": {
            "backgroundcolor": "#E5ECF6",
            "gridcolor": "white",
            "gridwidth": 2,
            "linecolor": "white",
            "showbackground": true,
            "ticks": "",
            "zerolinecolor": "white"
           },
           "zaxis": {
            "backgroundcolor": "#E5ECF6",
            "gridcolor": "white",
            "gridwidth": 2,
            "linecolor": "white",
            "showbackground": true,
            "ticks": "",
            "zerolinecolor": "white"
           }
          },
          "shapedefaults": {
           "line": {
            "color": "#2a3f5f"
           }
          },
          "ternary": {
           "aaxis": {
            "gridcolor": "white",
            "linecolor": "white",
            "ticks": ""
           },
           "baxis": {
            "gridcolor": "white",
            "linecolor": "white",
            "ticks": ""
           },
           "bgcolor": "#E5ECF6",
           "caxis": {
            "gridcolor": "white",
            "linecolor": "white",
            "ticks": ""
           }
          },
          "title": {
           "x": 0.05
          },
          "xaxis": {
           "automargin": true,
           "gridcolor": "white",
           "linecolor": "white",
           "ticks": "",
           "title": {
            "standoff": 15
           },
           "zerolinecolor": "white",
           "zerolinewidth": 2
          },
          "yaxis": {
           "automargin": true,
           "gridcolor": "white",
           "linecolor": "white",
           "ticks": "",
           "title": {
            "standoff": 15
           },
           "zerolinecolor": "white",
           "zerolinewidth": 2
          }
         }
        },
        "xaxis": {
         "anchor": "y",
         "categoryarray": [
          "lg",
          "KNN",
          "SVC",
          "Tree",
          "Random Forest",
          "GBM",
          "GNB",
          "Bagging"
         ],
         "categoryorder": "array",
         "domain": [
          0,
          1
         ],
         "title": {
          "text": "variable"
         }
        },
        "yaxis": {
         "anchor": "x",
         "domain": [
          0,
          1
         ],
         "title": {
          "text": "value"
         }
        }
       }
      },
      "text/html": [
       "<div>                            <div id=\"144e4ac5-72d4-4716-9684-1bc1eb639de3\" class=\"plotly-graph-div\" style=\"height:525px; width:100%;\"></div>            <script type=\"text/javascript\">                require([\"plotly\"], function(Plotly) {                    window.PLOTLYENV=window.PLOTLYENV || {};                                    if (document.getElementById(\"144e4ac5-72d4-4716-9684-1bc1eb639de3\")) {                    Plotly.newPlot(                        \"144e4ac5-72d4-4716-9684-1bc1eb639de3\",                        [{\"alignmentgroup\":\"True\",\"boxpoints\":\"all\",\"hovertemplate\":\"variable=%{x}<br>value=%{y}<extra></extra>\",\"legendgroup\":\"lg\",\"marker\":{\"color\":\"#636efa\"},\"name\":\"lg\",\"notched\":false,\"offsetgroup\":\"lg\",\"orientation\":\"v\",\"showlegend\":true,\"type\":\"box\",\"x\":[\"lg\",\"lg\",\"lg\",\"lg\",\"lg\",\"lg\",\"lg\",\"lg\",\"lg\",\"lg\",\"lg\",\"lg\",\"lg\",\"lg\",\"lg\",\"lg\",\"lg\",\"lg\",\"lg\",\"lg\",\"lg\",\"lg\",\"lg\",\"lg\",\"lg\",\"lg\",\"lg\",\"lg\",\"lg\",\"lg\"],\"x0\":\" \",\"xaxis\":\"x\",\"y\":[0.8666666666666667,0.8666666666666667,0.6666666666666666,0.8,0.7,0.8333333333333334,0.8,0.8333333333333334,0.8666666666666667,0.9310344827586207,0.9,0.8333333333333334,0.9,0.8,0.7666666666666667,0.8,0.8333333333333334,0.8666666666666667,0.9,0.6896551724137931,0.8666666666666667,0.8666666666666667,0.6,0.8666666666666667,0.9,0.8333333333333334,0.8666666666666667,0.7666666666666667,0.8333333333333334,0.896551724137931],\"y0\":\" \",\"yaxis\":\"y\"},{\"alignmentgroup\":\"True\",\"boxpoints\":\"all\",\"hovertemplate\":\"variable=%{x}<br>value=%{y}<extra></extra>\",\"legendgroup\":\"KNN\",\"marker\":{\"color\":\"#EF553B\"},\"name\":\"KNN\",\"notched\":false,\"offsetgroup\":\"KNN\",\"orientation\":\"v\",\"showlegend\":true,\"type\":\"box\",\"x\":[\"KNN\",\"KNN\",\"KNN\",\"KNN\",\"KNN\",\"KNN\",\"KNN\",\"KNN\",\"KNN\",\"KNN\",\"KNN\",\"KNN\",\"KNN\",\"KNN\",\"KNN\",\"KNN\",\"KNN\",\"KNN\",\"KNN\",\"KNN\",\"KNN\",\"KNN\",\"KNN\",\"KNN\",\"KNN\",\"KNN\",\"KNN\",\"KNN\",\"KNN\",\"KNN\"],\"x0\":\" \",\"xaxis\":\"x\",\"y\":[0.6333333333333333,0.7333333333333333,0.6666666666666666,0.6333333333333333,0.5,0.7666666666666667,0.5666666666666667,0.6,0.6,0.5517241379310345,0.7,0.6333333333333333,0.6666666666666666,0.6666666666666666,0.6333333333333333,0.6333333333333333,0.5666666666666667,0.6,0.6,0.5862068965517241,0.6333333333333333,0.7666666666666667,0.4,0.6333333333333333,0.6333333333333333,0.6333333333333333,0.6666666666666666,0.5666666666666667,0.6333333333333333,0.6206896551724138],\"y0\":\" \",\"yaxis\":\"y\"},{\"alignmentgroup\":\"True\",\"boxpoints\":\"all\",\"hovertemplate\":\"variable=%{x}<br>value=%{y}<extra></extra>\",\"legendgroup\":\"SVC\",\"marker\":{\"color\":\"#00cc96\"},\"name\":\"SVC\",\"notched\":false,\"offsetgroup\":\"SVC\",\"orientation\":\"v\",\"showlegend\":true,\"type\":\"box\",\"x\":[\"SVC\",\"SVC\",\"SVC\",\"SVC\",\"SVC\",\"SVC\",\"SVC\",\"SVC\",\"SVC\",\"SVC\",\"SVC\",\"SVC\",\"SVC\",\"SVC\",\"SVC\",\"SVC\",\"SVC\",\"SVC\",\"SVC\",\"SVC\",\"SVC\",\"SVC\",\"SVC\",\"SVC\",\"SVC\",\"SVC\",\"SVC\",\"SVC\",\"SVC\",\"SVC\"],\"x0\":\" \",\"xaxis\":\"x\",\"y\":[0.7333333333333333,0.8,0.6,0.6666666666666666,0.4666666666666667,0.7666666666666667,0.6666666666666666,0.6666666666666666,0.7,0.7241379310344828,0.7,0.6333333333333333,0.7,0.6666666666666666,0.5666666666666667,0.7,0.8333333333333334,0.6333333333333333,0.7,0.6551724137931034,0.7,0.8,0.5,0.6333333333333333,0.6,0.7,0.8,0.7333333333333333,0.5666666666666667,0.7586206896551724],\"y0\":\" \",\"yaxis\":\"y\"},{\"alignmentgroup\":\"True\",\"boxpoints\":\"all\",\"hovertemplate\":\"variable=%{x}<br>value=%{y}<extra></extra>\",\"legendgroup\":\"Tree\",\"marker\":{\"color\":\"#ab63fa\"},\"name\":\"Tree\",\"notched\":false,\"offsetgroup\":\"Tree\",\"orientation\":\"v\",\"showlegend\":true,\"type\":\"box\",\"x\":[\"Tree\",\"Tree\",\"Tree\",\"Tree\",\"Tree\",\"Tree\",\"Tree\",\"Tree\",\"Tree\",\"Tree\",\"Tree\",\"Tree\",\"Tree\",\"Tree\",\"Tree\",\"Tree\",\"Tree\",\"Tree\",\"Tree\",\"Tree\",\"Tree\",\"Tree\",\"Tree\",\"Tree\",\"Tree\",\"Tree\",\"Tree\",\"Tree\",\"Tree\",\"Tree\"],\"x0\":\" \",\"xaxis\":\"x\",\"y\":[0.8,0.8333333333333334,0.7333333333333333,0.6666666666666666,0.7666666666666667,0.8333333333333334,0.8,0.8,0.8,0.7586206896551724,0.8,0.6333333333333333,0.8,0.6666666666666666,0.7333333333333333,0.7,0.7666666666666667,0.8,0.8333333333333334,0.6896551724137931,0.9,0.7666666666666667,0.6666666666666666,0.8,0.8333333333333334,0.7666666666666667,0.9333333333333333,0.7666666666666667,0.7333333333333333,0.8620689655172413],\"y0\":\" \",\"yaxis\":\"y\"},{\"alignmentgroup\":\"True\",\"boxpoints\":\"all\",\"hovertemplate\":\"variable=%{x}<br>value=%{y}<extra></extra>\",\"legendgroup\":\"Random Forest\",\"marker\":{\"color\":\"#FFA15A\"},\"name\":\"Random Forest\",\"notched\":false,\"offsetgroup\":\"Random Forest\",\"orientation\":\"v\",\"showlegend\":true,\"type\":\"box\",\"x\":[\"Random Forest\",\"Random Forest\",\"Random Forest\",\"Random Forest\",\"Random Forest\",\"Random Forest\",\"Random Forest\",\"Random Forest\",\"Random Forest\",\"Random Forest\",\"Random Forest\",\"Random Forest\",\"Random Forest\",\"Random Forest\",\"Random Forest\",\"Random Forest\",\"Random Forest\",\"Random Forest\",\"Random Forest\",\"Random Forest\",\"Random Forest\",\"Random Forest\",\"Random Forest\",\"Random Forest\",\"Random Forest\",\"Random Forest\",\"Random Forest\",\"Random Forest\",\"Random Forest\",\"Random Forest\"],\"x0\":\" \",\"xaxis\":\"x\",\"y\":[0.9,0.9666666666666667,0.8,0.8666666666666667,0.7333333333333333,0.8666666666666667,0.8,0.8333333333333334,0.8333333333333334,1.0,0.9,0.8333333333333334,0.8666666666666667,0.9,0.8333333333333334,0.8333333333333334,0.9666666666666667,0.8666666666666667,0.8,0.7241379310344828,0.9333333333333333,0.9666666666666667,0.6,0.8666666666666667,0.9,0.8666666666666667,0.8666666666666667,0.8,0.7666666666666667,0.9655172413793104],\"y0\":\" \",\"yaxis\":\"y\"},{\"alignmentgroup\":\"True\",\"boxpoints\":\"all\",\"hovertemplate\":\"variable=%{x}<br>value=%{y}<extra></extra>\",\"legendgroup\":\"GBM\",\"marker\":{\"color\":\"#19d3f3\"},\"name\":\"GBM\",\"notched\":false,\"offsetgroup\":\"GBM\",\"orientation\":\"v\",\"showlegend\":true,\"type\":\"box\",\"x\":[\"GBM\",\"GBM\",\"GBM\",\"GBM\",\"GBM\",\"GBM\",\"GBM\",\"GBM\",\"GBM\",\"GBM\",\"GBM\",\"GBM\",\"GBM\",\"GBM\",\"GBM\",\"GBM\",\"GBM\",\"GBM\",\"GBM\",\"GBM\",\"GBM\",\"GBM\",\"GBM\",\"GBM\",\"GBM\",\"GBM\",\"GBM\",\"GBM\",\"GBM\",\"GBM\"],\"x0\":\" \",\"xaxis\":\"x\",\"y\":[0.8333333333333334,0.8666666666666667,0.7666666666666667,0.8333333333333334,0.7666666666666667,0.9,0.8,0.8333333333333334,0.8666666666666667,1.0,0.8666666666666667,0.8666666666666667,0.8666666666666667,0.9666666666666667,0.8,0.7333333333333333,0.9,0.8666666666666667,0.8666666666666667,0.6551724137931034,0.9,0.8,0.7,0.8666666666666667,0.9333333333333333,0.8666666666666667,0.8666666666666667,0.8,0.7666666666666667,0.9310344827586207],\"y0\":\" \",\"yaxis\":\"y\"},{\"alignmentgroup\":\"True\",\"boxpoints\":\"all\",\"hovertemplate\":\"variable=%{x}<br>value=%{y}<extra></extra>\",\"legendgroup\":\"GNB\",\"marker\":{\"color\":\"#FF6692\"},\"name\":\"GNB\",\"notched\":false,\"offsetgroup\":\"GNB\",\"orientation\":\"v\",\"showlegend\":true,\"type\":\"box\",\"x\":[\"GNB\",\"GNB\",\"GNB\",\"GNB\",\"GNB\",\"GNB\",\"GNB\",\"GNB\",\"GNB\",\"GNB\",\"GNB\",\"GNB\",\"GNB\",\"GNB\",\"GNB\",\"GNB\",\"GNB\",\"GNB\",\"GNB\",\"GNB\",\"GNB\",\"GNB\",\"GNB\",\"GNB\",\"GNB\",\"GNB\",\"GNB\",\"GNB\",\"GNB\",\"GNB\"],\"x0\":\" \",\"xaxis\":\"x\",\"y\":[0.9,0.9,0.6666666666666666,0.7666666666666667,0.6666666666666666,0.7666666666666667,0.6333333333333333,0.8333333333333334,0.8666666666666667,0.9310344827586207,0.8666666666666667,0.7,0.8333333333333334,0.7666666666666667,0.7333333333333333,0.8333333333333334,0.8666666666666667,0.8333333333333334,0.8,0.6896551724137931,0.8666666666666667,0.8333333333333334,0.5666666666666667,0.8,0.8333333333333334,0.7666666666666667,0.7666666666666667,0.8,0.8,0.9310344827586207],\"y0\":\" \",\"yaxis\":\"y\"},{\"alignmentgroup\":\"True\",\"boxpoints\":\"all\",\"hovertemplate\":\"variable=%{x}<br>value=%{y}<extra></extra>\",\"legendgroup\":\"Bagging\",\"marker\":{\"color\":\"#B6E880\"},\"name\":\"Bagging\",\"notched\":false,\"offsetgroup\":\"Bagging\",\"orientation\":\"v\",\"showlegend\":true,\"type\":\"box\",\"x\":[\"Bagging\",\"Bagging\",\"Bagging\",\"Bagging\",\"Bagging\",\"Bagging\",\"Bagging\",\"Bagging\",\"Bagging\",\"Bagging\",\"Bagging\",\"Bagging\",\"Bagging\",\"Bagging\",\"Bagging\",\"Bagging\",\"Bagging\",\"Bagging\",\"Bagging\",\"Bagging\",\"Bagging\",\"Bagging\",\"Bagging\",\"Bagging\",\"Bagging\",\"Bagging\",\"Bagging\",\"Bagging\",\"Bagging\",\"Bagging\"],\"x0\":\" \",\"xaxis\":\"x\",\"y\":[0.8,0.9333333333333333,0.7666666666666667,0.8333333333333334,0.7333333333333333,0.8,0.8,0.8,0.8,0.896551724137931,0.8,0.9,0.8666666666666667,0.7333333333333333,0.7666666666666667,0.7666666666666667,0.9333333333333333,0.9,0.7666666666666667,0.6551724137931034,0.9,0.8,0.5666666666666667,0.8333333333333334,0.8,0.8,0.8666666666666667,0.8,0.7333333333333333,0.9310344827586207],\"y0\":\" \",\"yaxis\":\"y\"}],                        {\"boxmode\":\"overlay\",\"legend\":{\"title\":{\"text\":\"variable\"},\"tracegroupgap\":0},\"margin\":{\"t\":60},\"template\":{\"data\":{\"bar\":[{\"error_x\":{\"color\":\"#2a3f5f\"},\"error_y\":{\"color\":\"#2a3f5f\"},\"marker\":{\"line\":{\"color\":\"#E5ECF6\",\"width\":0.5},\"pattern\":{\"fillmode\":\"overlay\",\"size\":10,\"solidity\":0.2}},\"type\":\"bar\"}],\"barpolar\":[{\"marker\":{\"line\":{\"color\":\"#E5ECF6\",\"width\":0.5},\"pattern\":{\"fillmode\":\"overlay\",\"size\":10,\"solidity\":0.2}},\"type\":\"barpolar\"}],\"carpet\":[{\"aaxis\":{\"endlinecolor\":\"#2a3f5f\",\"gridcolor\":\"white\",\"linecolor\":\"white\",\"minorgridcolor\":\"white\",\"startlinecolor\":\"#2a3f5f\"},\"baxis\":{\"endlinecolor\":\"#2a3f5f\",\"gridcolor\":\"white\",\"linecolor\":\"white\",\"minorgridcolor\":\"white\",\"startlinecolor\":\"#2a3f5f\"},\"type\":\"carpet\"}],\"choropleth\":[{\"colorbar\":{\"outlinewidth\":0,\"ticks\":\"\"},\"type\":\"choropleth\"}],\"contour\":[{\"colorbar\":{\"outlinewidth\":0,\"ticks\":\"\"},\"colorscale\":[[0.0,\"#0d0887\"],[0.1111111111111111,\"#46039f\"],[0.2222222222222222,\"#7201a8\"],[0.3333333333333333,\"#9c179e\"],[0.4444444444444444,\"#bd3786\"],[0.5555555555555556,\"#d8576b\"],[0.6666666666666666,\"#ed7953\"],[0.7777777777777778,\"#fb9f3a\"],[0.8888888888888888,\"#fdca26\"],[1.0,\"#f0f921\"]],\"type\":\"contour\"}],\"contourcarpet\":[{\"colorbar\":{\"outlinewidth\":0,\"ticks\":\"\"},\"type\":\"contourcarpet\"}],\"heatmap\":[{\"colorbar\":{\"outlinewidth\":0,\"ticks\":\"\"},\"colorscale\":[[0.0,\"#0d0887\"],[0.1111111111111111,\"#46039f\"],[0.2222222222222222,\"#7201a8\"],[0.3333333333333333,\"#9c179e\"],[0.4444444444444444,\"#bd3786\"],[0.5555555555555556,\"#d8576b\"],[0.6666666666666666,\"#ed7953\"],[0.7777777777777778,\"#fb9f3a\"],[0.8888888888888888,\"#fdca26\"],[1.0,\"#f0f921\"]],\"type\":\"heatmap\"}],\"heatmapgl\":[{\"colorbar\":{\"outlinewidth\":0,\"ticks\":\"\"},\"colorscale\":[[0.0,\"#0d0887\"],[0.1111111111111111,\"#46039f\"],[0.2222222222222222,\"#7201a8\"],[0.3333333333333333,\"#9c179e\"],[0.4444444444444444,\"#bd3786\"],[0.5555555555555556,\"#d8576b\"],[0.6666666666666666,\"#ed7953\"],[0.7777777777777778,\"#fb9f3a\"],[0.8888888888888888,\"#fdca26\"],[1.0,\"#f0f921\"]],\"type\":\"heatmapgl\"}],\"histogram\":[{\"marker\":{\"pattern\":{\"fillmode\":\"overlay\",\"size\":10,\"solidity\":0.2}},\"type\":\"histogram\"}],\"histogram2d\":[{\"colorbar\":{\"outlinewidth\":0,\"ticks\":\"\"},\"colorscale\":[[0.0,\"#0d0887\"],[0.1111111111111111,\"#46039f\"],[0.2222222222222222,\"#7201a8\"],[0.3333333333333333,\"#9c179e\"],[0.4444444444444444,\"#bd3786\"],[0.5555555555555556,\"#d8576b\"],[0.6666666666666666,\"#ed7953\"],[0.7777777777777778,\"#fb9f3a\"],[0.8888888888888888,\"#fdca26\"],[1.0,\"#f0f921\"]],\"type\":\"histogram2d\"}],\"histogram2dcontour\":[{\"colorbar\":{\"outlinewidth\":0,\"ticks\":\"\"},\"colorscale\":[[0.0,\"#0d0887\"],[0.1111111111111111,\"#46039f\"],[0.2222222222222222,\"#7201a8\"],[0.3333333333333333,\"#9c179e\"],[0.4444444444444444,\"#bd3786\"],[0.5555555555555556,\"#d8576b\"],[0.6666666666666666,\"#ed7953\"],[0.7777777777777778,\"#fb9f3a\"],[0.8888888888888888,\"#fdca26\"],[1.0,\"#f0f921\"]],\"type\":\"histogram2dcontour\"}],\"mesh3d\":[{\"colorbar\":{\"outlinewidth\":0,\"ticks\":\"\"},\"type\":\"mesh3d\"}],\"parcoords\":[{\"line\":{\"colorbar\":{\"outlinewidth\":0,\"ticks\":\"\"}},\"type\":\"parcoords\"}],\"pie\":[{\"automargin\":true,\"type\":\"pie\"}],\"scatter\":[{\"marker\":{\"colorbar\":{\"outlinewidth\":0,\"ticks\":\"\"}},\"type\":\"scatter\"}],\"scatter3d\":[{\"line\":{\"colorbar\":{\"outlinewidth\":0,\"ticks\":\"\"}},\"marker\":{\"colorbar\":{\"outlinewidth\":0,\"ticks\":\"\"}},\"type\":\"scatter3d\"}],\"scattercarpet\":[{\"marker\":{\"colorbar\":{\"outlinewidth\":0,\"ticks\":\"\"}},\"type\":\"scattercarpet\"}],\"scattergeo\":[{\"marker\":{\"colorbar\":{\"outlinewidth\":0,\"ticks\":\"\"}},\"type\":\"scattergeo\"}],\"scattergl\":[{\"marker\":{\"colorbar\":{\"outlinewidth\":0,\"ticks\":\"\"}},\"type\":\"scattergl\"}],\"scattermapbox\":[{\"marker\":{\"colorbar\":{\"outlinewidth\":0,\"ticks\":\"\"}},\"type\":\"scattermapbox\"}],\"scatterpolar\":[{\"marker\":{\"colorbar\":{\"outlinewidth\":0,\"ticks\":\"\"}},\"type\":\"scatterpolar\"}],\"scatterpolargl\":[{\"marker\":{\"colorbar\":{\"outlinewidth\":0,\"ticks\":\"\"}},\"type\":\"scatterpolargl\"}],\"scatterternary\":[{\"marker\":{\"colorbar\":{\"outlinewidth\":0,\"ticks\":\"\"}},\"type\":\"scatterternary\"}],\"surface\":[{\"colorbar\":{\"outlinewidth\":0,\"ticks\":\"\"},\"colorscale\":[[0.0,\"#0d0887\"],[0.1111111111111111,\"#46039f\"],[0.2222222222222222,\"#7201a8\"],[0.3333333333333333,\"#9c179e\"],[0.4444444444444444,\"#bd3786\"],[0.5555555555555556,\"#d8576b\"],[0.6666666666666666,\"#ed7953\"],[0.7777777777777778,\"#fb9f3a\"],[0.8888888888888888,\"#fdca26\"],[1.0,\"#f0f921\"]],\"type\":\"surface\"}],\"table\":[{\"cells\":{\"fill\":{\"color\":\"#EBF0F8\"},\"line\":{\"color\":\"white\"}},\"header\":{\"fill\":{\"color\":\"#C8D4E3\"},\"line\":{\"color\":\"white\"}},\"type\":\"table\"}]},\"layout\":{\"annotationdefaults\":{\"arrowcolor\":\"#2a3f5f\",\"arrowhead\":0,\"arrowwidth\":1},\"autotypenumbers\":\"strict\",\"coloraxis\":{\"colorbar\":{\"outlinewidth\":0,\"ticks\":\"\"}},\"colorscale\":{\"diverging\":[[0,\"#8e0152\"],[0.1,\"#c51b7d\"],[0.2,\"#de77ae\"],[0.3,\"#f1b6da\"],[0.4,\"#fde0ef\"],[0.5,\"#f7f7f7\"],[0.6,\"#e6f5d0\"],[0.7,\"#b8e186\"],[0.8,\"#7fbc41\"],[0.9,\"#4d9221\"],[1,\"#276419\"]],\"sequential\":[[0.0,\"#0d0887\"],[0.1111111111111111,\"#46039f\"],[0.2222222222222222,\"#7201a8\"],[0.3333333333333333,\"#9c179e\"],[0.4444444444444444,\"#bd3786\"],[0.5555555555555556,\"#d8576b\"],[0.6666666666666666,\"#ed7953\"],[0.7777777777777778,\"#fb9f3a\"],[0.8888888888888888,\"#fdca26\"],[1.0,\"#f0f921\"]],\"sequentialminus\":[[0.0,\"#0d0887\"],[0.1111111111111111,\"#46039f\"],[0.2222222222222222,\"#7201a8\"],[0.3333333333333333,\"#9c179e\"],[0.4444444444444444,\"#bd3786\"],[0.5555555555555556,\"#d8576b\"],[0.6666666666666666,\"#ed7953\"],[0.7777777777777778,\"#fb9f3a\"],[0.8888888888888888,\"#fdca26\"],[1.0,\"#f0f921\"]]},\"colorway\":[\"#636efa\",\"#EF553B\",\"#00cc96\",\"#ab63fa\",\"#FFA15A\",\"#19d3f3\",\"#FF6692\",\"#B6E880\",\"#FF97FF\",\"#FECB52\"],\"font\":{\"color\":\"#2a3f5f\"},\"geo\":{\"bgcolor\":\"white\",\"lakecolor\":\"white\",\"landcolor\":\"#E5ECF6\",\"showlakes\":true,\"showland\":true,\"subunitcolor\":\"white\"},\"hoverlabel\":{\"align\":\"left\"},\"hovermode\":\"closest\",\"mapbox\":{\"style\":\"light\"},\"paper_bgcolor\":\"white\",\"plot_bgcolor\":\"#E5ECF6\",\"polar\":{\"angularaxis\":{\"gridcolor\":\"white\",\"linecolor\":\"white\",\"ticks\":\"\"},\"bgcolor\":\"#E5ECF6\",\"radialaxis\":{\"gridcolor\":\"white\",\"linecolor\":\"white\",\"ticks\":\"\"}},\"scene\":{\"xaxis\":{\"backgroundcolor\":\"#E5ECF6\",\"gridcolor\":\"white\",\"gridwidth\":2,\"linecolor\":\"white\",\"showbackground\":true,\"ticks\":\"\",\"zerolinecolor\":\"white\"},\"yaxis\":{\"backgroundcolor\":\"#E5ECF6\",\"gridcolor\":\"white\",\"gridwidth\":2,\"linecolor\":\"white\",\"showbackground\":true,\"ticks\":\"\",\"zerolinecolor\":\"white\"},\"zaxis\":{\"backgroundcolor\":\"#E5ECF6\",\"gridcolor\":\"white\",\"gridwidth\":2,\"linecolor\":\"white\",\"showbackground\":true,\"ticks\":\"\",\"zerolinecolor\":\"white\"}},\"shapedefaults\":{\"line\":{\"color\":\"#2a3f5f\"}},\"ternary\":{\"aaxis\":{\"gridcolor\":\"white\",\"linecolor\":\"white\",\"ticks\":\"\"},\"baxis\":{\"gridcolor\":\"white\",\"linecolor\":\"white\",\"ticks\":\"\"},\"bgcolor\":\"#E5ECF6\",\"caxis\":{\"gridcolor\":\"white\",\"linecolor\":\"white\",\"ticks\":\"\"}},\"title\":{\"x\":0.05},\"xaxis\":{\"automargin\":true,\"gridcolor\":\"white\",\"linecolor\":\"white\",\"ticks\":\"\",\"title\":{\"standoff\":15},\"zerolinecolor\":\"white\",\"zerolinewidth\":2},\"yaxis\":{\"automargin\":true,\"gridcolor\":\"white\",\"linecolor\":\"white\",\"ticks\":\"\",\"title\":{\"standoff\":15},\"zerolinecolor\":\"white\",\"zerolinewidth\":2}}},\"xaxis\":{\"anchor\":\"y\",\"categoryarray\":[\"lg\",\"KNN\",\"SVC\",\"Tree\",\"Random Forest\",\"GBM\",\"GNB\",\"Bagging\"],\"categoryorder\":\"array\",\"domain\":[0.0,1.0],\"title\":{\"text\":\"variable\"}},\"yaxis\":{\"anchor\":\"x\",\"domain\":[0.0,1.0],\"title\":{\"text\":\"value\"}}},                        {\"responsive\": true}                    ).then(function(){\n",
       "                            \n",
       "var gd = document.getElementById('144e4ac5-72d4-4716-9684-1bc1eb639de3');\n",
       "var x = new MutationObserver(function (mutations, observer) {{\n",
       "        var display = window.getComputedStyle(gd).display;\n",
       "        if (!display || display === 'none') {{\n",
       "            console.log([gd, 'removed!']);\n",
       "            Plotly.purge(gd);\n",
       "            observer.disconnect();\n",
       "        }}\n",
       "}});\n",
       "\n",
       "// Listen for the removal of the full notebook cells\n",
       "var notebookContainer = gd.closest('#notebook-container');\n",
       "if (notebookContainer) {{\n",
       "    x.observe(notebookContainer, {childList: true});\n",
       "}}\n",
       "\n",
       "// Listen for the clearing of the current output cell\n",
       "var outputEl = gd.closest('.output');\n",
       "if (outputEl) {{\n",
       "    x.observe(outputEl, {childList: true});\n",
       "}}\n",
       "\n",
       "                        })                };                });            </script>        </div>"
      ]
     },
     "metadata": {},
     "output_type": "display_data"
    }
   ],
   "source": [
    "import plotly.express as px\n",
    "import plotly\n",
    "fig = px.box(classmod, x=\"variable\", y=\"value\",color=\"variable\",points='all')\n",
    "fig.show()\n",
    "\n",
    "plotly.offline.plot(fig, image_filename='Boxplot_classmod1', image='svg')"
   ]
  },
  {
   "cell_type": "markdown",
   "metadata": {
    "id": "MJV0I1KHYaoA"
   },
   "source": [
    "GBM gives the best accuracy value in classification analysis with the average accuracy 0.84. And bagging gives the second best value. So we can try to stack them together to get a stacked model."
   ]
  },
  {
   "cell_type": "code",
   "execution_count": 25,
   "metadata": {
    "id": "F1qffQtyTuq1"
   },
   "outputs": [],
   "source": [
    "def get_stacking():\n",
    "    level0 = list()\n",
    "    level0.append(('GBM', GradientBoostingClassifier()))  \n",
    "    level0.append(('Bagging', BaggingClassifier()))\n",
    "    level1 = LogisticRegression()\n",
    "# define the stacking ensemble\n",
    "    model = StackingClassifier(estimators=level0, final_estimator=level1, cv=5)\n",
    "    return model"
   ]
  },
  {
   "cell_type": "code",
   "execution_count": 26,
   "metadata": {
    "id": "C6227CkIUZAu"
   },
   "outputs": [],
   "source": [
    "def multiple_models():\n",
    "    models = dict()\n",
    "    models[\"GBM\"] = GradientBoostingClassifier()\n",
    "    models[\"lg\"] = LogisticRegression()\n",
    "    models[\"Stacked Model\"] = get_stacking()\n",
    "    return models"
   ]
  },
  {
   "cell_type": "code",
   "execution_count": 27,
   "metadata": {
    "colab": {
     "base_uri": "https://localhost:8080/"
    },
    "id": "s1A97i98Uhko",
    "outputId": "fc07fac0-eba1-43a6-d918-91f2734b9211"
   },
   "outputs": [
    {
     "name": "stdout",
     "output_type": "stream",
     "text": [
      ">GBM 0.843 (0.073)\n",
      ">lg 0.825 (0.076)\n",
      ">Stacked Model 0.685 (0.091)\n"
     ]
    }
   ],
   "source": [
    "models = multiple_models()\n",
    "\n",
    "results, names = list(), list() \n",
    "for name, model in models.items():\n",
    "    scores = eval_models(model)\n",
    "    results.append(scores)\n",
    "    names.append(name)\n",
    "    print('>%s %.3f (%.3f)' % (name, scores.mean(), scores.std()))\n",
    "\n",
    "classmod2 = pd.DataFrame(np.transpose(results), \n",
    "                         columns = [\"GBM\",\"lg\",\"Stacked Model\"])\n",
    "classmod2 = pd.melt(classmod2.reset_index(), \n",
    "                    id_vars='index',\n",
    "                    value_vars=[\"GBM\",\"lg\",\"Stacked Model\"])"
   ]
  },
  {
   "cell_type": "code",
   "execution_count": 28,
   "metadata": {
    "colab": {
     "base_uri": "https://localhost:8080/",
     "height": 542
    },
    "id": "zuh9hr5oVNsa",
    "outputId": "859a361e-e111-410a-d485-ac7890f0dbc4"
   },
   "outputs": [
    {
     "data": {
      "application/vnd.plotly.v1+json": {
       "config": {
        "plotlyServerURL": "https://plot.ly"
       },
       "data": [
        {
         "alignmentgroup": "True",
         "boxpoints": "all",
         "hovertemplate": "variable=%{x}<br>value=%{y}<extra></extra>",
         "legendgroup": "GBM",
         "marker": {
          "color": "#636efa"
         },
         "name": "GBM",
         "notched": false,
         "offsetgroup": "GBM",
         "orientation": "v",
         "showlegend": true,
         "type": "box",
         "x": [
          "GBM",
          "GBM",
          "GBM",
          "GBM",
          "GBM",
          "GBM",
          "GBM",
          "GBM",
          "GBM",
          "GBM",
          "GBM",
          "GBM",
          "GBM",
          "GBM",
          "GBM",
          "GBM",
          "GBM",
          "GBM",
          "GBM",
          "GBM",
          "GBM",
          "GBM",
          "GBM",
          "GBM",
          "GBM",
          "GBM",
          "GBM",
          "GBM",
          "GBM",
          "GBM"
         ],
         "x0": " ",
         "xaxis": "x",
         "y": [
          0.8333333333333334,
          0.8666666666666667,
          0.7666666666666667,
          0.8333333333333334,
          0.7666666666666667,
          0.9,
          0.7666666666666667,
          0.8333333333333334,
          0.8666666666666667,
          1,
          0.8333333333333334,
          0.8666666666666667,
          0.8666666666666667,
          0.9666666666666667,
          0.8,
          0.7333333333333333,
          0.9333333333333333,
          0.8666666666666667,
          0.8666666666666667,
          0.6896551724137931,
          0.9,
          0.8,
          0.7,
          0.8666666666666667,
          0.9333333333333333,
          0.8666666666666667,
          0.8666666666666667,
          0.8,
          0.7666666666666667,
          0.9310344827586207
         ],
         "y0": " ",
         "yaxis": "y"
        },
        {
         "alignmentgroup": "True",
         "boxpoints": "all",
         "hovertemplate": "variable=%{x}<br>value=%{y}<extra></extra>",
         "legendgroup": "lg",
         "marker": {
          "color": "#EF553B"
         },
         "name": "lg",
         "notched": false,
         "offsetgroup": "lg",
         "orientation": "v",
         "showlegend": true,
         "type": "box",
         "x": [
          "lg",
          "lg",
          "lg",
          "lg",
          "lg",
          "lg",
          "lg",
          "lg",
          "lg",
          "lg",
          "lg",
          "lg",
          "lg",
          "lg",
          "lg",
          "lg",
          "lg",
          "lg",
          "lg",
          "lg",
          "lg",
          "lg",
          "lg",
          "lg",
          "lg",
          "lg",
          "lg",
          "lg",
          "lg",
          "lg"
         ],
         "x0": " ",
         "xaxis": "x",
         "y": [
          0.8666666666666667,
          0.8666666666666667,
          0.6666666666666666,
          0.8,
          0.7,
          0.8333333333333334,
          0.8,
          0.8333333333333334,
          0.8666666666666667,
          0.9310344827586207,
          0.9,
          0.8333333333333334,
          0.9,
          0.8,
          0.7666666666666667,
          0.8,
          0.8333333333333334,
          0.8666666666666667,
          0.9,
          0.6896551724137931,
          0.8666666666666667,
          0.8666666666666667,
          0.6,
          0.8666666666666667,
          0.9,
          0.8333333333333334,
          0.8666666666666667,
          0.7666666666666667,
          0.8333333333333334,
          0.896551724137931
         ],
         "y0": " ",
         "yaxis": "y"
        },
        {
         "alignmentgroup": "True",
         "boxpoints": "all",
         "hovertemplate": "variable=%{x}<br>value=%{y}<extra></extra>",
         "legendgroup": "Stacked Model",
         "marker": {
          "color": "#00cc96"
         },
         "name": "Stacked Model",
         "notched": false,
         "offsetgroup": "Stacked Model",
         "orientation": "v",
         "showlegend": true,
         "type": "box",
         "x": [
          "Stacked Model",
          "Stacked Model",
          "Stacked Model",
          "Stacked Model",
          "Stacked Model",
          "Stacked Model",
          "Stacked Model",
          "Stacked Model",
          "Stacked Model",
          "Stacked Model",
          "Stacked Model",
          "Stacked Model",
          "Stacked Model",
          "Stacked Model",
          "Stacked Model",
          "Stacked Model",
          "Stacked Model",
          "Stacked Model",
          "Stacked Model",
          "Stacked Model",
          "Stacked Model",
          "Stacked Model",
          "Stacked Model",
          "Stacked Model",
          "Stacked Model",
          "Stacked Model",
          "Stacked Model",
          "Stacked Model",
          "Stacked Model",
          "Stacked Model"
         ],
         "x0": " ",
         "xaxis": "x",
         "y": [
          0.8,
          0.8333333333333334,
          0.5666666666666667,
          0.6333333333333333,
          0.5,
          0.7666666666666667,
          0.6666666666666666,
          0.6666666666666666,
          0.7,
          0.7586206896551724,
          0.7,
          0.7,
          0.7,
          0.6666666666666666,
          0.5666666666666667,
          0.7333333333333333,
          0.8333333333333334,
          0.6,
          0.7333333333333333,
          0.7241379310344828,
          0.7,
          0.7666666666666667,
          0.5666666666666667,
          0.6333333333333333,
          0.6,
          0.6333333333333333,
          0.8666666666666667,
          0.6333333333333333,
          0.5333333333333333,
          0.7586206896551724
         ],
         "y0": " ",
         "yaxis": "y"
        }
       ],
       "layout": {
        "boxmode": "overlay",
        "legend": {
         "title": {
          "text": "variable"
         },
         "tracegroupgap": 0
        },
        "margin": {
         "t": 60
        },
        "template": {
         "data": {
          "bar": [
           {
            "error_x": {
             "color": "#2a3f5f"
            },
            "error_y": {
             "color": "#2a3f5f"
            },
            "marker": {
             "line": {
              "color": "#E5ECF6",
              "width": 0.5
             },
             "pattern": {
              "fillmode": "overlay",
              "size": 10,
              "solidity": 0.2
             }
            },
            "type": "bar"
           }
          ],
          "barpolar": [
           {
            "marker": {
             "line": {
              "color": "#E5ECF6",
              "width": 0.5
             },
             "pattern": {
              "fillmode": "overlay",
              "size": 10,
              "solidity": 0.2
             }
            },
            "type": "barpolar"
           }
          ],
          "carpet": [
           {
            "aaxis": {
             "endlinecolor": "#2a3f5f",
             "gridcolor": "white",
             "linecolor": "white",
             "minorgridcolor": "white",
             "startlinecolor": "#2a3f5f"
            },
            "baxis": {
             "endlinecolor": "#2a3f5f",
             "gridcolor": "white",
             "linecolor": "white",
             "minorgridcolor": "white",
             "startlinecolor": "#2a3f5f"
            },
            "type": "carpet"
           }
          ],
          "choropleth": [
           {
            "colorbar": {
             "outlinewidth": 0,
             "ticks": ""
            },
            "type": "choropleth"
           }
          ],
          "contour": [
           {
            "colorbar": {
             "outlinewidth": 0,
             "ticks": ""
            },
            "colorscale": [
             [
              0,
              "#0d0887"
             ],
             [
              0.1111111111111111,
              "#46039f"
             ],
             [
              0.2222222222222222,
              "#7201a8"
             ],
             [
              0.3333333333333333,
              "#9c179e"
             ],
             [
              0.4444444444444444,
              "#bd3786"
             ],
             [
              0.5555555555555556,
              "#d8576b"
             ],
             [
              0.6666666666666666,
              "#ed7953"
             ],
             [
              0.7777777777777778,
              "#fb9f3a"
             ],
             [
              0.8888888888888888,
              "#fdca26"
             ],
             [
              1,
              "#f0f921"
             ]
            ],
            "type": "contour"
           }
          ],
          "contourcarpet": [
           {
            "colorbar": {
             "outlinewidth": 0,
             "ticks": ""
            },
            "type": "contourcarpet"
           }
          ],
          "heatmap": [
           {
            "colorbar": {
             "outlinewidth": 0,
             "ticks": ""
            },
            "colorscale": [
             [
              0,
              "#0d0887"
             ],
             [
              0.1111111111111111,
              "#46039f"
             ],
             [
              0.2222222222222222,
              "#7201a8"
             ],
             [
              0.3333333333333333,
              "#9c179e"
             ],
             [
              0.4444444444444444,
              "#bd3786"
             ],
             [
              0.5555555555555556,
              "#d8576b"
             ],
             [
              0.6666666666666666,
              "#ed7953"
             ],
             [
              0.7777777777777778,
              "#fb9f3a"
             ],
             [
              0.8888888888888888,
              "#fdca26"
             ],
             [
              1,
              "#f0f921"
             ]
            ],
            "type": "heatmap"
           }
          ],
          "heatmapgl": [
           {
            "colorbar": {
             "outlinewidth": 0,
             "ticks": ""
            },
            "colorscale": [
             [
              0,
              "#0d0887"
             ],
             [
              0.1111111111111111,
              "#46039f"
             ],
             [
              0.2222222222222222,
              "#7201a8"
             ],
             [
              0.3333333333333333,
              "#9c179e"
             ],
             [
              0.4444444444444444,
              "#bd3786"
             ],
             [
              0.5555555555555556,
              "#d8576b"
             ],
             [
              0.6666666666666666,
              "#ed7953"
             ],
             [
              0.7777777777777778,
              "#fb9f3a"
             ],
             [
              0.8888888888888888,
              "#fdca26"
             ],
             [
              1,
              "#f0f921"
             ]
            ],
            "type": "heatmapgl"
           }
          ],
          "histogram": [
           {
            "marker": {
             "pattern": {
              "fillmode": "overlay",
              "size": 10,
              "solidity": 0.2
             }
            },
            "type": "histogram"
           }
          ],
          "histogram2d": [
           {
            "colorbar": {
             "outlinewidth": 0,
             "ticks": ""
            },
            "colorscale": [
             [
              0,
              "#0d0887"
             ],
             [
              0.1111111111111111,
              "#46039f"
             ],
             [
              0.2222222222222222,
              "#7201a8"
             ],
             [
              0.3333333333333333,
              "#9c179e"
             ],
             [
              0.4444444444444444,
              "#bd3786"
             ],
             [
              0.5555555555555556,
              "#d8576b"
             ],
             [
              0.6666666666666666,
              "#ed7953"
             ],
             [
              0.7777777777777778,
              "#fb9f3a"
             ],
             [
              0.8888888888888888,
              "#fdca26"
             ],
             [
              1,
              "#f0f921"
             ]
            ],
            "type": "histogram2d"
           }
          ],
          "histogram2dcontour": [
           {
            "colorbar": {
             "outlinewidth": 0,
             "ticks": ""
            },
            "colorscale": [
             [
              0,
              "#0d0887"
             ],
             [
              0.1111111111111111,
              "#46039f"
             ],
             [
              0.2222222222222222,
              "#7201a8"
             ],
             [
              0.3333333333333333,
              "#9c179e"
             ],
             [
              0.4444444444444444,
              "#bd3786"
             ],
             [
              0.5555555555555556,
              "#d8576b"
             ],
             [
              0.6666666666666666,
              "#ed7953"
             ],
             [
              0.7777777777777778,
              "#fb9f3a"
             ],
             [
              0.8888888888888888,
              "#fdca26"
             ],
             [
              1,
              "#f0f921"
             ]
            ],
            "type": "histogram2dcontour"
           }
          ],
          "mesh3d": [
           {
            "colorbar": {
             "outlinewidth": 0,
             "ticks": ""
            },
            "type": "mesh3d"
           }
          ],
          "parcoords": [
           {
            "line": {
             "colorbar": {
              "outlinewidth": 0,
              "ticks": ""
             }
            },
            "type": "parcoords"
           }
          ],
          "pie": [
           {
            "automargin": true,
            "type": "pie"
           }
          ],
          "scatter": [
           {
            "marker": {
             "colorbar": {
              "outlinewidth": 0,
              "ticks": ""
             }
            },
            "type": "scatter"
           }
          ],
          "scatter3d": [
           {
            "line": {
             "colorbar": {
              "outlinewidth": 0,
              "ticks": ""
             }
            },
            "marker": {
             "colorbar": {
              "outlinewidth": 0,
              "ticks": ""
             }
            },
            "type": "scatter3d"
           }
          ],
          "scattercarpet": [
           {
            "marker": {
             "colorbar": {
              "outlinewidth": 0,
              "ticks": ""
             }
            },
            "type": "scattercarpet"
           }
          ],
          "scattergeo": [
           {
            "marker": {
             "colorbar": {
              "outlinewidth": 0,
              "ticks": ""
             }
            },
            "type": "scattergeo"
           }
          ],
          "scattergl": [
           {
            "marker": {
             "colorbar": {
              "outlinewidth": 0,
              "ticks": ""
             }
            },
            "type": "scattergl"
           }
          ],
          "scattermapbox": [
           {
            "marker": {
             "colorbar": {
              "outlinewidth": 0,
              "ticks": ""
             }
            },
            "type": "scattermapbox"
           }
          ],
          "scatterpolar": [
           {
            "marker": {
             "colorbar": {
              "outlinewidth": 0,
              "ticks": ""
             }
            },
            "type": "scatterpolar"
           }
          ],
          "scatterpolargl": [
           {
            "marker": {
             "colorbar": {
              "outlinewidth": 0,
              "ticks": ""
             }
            },
            "type": "scatterpolargl"
           }
          ],
          "scatterternary": [
           {
            "marker": {
             "colorbar": {
              "outlinewidth": 0,
              "ticks": ""
             }
            },
            "type": "scatterternary"
           }
          ],
          "surface": [
           {
            "colorbar": {
             "outlinewidth": 0,
             "ticks": ""
            },
            "colorscale": [
             [
              0,
              "#0d0887"
             ],
             [
              0.1111111111111111,
              "#46039f"
             ],
             [
              0.2222222222222222,
              "#7201a8"
             ],
             [
              0.3333333333333333,
              "#9c179e"
             ],
             [
              0.4444444444444444,
              "#bd3786"
             ],
             [
              0.5555555555555556,
              "#d8576b"
             ],
             [
              0.6666666666666666,
              "#ed7953"
             ],
             [
              0.7777777777777778,
              "#fb9f3a"
             ],
             [
              0.8888888888888888,
              "#fdca26"
             ],
             [
              1,
              "#f0f921"
             ]
            ],
            "type": "surface"
           }
          ],
          "table": [
           {
            "cells": {
             "fill": {
              "color": "#EBF0F8"
             },
             "line": {
              "color": "white"
             }
            },
            "header": {
             "fill": {
              "color": "#C8D4E3"
             },
             "line": {
              "color": "white"
             }
            },
            "type": "table"
           }
          ]
         },
         "layout": {
          "annotationdefaults": {
           "arrowcolor": "#2a3f5f",
           "arrowhead": 0,
           "arrowwidth": 1
          },
          "autotypenumbers": "strict",
          "coloraxis": {
           "colorbar": {
            "outlinewidth": 0,
            "ticks": ""
           }
          },
          "colorscale": {
           "diverging": [
            [
             0,
             "#8e0152"
            ],
            [
             0.1,
             "#c51b7d"
            ],
            [
             0.2,
             "#de77ae"
            ],
            [
             0.3,
             "#f1b6da"
            ],
            [
             0.4,
             "#fde0ef"
            ],
            [
             0.5,
             "#f7f7f7"
            ],
            [
             0.6,
             "#e6f5d0"
            ],
            [
             0.7,
             "#b8e186"
            ],
            [
             0.8,
             "#7fbc41"
            ],
            [
             0.9,
             "#4d9221"
            ],
            [
             1,
             "#276419"
            ]
           ],
           "sequential": [
            [
             0,
             "#0d0887"
            ],
            [
             0.1111111111111111,
             "#46039f"
            ],
            [
             0.2222222222222222,
             "#7201a8"
            ],
            [
             0.3333333333333333,
             "#9c179e"
            ],
            [
             0.4444444444444444,
             "#bd3786"
            ],
            [
             0.5555555555555556,
             "#d8576b"
            ],
            [
             0.6666666666666666,
             "#ed7953"
            ],
            [
             0.7777777777777778,
             "#fb9f3a"
            ],
            [
             0.8888888888888888,
             "#fdca26"
            ],
            [
             1,
             "#f0f921"
            ]
           ],
           "sequentialminus": [
            [
             0,
             "#0d0887"
            ],
            [
             0.1111111111111111,
             "#46039f"
            ],
            [
             0.2222222222222222,
             "#7201a8"
            ],
            [
             0.3333333333333333,
             "#9c179e"
            ],
            [
             0.4444444444444444,
             "#bd3786"
            ],
            [
             0.5555555555555556,
             "#d8576b"
            ],
            [
             0.6666666666666666,
             "#ed7953"
            ],
            [
             0.7777777777777778,
             "#fb9f3a"
            ],
            [
             0.8888888888888888,
             "#fdca26"
            ],
            [
             1,
             "#f0f921"
            ]
           ]
          },
          "colorway": [
           "#636efa",
           "#EF553B",
           "#00cc96",
           "#ab63fa",
           "#FFA15A",
           "#19d3f3",
           "#FF6692",
           "#B6E880",
           "#FF97FF",
           "#FECB52"
          ],
          "font": {
           "color": "#2a3f5f"
          },
          "geo": {
           "bgcolor": "white",
           "lakecolor": "white",
           "landcolor": "#E5ECF6",
           "showlakes": true,
           "showland": true,
           "subunitcolor": "white"
          },
          "hoverlabel": {
           "align": "left"
          },
          "hovermode": "closest",
          "mapbox": {
           "style": "light"
          },
          "paper_bgcolor": "white",
          "plot_bgcolor": "#E5ECF6",
          "polar": {
           "angularaxis": {
            "gridcolor": "white",
            "linecolor": "white",
            "ticks": ""
           },
           "bgcolor": "#E5ECF6",
           "radialaxis": {
            "gridcolor": "white",
            "linecolor": "white",
            "ticks": ""
           }
          },
          "scene": {
           "xaxis": {
            "backgroundcolor": "#E5ECF6",
            "gridcolor": "white",
            "gridwidth": 2,
            "linecolor": "white",
            "showbackground": true,
            "ticks": "",
            "zerolinecolor": "white"
           },
           "yaxis": {
            "backgroundcolor": "#E5ECF6",
            "gridcolor": "white",
            "gridwidth": 2,
            "linecolor": "white",
            "showbackground": true,
            "ticks": "",
            "zerolinecolor": "white"
           },
           "zaxis": {
            "backgroundcolor": "#E5ECF6",
            "gridcolor": "white",
            "gridwidth": 2,
            "linecolor": "white",
            "showbackground": true,
            "ticks": "",
            "zerolinecolor": "white"
           }
          },
          "shapedefaults": {
           "line": {
            "color": "#2a3f5f"
           }
          },
          "ternary": {
           "aaxis": {
            "gridcolor": "white",
            "linecolor": "white",
            "ticks": ""
           },
           "baxis": {
            "gridcolor": "white",
            "linecolor": "white",
            "ticks": ""
           },
           "bgcolor": "#E5ECF6",
           "caxis": {
            "gridcolor": "white",
            "linecolor": "white",
            "ticks": ""
           }
          },
          "title": {
           "x": 0.05
          },
          "xaxis": {
           "automargin": true,
           "gridcolor": "white",
           "linecolor": "white",
           "ticks": "",
           "title": {
            "standoff": 15
           },
           "zerolinecolor": "white",
           "zerolinewidth": 2
          },
          "yaxis": {
           "automargin": true,
           "gridcolor": "white",
           "linecolor": "white",
           "ticks": "",
           "title": {
            "standoff": 15
           },
           "zerolinecolor": "white",
           "zerolinewidth": 2
          }
         }
        },
        "xaxis": {
         "anchor": "y",
         "categoryarray": [
          "GBM",
          "lg",
          "Stacked Model"
         ],
         "categoryorder": "array",
         "domain": [
          0,
          1
         ],
         "title": {
          "text": "variable"
         }
        },
        "yaxis": {
         "anchor": "x",
         "domain": [
          0,
          1
         ],
         "title": {
          "text": "value"
         }
        }
       }
      },
      "text/html": [
       "<div>                            <div id=\"edb0d752-e208-4274-afa1-346801023f25\" class=\"plotly-graph-div\" style=\"height:525px; width:100%;\"></div>            <script type=\"text/javascript\">                require([\"plotly\"], function(Plotly) {                    window.PLOTLYENV=window.PLOTLYENV || {};                                    if (document.getElementById(\"edb0d752-e208-4274-afa1-346801023f25\")) {                    Plotly.newPlot(                        \"edb0d752-e208-4274-afa1-346801023f25\",                        [{\"alignmentgroup\":\"True\",\"boxpoints\":\"all\",\"hovertemplate\":\"variable=%{x}<br>value=%{y}<extra></extra>\",\"legendgroup\":\"GBM\",\"marker\":{\"color\":\"#636efa\"},\"name\":\"GBM\",\"notched\":false,\"offsetgroup\":\"GBM\",\"orientation\":\"v\",\"showlegend\":true,\"type\":\"box\",\"x\":[\"GBM\",\"GBM\",\"GBM\",\"GBM\",\"GBM\",\"GBM\",\"GBM\",\"GBM\",\"GBM\",\"GBM\",\"GBM\",\"GBM\",\"GBM\",\"GBM\",\"GBM\",\"GBM\",\"GBM\",\"GBM\",\"GBM\",\"GBM\",\"GBM\",\"GBM\",\"GBM\",\"GBM\",\"GBM\",\"GBM\",\"GBM\",\"GBM\",\"GBM\",\"GBM\"],\"x0\":\" \",\"xaxis\":\"x\",\"y\":[0.8333333333333334,0.8666666666666667,0.7666666666666667,0.8333333333333334,0.7666666666666667,0.9,0.7666666666666667,0.8333333333333334,0.8666666666666667,1.0,0.8333333333333334,0.8666666666666667,0.8666666666666667,0.9666666666666667,0.8,0.7333333333333333,0.9333333333333333,0.8666666666666667,0.8666666666666667,0.6896551724137931,0.9,0.8,0.7,0.8666666666666667,0.9333333333333333,0.8666666666666667,0.8666666666666667,0.8,0.7666666666666667,0.9310344827586207],\"y0\":\" \",\"yaxis\":\"y\"},{\"alignmentgroup\":\"True\",\"boxpoints\":\"all\",\"hovertemplate\":\"variable=%{x}<br>value=%{y}<extra></extra>\",\"legendgroup\":\"lg\",\"marker\":{\"color\":\"#EF553B\"},\"name\":\"lg\",\"notched\":false,\"offsetgroup\":\"lg\",\"orientation\":\"v\",\"showlegend\":true,\"type\":\"box\",\"x\":[\"lg\",\"lg\",\"lg\",\"lg\",\"lg\",\"lg\",\"lg\",\"lg\",\"lg\",\"lg\",\"lg\",\"lg\",\"lg\",\"lg\",\"lg\",\"lg\",\"lg\",\"lg\",\"lg\",\"lg\",\"lg\",\"lg\",\"lg\",\"lg\",\"lg\",\"lg\",\"lg\",\"lg\",\"lg\",\"lg\"],\"x0\":\" \",\"xaxis\":\"x\",\"y\":[0.8666666666666667,0.8666666666666667,0.6666666666666666,0.8,0.7,0.8333333333333334,0.8,0.8333333333333334,0.8666666666666667,0.9310344827586207,0.9,0.8333333333333334,0.9,0.8,0.7666666666666667,0.8,0.8333333333333334,0.8666666666666667,0.9,0.6896551724137931,0.8666666666666667,0.8666666666666667,0.6,0.8666666666666667,0.9,0.8333333333333334,0.8666666666666667,0.7666666666666667,0.8333333333333334,0.896551724137931],\"y0\":\" \",\"yaxis\":\"y\"},{\"alignmentgroup\":\"True\",\"boxpoints\":\"all\",\"hovertemplate\":\"variable=%{x}<br>value=%{y}<extra></extra>\",\"legendgroup\":\"Stacked Model\",\"marker\":{\"color\":\"#00cc96\"},\"name\":\"Stacked Model\",\"notched\":false,\"offsetgroup\":\"Stacked Model\",\"orientation\":\"v\",\"showlegend\":true,\"type\":\"box\",\"x\":[\"Stacked Model\",\"Stacked Model\",\"Stacked Model\",\"Stacked Model\",\"Stacked Model\",\"Stacked Model\",\"Stacked Model\",\"Stacked Model\",\"Stacked Model\",\"Stacked Model\",\"Stacked Model\",\"Stacked Model\",\"Stacked Model\",\"Stacked Model\",\"Stacked Model\",\"Stacked Model\",\"Stacked Model\",\"Stacked Model\",\"Stacked Model\",\"Stacked Model\",\"Stacked Model\",\"Stacked Model\",\"Stacked Model\",\"Stacked Model\",\"Stacked Model\",\"Stacked Model\",\"Stacked Model\",\"Stacked Model\",\"Stacked Model\",\"Stacked Model\"],\"x0\":\" \",\"xaxis\":\"x\",\"y\":[0.8,0.8333333333333334,0.5666666666666667,0.6333333333333333,0.5,0.7666666666666667,0.6666666666666666,0.6666666666666666,0.7,0.7586206896551724,0.7,0.7,0.7,0.6666666666666666,0.5666666666666667,0.7333333333333333,0.8333333333333334,0.6,0.7333333333333333,0.7241379310344828,0.7,0.7666666666666667,0.5666666666666667,0.6333333333333333,0.6,0.6333333333333333,0.8666666666666667,0.6333333333333333,0.5333333333333333,0.7586206896551724],\"y0\":\" \",\"yaxis\":\"y\"}],                        {\"boxmode\":\"overlay\",\"legend\":{\"title\":{\"text\":\"variable\"},\"tracegroupgap\":0},\"margin\":{\"t\":60},\"template\":{\"data\":{\"bar\":[{\"error_x\":{\"color\":\"#2a3f5f\"},\"error_y\":{\"color\":\"#2a3f5f\"},\"marker\":{\"line\":{\"color\":\"#E5ECF6\",\"width\":0.5},\"pattern\":{\"fillmode\":\"overlay\",\"size\":10,\"solidity\":0.2}},\"type\":\"bar\"}],\"barpolar\":[{\"marker\":{\"line\":{\"color\":\"#E5ECF6\",\"width\":0.5},\"pattern\":{\"fillmode\":\"overlay\",\"size\":10,\"solidity\":0.2}},\"type\":\"barpolar\"}],\"carpet\":[{\"aaxis\":{\"endlinecolor\":\"#2a3f5f\",\"gridcolor\":\"white\",\"linecolor\":\"white\",\"minorgridcolor\":\"white\",\"startlinecolor\":\"#2a3f5f\"},\"baxis\":{\"endlinecolor\":\"#2a3f5f\",\"gridcolor\":\"white\",\"linecolor\":\"white\",\"minorgridcolor\":\"white\",\"startlinecolor\":\"#2a3f5f\"},\"type\":\"carpet\"}],\"choropleth\":[{\"colorbar\":{\"outlinewidth\":0,\"ticks\":\"\"},\"type\":\"choropleth\"}],\"contour\":[{\"colorbar\":{\"outlinewidth\":0,\"ticks\":\"\"},\"colorscale\":[[0.0,\"#0d0887\"],[0.1111111111111111,\"#46039f\"],[0.2222222222222222,\"#7201a8\"],[0.3333333333333333,\"#9c179e\"],[0.4444444444444444,\"#bd3786\"],[0.5555555555555556,\"#d8576b\"],[0.6666666666666666,\"#ed7953\"],[0.7777777777777778,\"#fb9f3a\"],[0.8888888888888888,\"#fdca26\"],[1.0,\"#f0f921\"]],\"type\":\"contour\"}],\"contourcarpet\":[{\"colorbar\":{\"outlinewidth\":0,\"ticks\":\"\"},\"type\":\"contourcarpet\"}],\"heatmap\":[{\"colorbar\":{\"outlinewidth\":0,\"ticks\":\"\"},\"colorscale\":[[0.0,\"#0d0887\"],[0.1111111111111111,\"#46039f\"],[0.2222222222222222,\"#7201a8\"],[0.3333333333333333,\"#9c179e\"],[0.4444444444444444,\"#bd3786\"],[0.5555555555555556,\"#d8576b\"],[0.6666666666666666,\"#ed7953\"],[0.7777777777777778,\"#fb9f3a\"],[0.8888888888888888,\"#fdca26\"],[1.0,\"#f0f921\"]],\"type\":\"heatmap\"}],\"heatmapgl\":[{\"colorbar\":{\"outlinewidth\":0,\"ticks\":\"\"},\"colorscale\":[[0.0,\"#0d0887\"],[0.1111111111111111,\"#46039f\"],[0.2222222222222222,\"#7201a8\"],[0.3333333333333333,\"#9c179e\"],[0.4444444444444444,\"#bd3786\"],[0.5555555555555556,\"#d8576b\"],[0.6666666666666666,\"#ed7953\"],[0.7777777777777778,\"#fb9f3a\"],[0.8888888888888888,\"#fdca26\"],[1.0,\"#f0f921\"]],\"type\":\"heatmapgl\"}],\"histogram\":[{\"marker\":{\"pattern\":{\"fillmode\":\"overlay\",\"size\":10,\"solidity\":0.2}},\"type\":\"histogram\"}],\"histogram2d\":[{\"colorbar\":{\"outlinewidth\":0,\"ticks\":\"\"},\"colorscale\":[[0.0,\"#0d0887\"],[0.1111111111111111,\"#46039f\"],[0.2222222222222222,\"#7201a8\"],[0.3333333333333333,\"#9c179e\"],[0.4444444444444444,\"#bd3786\"],[0.5555555555555556,\"#d8576b\"],[0.6666666666666666,\"#ed7953\"],[0.7777777777777778,\"#fb9f3a\"],[0.8888888888888888,\"#fdca26\"],[1.0,\"#f0f921\"]],\"type\":\"histogram2d\"}],\"histogram2dcontour\":[{\"colorbar\":{\"outlinewidth\":0,\"ticks\":\"\"},\"colorscale\":[[0.0,\"#0d0887\"],[0.1111111111111111,\"#46039f\"],[0.2222222222222222,\"#7201a8\"],[0.3333333333333333,\"#9c179e\"],[0.4444444444444444,\"#bd3786\"],[0.5555555555555556,\"#d8576b\"],[0.6666666666666666,\"#ed7953\"],[0.7777777777777778,\"#fb9f3a\"],[0.8888888888888888,\"#fdca26\"],[1.0,\"#f0f921\"]],\"type\":\"histogram2dcontour\"}],\"mesh3d\":[{\"colorbar\":{\"outlinewidth\":0,\"ticks\":\"\"},\"type\":\"mesh3d\"}],\"parcoords\":[{\"line\":{\"colorbar\":{\"outlinewidth\":0,\"ticks\":\"\"}},\"type\":\"parcoords\"}],\"pie\":[{\"automargin\":true,\"type\":\"pie\"}],\"scatter\":[{\"marker\":{\"colorbar\":{\"outlinewidth\":0,\"ticks\":\"\"}},\"type\":\"scatter\"}],\"scatter3d\":[{\"line\":{\"colorbar\":{\"outlinewidth\":0,\"ticks\":\"\"}},\"marker\":{\"colorbar\":{\"outlinewidth\":0,\"ticks\":\"\"}},\"type\":\"scatter3d\"}],\"scattercarpet\":[{\"marker\":{\"colorbar\":{\"outlinewidth\":0,\"ticks\":\"\"}},\"type\":\"scattercarpet\"}],\"scattergeo\":[{\"marker\":{\"colorbar\":{\"outlinewidth\":0,\"ticks\":\"\"}},\"type\":\"scattergeo\"}],\"scattergl\":[{\"marker\":{\"colorbar\":{\"outlinewidth\":0,\"ticks\":\"\"}},\"type\":\"scattergl\"}],\"scattermapbox\":[{\"marker\":{\"colorbar\":{\"outlinewidth\":0,\"ticks\":\"\"}},\"type\":\"scattermapbox\"}],\"scatterpolar\":[{\"marker\":{\"colorbar\":{\"outlinewidth\":0,\"ticks\":\"\"}},\"type\":\"scatterpolar\"}],\"scatterpolargl\":[{\"marker\":{\"colorbar\":{\"outlinewidth\":0,\"ticks\":\"\"}},\"type\":\"scatterpolargl\"}],\"scatterternary\":[{\"marker\":{\"colorbar\":{\"outlinewidth\":0,\"ticks\":\"\"}},\"type\":\"scatterternary\"}],\"surface\":[{\"colorbar\":{\"outlinewidth\":0,\"ticks\":\"\"},\"colorscale\":[[0.0,\"#0d0887\"],[0.1111111111111111,\"#46039f\"],[0.2222222222222222,\"#7201a8\"],[0.3333333333333333,\"#9c179e\"],[0.4444444444444444,\"#bd3786\"],[0.5555555555555556,\"#d8576b\"],[0.6666666666666666,\"#ed7953\"],[0.7777777777777778,\"#fb9f3a\"],[0.8888888888888888,\"#fdca26\"],[1.0,\"#f0f921\"]],\"type\":\"surface\"}],\"table\":[{\"cells\":{\"fill\":{\"color\":\"#EBF0F8\"},\"line\":{\"color\":\"white\"}},\"header\":{\"fill\":{\"color\":\"#C8D4E3\"},\"line\":{\"color\":\"white\"}},\"type\":\"table\"}]},\"layout\":{\"annotationdefaults\":{\"arrowcolor\":\"#2a3f5f\",\"arrowhead\":0,\"arrowwidth\":1},\"autotypenumbers\":\"strict\",\"coloraxis\":{\"colorbar\":{\"outlinewidth\":0,\"ticks\":\"\"}},\"colorscale\":{\"diverging\":[[0,\"#8e0152\"],[0.1,\"#c51b7d\"],[0.2,\"#de77ae\"],[0.3,\"#f1b6da\"],[0.4,\"#fde0ef\"],[0.5,\"#f7f7f7\"],[0.6,\"#e6f5d0\"],[0.7,\"#b8e186\"],[0.8,\"#7fbc41\"],[0.9,\"#4d9221\"],[1,\"#276419\"]],\"sequential\":[[0.0,\"#0d0887\"],[0.1111111111111111,\"#46039f\"],[0.2222222222222222,\"#7201a8\"],[0.3333333333333333,\"#9c179e\"],[0.4444444444444444,\"#bd3786\"],[0.5555555555555556,\"#d8576b\"],[0.6666666666666666,\"#ed7953\"],[0.7777777777777778,\"#fb9f3a\"],[0.8888888888888888,\"#fdca26\"],[1.0,\"#f0f921\"]],\"sequentialminus\":[[0.0,\"#0d0887\"],[0.1111111111111111,\"#46039f\"],[0.2222222222222222,\"#7201a8\"],[0.3333333333333333,\"#9c179e\"],[0.4444444444444444,\"#bd3786\"],[0.5555555555555556,\"#d8576b\"],[0.6666666666666666,\"#ed7953\"],[0.7777777777777778,\"#fb9f3a\"],[0.8888888888888888,\"#fdca26\"],[1.0,\"#f0f921\"]]},\"colorway\":[\"#636efa\",\"#EF553B\",\"#00cc96\",\"#ab63fa\",\"#FFA15A\",\"#19d3f3\",\"#FF6692\",\"#B6E880\",\"#FF97FF\",\"#FECB52\"],\"font\":{\"color\":\"#2a3f5f\"},\"geo\":{\"bgcolor\":\"white\",\"lakecolor\":\"white\",\"landcolor\":\"#E5ECF6\",\"showlakes\":true,\"showland\":true,\"subunitcolor\":\"white\"},\"hoverlabel\":{\"align\":\"left\"},\"hovermode\":\"closest\",\"mapbox\":{\"style\":\"light\"},\"paper_bgcolor\":\"white\",\"plot_bgcolor\":\"#E5ECF6\",\"polar\":{\"angularaxis\":{\"gridcolor\":\"white\",\"linecolor\":\"white\",\"ticks\":\"\"},\"bgcolor\":\"#E5ECF6\",\"radialaxis\":{\"gridcolor\":\"white\",\"linecolor\":\"white\",\"ticks\":\"\"}},\"scene\":{\"xaxis\":{\"backgroundcolor\":\"#E5ECF6\",\"gridcolor\":\"white\",\"gridwidth\":2,\"linecolor\":\"white\",\"showbackground\":true,\"ticks\":\"\",\"zerolinecolor\":\"white\"},\"yaxis\":{\"backgroundcolor\":\"#E5ECF6\",\"gridcolor\":\"white\",\"gridwidth\":2,\"linecolor\":\"white\",\"showbackground\":true,\"ticks\":\"\",\"zerolinecolor\":\"white\"},\"zaxis\":{\"backgroundcolor\":\"#E5ECF6\",\"gridcolor\":\"white\",\"gridwidth\":2,\"linecolor\":\"white\",\"showbackground\":true,\"ticks\":\"\",\"zerolinecolor\":\"white\"}},\"shapedefaults\":{\"line\":{\"color\":\"#2a3f5f\"}},\"ternary\":{\"aaxis\":{\"gridcolor\":\"white\",\"linecolor\":\"white\",\"ticks\":\"\"},\"baxis\":{\"gridcolor\":\"white\",\"linecolor\":\"white\",\"ticks\":\"\"},\"bgcolor\":\"#E5ECF6\",\"caxis\":{\"gridcolor\":\"white\",\"linecolor\":\"white\",\"ticks\":\"\"}},\"title\":{\"x\":0.05},\"xaxis\":{\"automargin\":true,\"gridcolor\":\"white\",\"linecolor\":\"white\",\"ticks\":\"\",\"title\":{\"standoff\":15},\"zerolinecolor\":\"white\",\"zerolinewidth\":2},\"yaxis\":{\"automargin\":true,\"gridcolor\":\"white\",\"linecolor\":\"white\",\"ticks\":\"\",\"title\":{\"standoff\":15},\"zerolinecolor\":\"white\",\"zerolinewidth\":2}}},\"xaxis\":{\"anchor\":\"y\",\"categoryarray\":[\"GBM\",\"lg\",\"Stacked Model\"],\"categoryorder\":\"array\",\"domain\":[0.0,1.0],\"title\":{\"text\":\"variable\"}},\"yaxis\":{\"anchor\":\"x\",\"domain\":[0.0,1.0],\"title\":{\"text\":\"value\"}}},                        {\"responsive\": true}                    ).then(function(){\n",
       "                            \n",
       "var gd = document.getElementById('edb0d752-e208-4274-afa1-346801023f25');\n",
       "var x = new MutationObserver(function (mutations, observer) {{\n",
       "        var display = window.getComputedStyle(gd).display;\n",
       "        if (!display || display === 'none') {{\n",
       "            console.log([gd, 'removed!']);\n",
       "            Plotly.purge(gd);\n",
       "            observer.disconnect();\n",
       "        }}\n",
       "}});\n",
       "\n",
       "// Listen for the removal of the full notebook cells\n",
       "var notebookContainer = gd.closest('#notebook-container');\n",
       "if (notebookContainer) {{\n",
       "    x.observe(notebookContainer, {childList: true});\n",
       "}}\n",
       "\n",
       "// Listen for the clearing of the current output cell\n",
       "var outputEl = gd.closest('.output');\n",
       "if (outputEl) {{\n",
       "    x.observe(outputEl, {childList: true});\n",
       "}}\n",
       "\n",
       "                        })                };                });            </script>        </div>"
      ]
     },
     "metadata": {},
     "output_type": "display_data"
    }
   ],
   "source": [
    "classmod2 = classmod2.dropna()\n",
    "fig = px.box(classmod2, x=\"variable\", y=\"value\",color=\"variable\",points='all')\n",
    "fig.show()\n",
    "\n",
    "plotly.offline.plot(fig, image_filename='Boxplot_classmod2', image='svg')"
   ]
  },
  {
   "cell_type": "markdown",
   "metadata": {
    "id": "sRlGYVI-oETZ"
   },
   "source": [
    "### Export to pickle"
   ]
  },
  {
   "cell_type": "code",
   "execution_count": 29,
   "metadata": {
    "id": "BTx0mEI2cmw1"
   },
   "outputs": [],
   "source": [
    "import pickle\n",
    "\n",
    "# export the model in a pickle file\n",
    "pkl_filename = \"pickle.pkl\"\n",
    "with open(pkl_filename, 'wb') as file:\n",
    "    pickle.dump(models, file)"
   ]
  },
  {
   "cell_type": "code",
   "execution_count": 30,
   "metadata": {
    "id": "1ukY0UItcyia"
   },
   "outputs": [],
   "source": [
    "# load the model\n",
    "with open(pkl_filename, 'rb') as file:\n",
    "    pickle_models = pickle.load(file)"
   ]
  },
  {
   "cell_type": "code",
   "execution_count": 31,
   "metadata": {},
   "outputs": [
    {
     "name": "stdout",
     "output_type": "stream",
     "text": [
      "GBM Test score: 90.00%\n",
      "lg Test score: 73.33%\n",
      "Stacked Model Test score: 86.67%\n"
     ]
    },
    {
     "data": {
      "image/png": "[encoded data removed]",
      "text/plain": [
       "<Figure size 936x936 with 2 Axes>"
      ]
     },
     "metadata": {
      "needs_background": "light"
     },
     "output_type": "display_data"
    },
    {
     "data": {
      "image/png": "[encoded data removed]",
      "text/plain": [
       "<Figure size 936x936 with 2 Axes>"
      ]
     },
     "metadata": {
      "needs_background": "light"
     },
     "output_type": "display_data"
    },
    {
     "data": {
      "image/png": "[encoded data removed]",
      "text/plain": [
       "<Figure size 936x936 with 2 Axes>"
      ]
     },
     "metadata": {
      "needs_background": "light"
     },
     "output_type": "display_data"
    }
   ],
   "source": [
    "from sklearn import metrics\n",
    "def hello_world():\n",
    "    pkl_filename = \"app/TrainedModel/pickle.pkl\"\n",
    "    for i in pickle_models:\n",
    "        model = pickle_models.get(i)\n",
    "        mod = model.fit(X_train_group2, y_train_group2)\n",
    "\n",
    "        y_predict = mod.predict(X_test_group2)\n",
    "\n",
    "      # plot confusion matrix\n",
    "        title = \"Confusion Metrix by \" + i\n",
    "        cnf_matrix = metrics.confusion_matrix(y_test_group2, y_predict)\n",
    "        cm_group2 = metrics.plot_confusion_matrix(mod, X_test_group2, y_test_group2,\n",
    "                            cmap=plt.cm.Oranges)\n",
    "        cm_group2.ax_.set_title(title)\n",
    "        fig = cm_group2.confusion_matrix\n",
    "\n",
    "      #print(y_predict)\n",
    "        score = mod.score(X_test_group2, y_test_group2)\n",
    "        print(i, \"Test score: {0:.2f}%\".format(100 * score))\n",
    "        name = 'app/static/'+title+'.svg'\n",
    "        plt.savefig(name, format=\"svg\")\n",
    "\n",
    "\n",
    "hello_world()\n"
   ]
  },
  {
   "cell_type": "code",
   "execution_count": 32,
   "metadata": {},
   "outputs": [
    {
     "data": {
      "text/plain": [
       "GradientBoostingClassifier()"
      ]
     },
     "execution_count": 32,
     "metadata": {},
     "output_type": "execute_result"
    }
   ],
   "source": [
    "model = list(pickle_models.values())[0]\n",
    "model.fit(X_train_group2,y_train_group2)"
   ]
  },
  {
   "cell_type": "code",
   "execution_count": 51,
   "metadata": {},
   "outputs": [
    {
     "data": {
      "application/vnd.plotly.v1+json": {
       "config": {
        "plotlyServerURL": "https://plot.ly"
       },
       "data": [
        {
         "line": {
          "color": "#003366",
          "width": 1
         },
         "marker": {
          "color": [
           1,
           1,
           1,
           1,
           1,
           1,
           1,
           1,
           1,
           1,
           1,
           1,
           1,
           1,
           0,
           1,
           1,
           1,
           1,
           1,
           0,
           1,
           1,
           0,
           1,
           1,
           1,
           1,
           1,
           1,
           1,
           1,
           1,
           0,
           1,
           1,
           1,
           1,
           0,
           1,
           1,
           1,
           1,
           0,
           1,
           1,
           1,
           1,
           1,
           1,
           1,
           1,
           1,
           1,
           1,
           1,
           0,
           0,
           1,
           1,
           1,
           1,
           0,
           1,
           0,
           1,
           1,
           1,
           1,
           1,
           0,
           0,
           1,
           0,
           1,
           1,
           0,
           0,
           0,
           0,
           0,
           0,
           1,
           0,
           1,
           0,
           0,
           0,
           0,
           0,
           0,
           0,
           0,
           1,
           0,
           0,
           0,
           0,
           0,
           0,
           0,
           0,
           0,
           0,
           0,
           1,
           0,
           0,
           0,
           0,
           1,
           0,
           0,
           1,
           0,
           0,
           0,
           0,
           0,
           1,
           0,
           0,
           0,
           0,
           1,
           0,
           1,
           0,
           0,
           0,
           0,
           0,
           0,
           0,
           0,
           0,
           0,
           0,
           0,
           0,
           1,
           0,
           0,
           0,
           1,
           0,
           0,
           0,
           1,
           0,
           1,
           0,
           0,
           0,
           0,
           0,
           0,
           0,
           0,
           0,
           0,
           0,
           0,
           1,
           1,
           1,
           0,
           1,
           0,
           0,
           0,
           0,
           0,
           0,
           0,
           0,
           0,
           0,
           0,
           0,
           0,
           1,
           1,
           1,
           1,
           1,
           1,
           1,
           0,
           0,
           0,
           0,
           0,
           0,
           1,
           1,
           0,
           0,
           0,
           0,
           0,
           0,
           0,
           0,
           0,
           0,
           0,
           0,
           0,
           0,
           0,
           0,
           0,
           1,
           0,
           0,
           0,
           1,
           0,
           0,
           1,
           0,
           0,
           0,
           0,
           0,
           0,
           0,
           0,
           0,
           1,
           0,
           0,
           0,
           0,
           0,
           0,
           0,
           0,
           0,
           0,
           0,
           0,
           0,
           0,
           0,
           1,
           0,
           0,
           0,
           0,
           0,
           0,
           0,
           0,
           0,
           0,
           0,
           0,
           0,
           0,
           0,
           1,
           0,
           0,
           0,
           1,
           0,
           0,
           0,
           0,
           0,
           0,
           0,
           0,
           0,
           0,
           0,
           0,
           0,
           0,
           0,
           0,
           0,
           0,
           0,
           0,
           0,
           0,
           0,
           0,
           0,
           0,
           0,
           0,
           0,
           0,
           0,
           0
          ]
         },
         "mode": "markers",
         "showlegend": false,
         "type": "scatter",
         "x": [
          75,
          55,
          65,
          50,
          65,
          90,
          75,
          60,
          65,
          80,
          75,
          62,
          45,
          50,
          49,
          82,
          87,
          45,
          70,
          48,
          65,
          65,
          68,
          53,
          75,
          80,
          95,
          70,
          58,
          82,
          94,
          85,
          50,
          50,
          65,
          69,
          90,
          82,
          60,
          60,
          70,
          50,
          70,
          72,
          60,
          50,
          51,
          60,
          80,
          57,
          68,
          53,
          60,
          70,
          60,
          95,
          70,
          60,
          49,
          72,
          45,
          50,
          55,
          45,
          45,
          60,
          42,
          72,
          70,
          65,
          41,
          58,
          85,
          65,
          69,
          60,
          70,
          42,
          75,
          55,
          70,
          67,
          60,
          79,
          59,
          51,
          55,
          65,
          44,
          57,
          70,
          60,
          42,
          60,
          58,
          58,
          63,
          70,
          60,
          63,
          65,
          75,
          80,
          42,
          60,
          72,
          55,
          45,
          63,
          45,
          85,
          55,
          50,
          70,
          60,
          58,
          60,
          85,
          65,
          86,
          60,
          66,
          60,
          60,
          60,
          43,
          46,
          58,
          61,
          53,
          53,
          60,
          46,
          63,
          81,
          75,
          65,
          68,
          62,
          50,
          80,
          46,
          50,
          61,
          72,
          50,
          52,
          64,
          75,
          60,
          72,
          62,
          50,
          50,
          65,
          60,
          52,
          50,
          85,
          59,
          66,
          45,
          63,
          50,
          45,
          80,
          53,
          59,
          65,
          70,
          51,
          52,
          70,
          50,
          65,
          60,
          69,
          49,
          63,
          55,
          40,
          59,
          65,
          75,
          58,
          60.667,
          50,
          60,
          60.667,
          40,
          80,
          64,
          50,
          73,
          45,
          77,
          45,
          65,
          50,
          60,
          63,
          45,
          70,
          60,
          78,
          50,
          40,
          85,
          60,
          49,
          70,
          50,
          78,
          48,
          65,
          73,
          70,
          54,
          68,
          55,
          73,
          65,
          42,
          47,
          58,
          75,
          58,
          55,
          65,
          72,
          60,
          70,
          40,
          53,
          53,
          77,
          75,
          70,
          65,
          55,
          70,
          65,
          40,
          73,
          54,
          61,
          55,
          64,
          40,
          53,
          50,
          55,
          50,
          70,
          53,
          52,
          65,
          58,
          45,
          53,
          55,
          62,
          65,
          68,
          61,
          50,
          55,
          56,
          45,
          40,
          44,
          51,
          67,
          42,
          60,
          45,
          70,
          70,
          50,
          55,
          70,
          70,
          42,
          65,
          50,
          55,
          60,
          45,
          65,
          90,
          45,
          60,
          52,
          63,
          62,
          55,
          45,
          45,
          50
         ],
         "xaxis": "x",
         "y": [
          4,
          6,
          7,
          7,
          8,
          8,
          10,
          10,
          10,
          10,
          10,
          10,
          11,
          11,
          12,
          13,
          14,
          14,
          15,
          15,
          16,
          20,
          20,
          22,
          23,
          23,
          24,
          26,
          26,
          26,
          27,
          28,
          28,
          29,
          29,
          30,
          30,
          30,
          30,
          30,
          31,
          32,
          33,
          33,
          33,
          35,
          38,
          40,
          41,
          42,
          43,
          43,
          43,
          44,
          45,
          50,
          54,
          54,
          55,
          59,
          60,
          60,
          60,
          61,
          63,
          64,
          65,
          65,
          66,
          67,
          68,
          71,
          72,
          72,
          73,
          73,
          74,
          74,
          74,
          74,
          75,
          76,
          77,
          78,
          78,
          79,
          79,
          79,
          79,
          79,
          80,
          80,
          82,
          82,
          83,
          83,
          83,
          85,
          85,
          86,
          87,
          87,
          87,
          87,
          87,
          88,
          88,
          88,
          88,
          88,
          90,
          90,
          90,
          90,
          91,
          91,
          94,
          94,
          94,
          95,
          95,
          95,
          95,
          95,
          96,
          97,
          100,
          104,
          104,
          105,
          106,
          107,
          107,
          107,
          107,
          107,
          107,
          108,
          108,
          108,
          109,
          109,
          109,
          110,
          111,
          112,
          112,
          113,
          113,
          115,
          115,
          117,
          118,
          119,
          120,
          120,
          120,
          120,
          121,
          121,
          121,
          121,
          123,
          126,
          129,
          130,
          134,
          135,
          140,
          145,
          145,
          146,
          146,
          146,
          146,
          146,
          147,
          147,
          147,
          147,
          148,
          150,
          154,
          162,
          170,
          171,
          172,
          172,
          172,
          174,
          174,
          174,
          175,
          180,
          180,
          180,
          185,
          186,
          186,
          186,
          186,
          186,
          186,
          187,
          187,
          187,
          187,
          187,
          187,
          187,
          188,
          192,
          192,
          193,
          194,
          195,
          196,
          196,
          197,
          197,
          198,
          200,
          201,
          201,
          205,
          205,
          205,
          206,
          207,
          207,
          207,
          208,
          209,
          209,
          209,
          209,
          209,
          210,
          210,
          211,
          212,
          212,
          212,
          213,
          213,
          213,
          214,
          214,
          214,
          214,
          214,
          215,
          215,
          215,
          215,
          216,
          220,
          230,
          230,
          231,
          233,
          233,
          235,
          237,
          237,
          240,
          241,
          244,
          244,
          244,
          244,
          244,
          245,
          245,
          245,
          245,
          245,
          246,
          246,
          246,
          247,
          250,
          250,
          250,
          250,
          250,
          250,
          250,
          256,
          256,
          257,
          258,
          258,
          270,
          270,
          271,
          278,
          280,
          285
         ],
         "yaxis": "y"
        },
        {
         "line": {
          "color": "#FF6600",
          "width": 1
         },
         "marker": {
          "color": [
           1,
           1,
           1,
           1,
           1,
           1,
           1,
           1,
           1,
           1,
           1,
           1,
           1,
           1,
           0,
           1,
           1,
           1,
           1,
           1,
           0,
           1,
           1,
           0,
           1,
           1,
           1,
           1,
           1,
           1,
           1,
           1,
           1,
           0,
           1,
           1,
           1,
           1,
           0,
           1,
           1,
           1,
           1,
           0,
           1,
           1,
           1,
           1,
           1,
           1,
           1,
           1,
           1,
           1,
           1,
           1,
           0,
           0,
           1,
           1,
           1,
           1,
           0,
           1,
           0,
           1,
           1,
           1,
           1,
           1,
           0,
           0,
           1,
           0,
           1,
           1,
           0,
           0,
           0,
           0,
           0,
           0,
           1,
           0,
           1,
           0,
           0,
           0,
           0,
           0,
           0,
           0,
           0,
           1,
           0,
           0,
           0,
           0,
           0,
           0,
           0,
           0,
           0,
           0,
           0,
           1,
           0,
           0,
           0,
           0,
           1,
           0,
           0,
           1,
           0,
           0,
           0,
           0,
           0,
           1,
           0,
           0,
           0,
           0,
           1,
           0,
           1,
           0,
           0,
           0,
           0,
           0,
           0,
           0,
           0,
           0,
           0,
           0,
           0,
           0,
           1,
           0,
           0,
           0,
           1,
           0,
           0,
           0,
           1,
           0,
           1,
           0,
           0,
           0,
           0,
           0,
           0,
           0,
           0,
           0,
           0,
           0,
           0,
           1,
           1,
           1,
           0,
           1,
           0,
           0,
           0,
           0,
           0,
           0,
           0,
           0,
           0,
           0,
           0,
           0,
           0,
           1,
           1,
           1,
           1,
           1,
           1,
           1,
           0,
           0,
           0,
           0,
           0,
           0,
           1,
           1,
           0,
           0,
           0,
           0,
           0,
           0,
           0,
           0,
           0,
           0,
           0,
           0,
           0,
           0,
           0,
           0,
           0,
           1,
           0,
           0,
           0,
           1,
           0,
           0,
           1,
           0,
           0,
           0,
           0,
           0,
           0,
           0,
           0,
           0,
           1,
           0,
           0,
           0,
           0,
           0,
           0,
           0,
           0,
           0,
           0,
           0,
           0,
           0,
           0,
           0,
           1,
           0,
           0,
           0,
           0,
           0,
           0,
           0,
           0,
           0,
           0,
           0,
           0,
           0,
           0,
           0,
           1,
           0,
           0,
           0,
           1,
           0,
           0,
           0,
           0,
           0,
           0,
           0,
           0,
           0,
           0,
           0,
           0,
           0,
           0,
           0,
           0,
           0,
           0,
           0,
           0,
           0,
           0,
           0,
           0,
           0,
           0,
           0,
           0,
           0,
           0,
           0,
           0
          ]
         },
         "mode": "markers",
         "showlegend": false,
         "type": "scatter",
         "x": [
          20,
          38,
          20,
          20,
          20,
          40,
          15,
          60,
          65,
          35,
          38,
          25,
          30,
          38,
          30,
          50,
          38,
          14,
          25,
          55,
          25,
          30,
          35,
          60,
          30,
          38,
          40,
          45,
          38,
          30,
          38,
          45,
          35,
          30,
          50,
          35,
          50,
          50,
          30,
          38,
          20,
          30,
          45,
          50,
          60,
          38,
          25,
          38,
          20,
          30,
          25,
          20,
          62,
          50,
          38,
          30,
          35,
          40,
          20,
          20,
          25,
          40,
          35,
          35,
          80,
          20,
          15,
          25,
          25,
          25,
          40,
          35,
          35,
          50,
          20,
          20,
          60,
          40,
          38,
          45,
          40,
          50,
          25,
          50,
          25,
          50,
          35,
          60,
          40,
          25,
          45,
          45,
          60,
          25,
          38,
          60,
          25,
          60,
          25,
          40,
          25,
          45,
          25,
          30,
          50,
          30,
          45,
          35,
          38,
          35,
          60,
          35,
          25,
          60,
          40,
          40,
          60,
          60,
          60,
          38,
          60,
          38,
          38,
          30,
          40,
          50,
          17,
          60,
          30,
          35,
          60,
          45,
          40,
          60,
          35,
          40,
          60,
          25,
          35,
          30,
          38,
          35,
          30,
          40,
          25,
          30,
          30,
          60,
          30,
          35,
          45,
          60,
          45,
          35,
          35,
          25,
          35,
          25,
          50,
          45,
          40,
          35,
          40,
          35,
          30,
          38,
          60,
          20,
          40,
          35,
          35,
          40,
          60,
          20,
          35,
          60,
          40,
          50,
          60,
          40,
          30,
          25,
          25,
          38,
          25,
          30,
          50,
          25,
          40,
          45,
          35,
          60,
          40,
          30,
          20,
          45,
          38,
          30,
          20,
          35,
          45,
          60,
          60,
          25,
          40,
          45,
          40,
          38,
          40,
          35,
          17,
          62,
          50,
          30,
          35,
          35,
          50,
          70,
          35,
          35,
          20,
          50,
          35,
          25,
          25,
          60,
          25,
          35,
          25,
          25,
          30,
          35,
          35,
          38,
          45,
          50,
          50,
          30,
          40,
          45,
          35,
          30,
          35,
          40,
          38,
          38,
          25,
          25,
          35,
          40,
          30,
          35,
          45,
          35,
          60,
          30,
          38,
          38,
          25,
          50,
          40,
          40,
          25,
          60,
          38,
          35,
          20,
          38,
          38,
          35,
          30,
          40,
          38,
          40,
          30,
          38,
          35,
          38,
          30,
          38,
          40,
          40,
          30,
          38,
          40,
          40,
          35,
          55,
          35,
          38,
          55,
          35,
          38,
          35,
          38,
          38,
          60,
          38,
          45
         ],
         "xaxis": "x2",
         "y": [
          130,
          136,
          129,
          137,
          116,
          132,
          137,
          131,
          138,
          133,
          131,
          140,
          137,
          137,
          138,
          136,
          140,
          127,
          140,
          121,
          137,
          136,
          140,
          135,
          134,
          144,
          138,
          136,
          134,
          132,
          134,
          132,
          128,
          138,
          140,
          134,
          134,
          145,
          137,
          142,
          134,
          136,
          139,
          134,
          142,
          135,
          130,
          138,
          133,
          140,
          138,
          139,
          146,
          134,
          132,
          132,
          138,
          138,
          136,
          136,
          139,
          131,
          139,
          145,
          137,
          127,
          136,
          140,
          142,
          135,
          140,
          139,
          132,
          137,
          134,
          139,
          140,
          140,
          131,
          140,
          136,
          137,
          132,
          133,
          141,
          140,
          137,
          140,
          139,
          144,
          136,
          133,
          137,
          135,
          142,
          141,
          134,
          136,
          137,
          140,
          141,
          137,
          144,
          140,
          143,
          138,
          137,
          138,
          133,
          142,
          132,
          135,
          136,
          137,
          126,
          139,
          136,
          138,
          140,
          134,
          135,
          136,
          140,
          145,
          134,
          135,
          124,
          137,
          136,
          145,
          138,
          131,
          137,
          145,
          137,
          137,
          137,
          130,
          136,
          138,
          134,
          140,
          132,
          141,
          139,
          141,
          136,
          137,
          134,
          136,
          135,
          139,
          134,
          137,
          136,
          140,
          136,
          136,
          134,
          139,
          134,
          139,
          137,
          142,
          139,
          135,
          133,
          134,
          138,
          133,
          136,
          140,
          145,
          139,
          137,
          138,
          135,
          140,
          145,
          140,
          136,
          136,
          136,
          134,
          137,
          136,
          134,
          144,
          136,
          140,
          134,
          135,
          130,
          142,
          135,
          145,
          137,
          138,
          134,
          113,
          137,
          136,
          138,
          136,
          137,
          136,
          141,
          136,
          141,
          130,
          136,
          140,
          138,
          130,
          134,
          134,
          141,
          137,
          134,
          140,
          134,
          145,
          139,
          134,
          138,
          125,
          132,
          140,
          130,
          134,
          127,
          134,
          137,
          137,
          137,
          137,
          148,
          132,
          136,
          137,
          139,
          136,
          136,
          141,
          134,
          137,
          138,
          135,
          142,
          130,
          139,
          143,
          133,
          132,
          139,
          142,
          139,
          139,
          135,
          135,
          138,
          133,
          129,
          140,
          141,
          140,
          134,
          140,
          140,
          132,
          130,
          134,
          133,
          140,
          137,
          137,
          142,
          140,
          136,
          136,
          137,
          136,
          128,
          138,
          141,
          135,
          140,
          132,
          142,
          144,
          141,
          139,
          140,
          136,
          143,
          139,
          138,
          140,
          136
         ],
         "yaxis": "y2"
        },
        {
         "marker": {
          "color": "yellow"
         },
         "mode": "markers",
         "name": "1 (death)",
         "type": "scatter",
         "y": [
          null
         ]
        },
        {
         "marker": {
          "color": "blue"
         },
         "mode": "markers",
         "name": "0 (no death)",
         "type": "scatter",
         "y": [
          null
         ]
        }
       ],
       "layout": {
        "height": 400,
        "template": {
         "data": {
          "bar": [
           {
            "error_x": {
             "color": "#2a3f5f"
            },
            "error_y": {
             "color": "#2a3f5f"
            },
            "marker": {
             "line": {
              "color": "#E5ECF6",
              "width": 0.5
             },
             "pattern": {
              "fillmode": "overlay",
              "size": 10,
              "solidity": 0.2
             }
            },
            "type": "bar"
           }
          ],
          "barpolar": [
           {
            "marker": {
             "line": {
              "color": "#E5ECF6",
              "width": 0.5
             },
             "pattern": {
              "fillmode": "overlay",
              "size": 10,
              "solidity": 0.2
             }
            },
            "type": "barpolar"
           }
          ],
          "carpet": [
           {
            "aaxis": {
             "endlinecolor": "#2a3f5f",
             "gridcolor": "white",
             "linecolor": "white",
             "minorgridcolor": "white",
             "startlinecolor": "#2a3f5f"
            },
            "baxis": {
             "endlinecolor": "#2a3f5f",
             "gridcolor": "white",
             "linecolor": "white",
             "minorgridcolor": "white",
             "startlinecolor": "#2a3f5f"
            },
            "type": "carpet"
           }
          ],
          "choropleth": [
           {
            "colorbar": {
             "outlinewidth": 0,
             "ticks": ""
            },
            "type": "choropleth"
           }
          ],
          "contour": [
           {
            "colorbar": {
             "outlinewidth": 0,
             "ticks": ""
            },
            "colorscale": [
             [
              0,
              "#0d0887"
             ],
             [
              0.1111111111111111,
              "#46039f"
             ],
             [
              0.2222222222222222,
              "#7201a8"
             ],
             [
              0.3333333333333333,
              "#9c179e"
             ],
             [
              0.4444444444444444,
              "#bd3786"
             ],
             [
              0.5555555555555556,
              "#d8576b"
             ],
             [
              0.6666666666666666,
              "#ed7953"
             ],
             [
              0.7777777777777778,
              "#fb9f3a"
             ],
             [
              0.8888888888888888,
              "#fdca26"
             ],
             [
              1,
              "#f0f921"
             ]
            ],
            "type": "contour"
           }
          ],
          "contourcarpet": [
           {
            "colorbar": {
             "outlinewidth": 0,
             "ticks": ""
            },
            "type": "contourcarpet"
           }
          ],
          "heatmap": [
           {
            "colorbar": {
             "outlinewidth": 0,
             "ticks": ""
            },
            "colorscale": [
             [
              0,
              "#0d0887"
             ],
             [
              0.1111111111111111,
              "#46039f"
             ],
             [
              0.2222222222222222,
              "#7201a8"
             ],
             [
              0.3333333333333333,
              "#9c179e"
             ],
             [
              0.4444444444444444,
              "#bd3786"
             ],
             [
              0.5555555555555556,
              "#d8576b"
             ],
             [
              0.6666666666666666,
              "#ed7953"
             ],
             [
              0.7777777777777778,
              "#fb9f3a"
             ],
             [
              0.8888888888888888,
              "#fdca26"
             ],
             [
              1,
              "#f0f921"
             ]
            ],
            "type": "heatmap"
           }
          ],
          "heatmapgl": [
           {
            "colorbar": {
             "outlinewidth": 0,
             "ticks": ""
            },
            "colorscale": [
             [
              0,
              "#0d0887"
             ],
             [
              0.1111111111111111,
              "#46039f"
             ],
             [
              0.2222222222222222,
              "#7201a8"
             ],
             [
              0.3333333333333333,
              "#9c179e"
             ],
             [
              0.4444444444444444,
              "#bd3786"
             ],
             [
              0.5555555555555556,
              "#d8576b"
             ],
             [
              0.6666666666666666,
              "#ed7953"
             ],
             [
              0.7777777777777778,
              "#fb9f3a"
             ],
             [
              0.8888888888888888,
              "#fdca26"
             ],
             [
              1,
              "#f0f921"
             ]
            ],
            "type": "heatmapgl"
           }
          ],
          "histogram": [
           {
            "marker": {
             "pattern": {
              "fillmode": "overlay",
              "size": 10,
              "solidity": 0.2
             }
            },
            "type": "histogram"
           }
          ],
          "histogram2d": [
           {
            "colorbar": {
             "outlinewidth": 0,
             "ticks": ""
            },
            "colorscale": [
             [
              0,
              "#0d0887"
             ],
             [
              0.1111111111111111,
              "#46039f"
             ],
             [
              0.2222222222222222,
              "#7201a8"
             ],
             [
              0.3333333333333333,
              "#9c179e"
             ],
             [
              0.4444444444444444,
              "#bd3786"
             ],
             [
              0.5555555555555556,
              "#d8576b"
             ],
             [
              0.6666666666666666,
              "#ed7953"
             ],
             [
              0.7777777777777778,
              "#fb9f3a"
             ],
             [
              0.8888888888888888,
              "#fdca26"
             ],
             [
              1,
              "#f0f921"
             ]
            ],
            "type": "histogram2d"
           }
          ],
          "histogram2dcontour": [
           {
            "colorbar": {
             "outlinewidth": 0,
             "ticks": ""
            },
            "colorscale": [
             [
              0,
              "#0d0887"
             ],
             [
              0.1111111111111111,
              "#46039f"
             ],
             [
              0.2222222222222222,
              "#7201a8"
             ],
             [
              0.3333333333333333,
              "#9c179e"
             ],
             [
              0.4444444444444444,
              "#bd3786"
             ],
             [
              0.5555555555555556,
              "#d8576b"
             ],
             [
              0.6666666666666666,
              "#ed7953"
             ],
             [
              0.7777777777777778,
              "#fb9f3a"
             ],
             [
              0.8888888888888888,
              "#fdca26"
             ],
             [
              1,
              "#f0f921"
             ]
            ],
            "type": "histogram2dcontour"
           }
          ],
          "mesh3d": [
           {
            "colorbar": {
             "outlinewidth": 0,
             "ticks": ""
            },
            "type": "mesh3d"
           }
          ],
          "parcoords": [
           {
            "line": {
             "colorbar": {
              "outlinewidth": 0,
              "ticks": ""
             }
            },
            "type": "parcoords"
           }
          ],
          "pie": [
           {
            "automargin": true,
            "type": "pie"
           }
          ],
          "scatter": [
           {
            "marker": {
             "colorbar": {
              "outlinewidth": 0,
              "ticks": ""
             }
            },
            "type": "scatter"
           }
          ],
          "scatter3d": [
           {
            "line": {
             "colorbar": {
              "outlinewidth": 0,
              "ticks": ""
             }
            },
            "marker": {
             "colorbar": {
              "outlinewidth": 0,
              "ticks": ""
             }
            },
            "type": "scatter3d"
           }
          ],
          "scattercarpet": [
           {
            "marker": {
             "colorbar": {
              "outlinewidth": 0,
              "ticks": ""
             }
            },
            "type": "scattercarpet"
           }
          ],
          "scattergeo": [
           {
            "marker": {
             "colorbar": {
              "outlinewidth": 0,
              "ticks": ""
             }
            },
            "type": "scattergeo"
           }
          ],
          "scattergl": [
           {
            "marker": {
             "colorbar": {
              "outlinewidth": 0,
              "ticks": ""
             }
            },
            "type": "scattergl"
           }
          ],
          "scattermapbox": [
           {
            "marker": {
             "colorbar": {
              "outlinewidth": 0,
              "ticks": ""
             }
            },
            "type": "scattermapbox"
           }
          ],
          "scatterpolar": [
           {
            "marker": {
             "colorbar": {
              "outlinewidth": 0,
              "ticks": ""
             }
            },
            "type": "scatterpolar"
           }
          ],
          "scatterpolargl": [
           {
            "marker": {
             "colorbar": {
              "outlinewidth": 0,
              "ticks": ""
             }
            },
            "type": "scatterpolargl"
           }
          ],
          "scatterternary": [
           {
            "marker": {
             "colorbar": {
              "outlinewidth": 0,
              "ticks": ""
             }
            },
            "type": "scatterternary"
           }
          ],
          "surface": [
           {
            "colorbar": {
             "outlinewidth": 0,
             "ticks": ""
            },
            "colorscale": [
             [
              0,
              "#0d0887"
             ],
             [
              0.1111111111111111,
              "#46039f"
             ],
             [
              0.2222222222222222,
              "#7201a8"
             ],
             [
              0.3333333333333333,
              "#9c179e"
             ],
             [
              0.4444444444444444,
              "#bd3786"
             ],
             [
              0.5555555555555556,
              "#d8576b"
             ],
             [
              0.6666666666666666,
              "#ed7953"
             ],
             [
              0.7777777777777778,
              "#fb9f3a"
             ],
             [
              0.8888888888888888,
              "#fdca26"
             ],
             [
              1,
              "#f0f921"
             ]
            ],
            "type": "surface"
           }
          ],
          "table": [
           {
            "cells": {
             "fill": {
              "color": "#EBF0F8"
             },
             "line": {
              "color": "white"
             }
            },
            "header": {
             "fill": {
              "color": "#C8D4E3"
             },
             "line": {
              "color": "white"
             }
            },
            "type": "table"
           }
          ]
         },
         "layout": {
          "annotationdefaults": {
           "arrowcolor": "#2a3f5f",
           "arrowhead": 0,
           "arrowwidth": 1
          },
          "autotypenumbers": "strict",
          "coloraxis": {
           "colorbar": {
            "outlinewidth": 0,
            "ticks": ""
           }
          },
          "colorscale": {
           "diverging": [
            [
             0,
             "#8e0152"
            ],
            [
             0.1,
             "#c51b7d"
            ],
            [
             0.2,
             "#de77ae"
            ],
            [
             0.3,
             "#f1b6da"
            ],
            [
             0.4,
             "#fde0ef"
            ],
            [
             0.5,
             "#f7f7f7"
            ],
            [
             0.6,
             "#e6f5d0"
            ],
            [
             0.7,
             "#b8e186"
            ],
            [
             0.8,
             "#7fbc41"
            ],
            [
             0.9,
             "#4d9221"
            ],
            [
             1,
             "#276419"
            ]
           ],
           "sequential": [
            [
             0,
             "#0d0887"
            ],
            [
             0.1111111111111111,
             "#46039f"
            ],
            [
             0.2222222222222222,
             "#7201a8"
            ],
            [
             0.3333333333333333,
             "#9c179e"
            ],
            [
             0.4444444444444444,
             "#bd3786"
            ],
            [
             0.5555555555555556,
             "#d8576b"
            ],
            [
             0.6666666666666666,
             "#ed7953"
            ],
            [
             0.7777777777777778,
             "#fb9f3a"
            ],
            [
             0.8888888888888888,
             "#fdca26"
            ],
            [
             1,
             "#f0f921"
            ]
           ],
           "sequentialminus": [
            [
             0,
             "#0d0887"
            ],
            [
             0.1111111111111111,
             "#46039f"
            ],
            [
             0.2222222222222222,
             "#7201a8"
            ],
            [
             0.3333333333333333,
             "#9c179e"
            ],
            [
             0.4444444444444444,
             "#bd3786"
            ],
            [
             0.5555555555555556,
             "#d8576b"
            ],
            [
             0.6666666666666666,
             "#ed7953"
            ],
            [
             0.7777777777777778,
             "#fb9f3a"
            ],
            [
             0.8888888888888888,
             "#fdca26"
            ],
            [
             1,
             "#f0f921"
            ]
           ]
          },
          "colorway": [
           "#636efa",
           "#EF553B",
           "#00cc96",
           "#ab63fa",
           "#FFA15A",
           "#19d3f3",
           "#FF6692",
           "#B6E880",
           "#FF97FF",
           "#FECB52"
          ],
          "font": {
           "color": "#2a3f5f"
          },
          "geo": {
           "bgcolor": "white",
           "lakecolor": "white",
           "landcolor": "#E5ECF6",
           "showlakes": true,
           "showland": true,
           "subunitcolor": "white"
          },
          "hoverlabel": {
           "align": "left"
          },
          "hovermode": "closest",
          "mapbox": {
           "style": "light"
          },
          "paper_bgcolor": "white",
          "plot_bgcolor": "#E5ECF6",
          "polar": {
           "angularaxis": {
            "gridcolor": "white",
            "linecolor": "white",
            "ticks": ""
           },
           "bgcolor": "#E5ECF6",
           "radialaxis": {
            "gridcolor": "white",
            "linecolor": "white",
            "ticks": ""
           }
          },
          "scene": {
           "xaxis": {
            "backgroundcolor": "#E5ECF6",
            "gridcolor": "white",
            "gridwidth": 2,
            "linecolor": "white",
            "showbackground": true,
            "ticks": "",
            "zerolinecolor": "white"
           },
           "yaxis": {
            "backgroundcolor": "#E5ECF6",
            "gridcolor": "white",
            "gridwidth": 2,
            "linecolor": "white",
            "showbackground": true,
            "ticks": "",
            "zerolinecolor": "white"
           },
           "zaxis": {
            "backgroundcolor": "#E5ECF6",
            "gridcolor": "white",
            "gridwidth": 2,
            "linecolor": "white",
            "showbackground": true,
            "ticks": "",
            "zerolinecolor": "white"
           }
          },
          "shapedefaults": {
           "line": {
            "color": "#2a3f5f"
           }
          },
          "ternary": {
           "aaxis": {
            "gridcolor": "white",
            "linecolor": "white",
            "ticks": ""
           },
           "baxis": {
            "gridcolor": "white",
            "linecolor": "white",
            "ticks": ""
           },
           "bgcolor": "#E5ECF6",
           "caxis": {
            "gridcolor": "white",
            "linecolor": "white",
            "ticks": ""
           }
          },
          "title": {
           "x": 0.05
          },
          "xaxis": {
           "automargin": true,
           "gridcolor": "white",
           "linecolor": "white",
           "ticks": "",
           "title": {
            "standoff": 15
           },
           "zerolinecolor": "white",
           "zerolinewidth": 2
          },
          "yaxis": {
           "automargin": true,
           "gridcolor": "white",
           "linecolor": "white",
           "ticks": "",
           "title": {
            "standoff": 15
           },
           "zerolinecolor": "white",
           "zerolinewidth": 2
          }
         }
        },
        "title": {
         "text": "Variation in Heart Disease Death Rate"
        },
        "width": 800,
        "xaxis": {
         "anchor": "y",
         "domain": [
          0,
          0.45
         ],
         "range": [
          36,
          99
         ],
         "title": {
          "text": "Age"
         }
        },
        "xaxis2": {
         "anchor": "y2",
         "domain": [
          0.55,
          1
         ],
         "title": {
          "text": "Time"
         }
        },
        "yaxis": {
         "anchor": "x",
         "domain": [
          0,
          1
         ],
         "title": {
          "text": "Ejection Fraction"
         }
        },
        "yaxis2": {
         "anchor": "x2",
         "domain": [
          0,
          1
         ],
         "title": {
          "text": "Serum Sodium"
         }
        }
       }
      },
      "text/html": [
       "<div>                            <div id=\"5529ce3a-a3a9-43f8-a564-ed8e38469784\" class=\"plotly-graph-div\" style=\"height:400px; width:800px;\"></div>            <script type=\"text/javascript\">                require([\"plotly\"], function(Plotly) {                    window.PLOTLYENV=window.PLOTLYENV || {};                                    if (document.getElementById(\"5529ce3a-a3a9-43f8-a564-ed8e38469784\")) {                    Plotly.newPlot(                        \"5529ce3a-a3a9-43f8-a564-ed8e38469784\",                        [{\"line\":{\"color\":\"#003366\",\"width\":1},\"marker\":{\"color\":[1,1,1,1,1,1,1,1,1,1,1,1,1,1,0,1,1,1,1,1,0,1,1,0,1,1,1,1,1,1,1,1,1,0,1,1,1,1,0,1,1,1,1,0,1,1,1,1,1,1,1,1,1,1,1,1,0,0,1,1,1,1,0,1,0,1,1,1,1,1,0,0,1,0,1,1,0,0,0,0,0,0,1,0,1,0,0,0,0,0,0,0,0,1,0,0,0,0,0,0,0,0,0,0,0,1,0,0,0,0,1,0,0,1,0,0,0,0,0,1,0,0,0,0,1,0,1,0,0,0,0,0,0,0,0,0,0,0,0,0,1,0,0,0,1,0,0,0,1,0,1,0,0,0,0,0,0,0,0,0,0,0,0,1,1,1,0,1,0,0,0,0,0,0,0,0,0,0,0,0,0,1,1,1,1,1,1,1,0,0,0,0,0,0,1,1,0,0,0,0,0,0,0,0,0,0,0,0,0,0,0,0,0,1,0,0,0,1,0,0,1,0,0,0,0,0,0,0,0,0,1,0,0,0,0,0,0,0,0,0,0,0,0,0,0,0,1,0,0,0,0,0,0,0,0,0,0,0,0,0,0,0,1,0,0,0,1,0,0,0,0,0,0,0,0,0,0,0,0,0,0,0,0,0,0,0,0,0,0,0,0,0,0,0,0,0,0,0,0]},\"mode\":\"markers\",\"showlegend\":false,\"type\":\"scatter\",\"x\":[75.0,55.0,65.0,50.0,65.0,90.0,75.0,60.0,65.0,80.0,75.0,62.0,45.0,50.0,49.0,82.0,87.0,45.0,70.0,48.0,65.0,65.0,68.0,53.0,75.0,80.0,95.0,70.0,58.0,82.0,94.0,85.0,50.0,50.0,65.0,69.0,90.0,82.0,60.0,60.0,70.0,50.0,70.0,72.0,60.0,50.0,51.0,60.0,80.0,57.0,68.0,53.0,60.0,70.0,60.0,95.0,70.0,60.0,49.0,72.0,45.0,50.0,55.0,45.0,45.0,60.0,42.0,72.0,70.0,65.0,41.0,58.0,85.0,65.0,69.0,60.0,70.0,42.0,75.0,55.0,70.0,67.0,60.0,79.0,59.0,51.0,55.0,65.0,44.0,57.0,70.0,60.0,42.0,60.0,58.0,58.0,63.0,70.0,60.0,63.0,65.0,75.0,80.0,42.0,60.0,72.0,55.0,45.0,63.0,45.0,85.0,55.0,50.0,70.0,60.0,58.0,60.0,85.0,65.0,86.0,60.0,66.0,60.0,60.0,60.0,43.0,46.0,58.0,61.0,53.0,53.0,60.0,46.0,63.0,81.0,75.0,65.0,68.0,62.0,50.0,80.0,46.0,50.0,61.0,72.0,50.0,52.0,64.0,75.0,60.0,72.0,62.0,50.0,50.0,65.0,60.0,52.0,50.0,85.0,59.0,66.0,45.0,63.0,50.0,45.0,80.0,53.0,59.0,65.0,70.0,51.0,52.0,70.0,50.0,65.0,60.0,69.0,49.0,63.0,55.0,40.0,59.0,65.0,75.0,58.0,60.667,50.0,60.0,60.667,40.0,80.0,64.0,50.0,73.0,45.0,77.0,45.0,65.0,50.0,60.0,63.0,45.0,70.0,60.0,78.0,50.0,40.0,85.0,60.0,49.0,70.0,50.0,78.0,48.0,65.0,73.0,70.0,54.0,68.0,55.0,73.0,65.0,42.0,47.0,58.0,75.0,58.0,55.0,65.0,72.0,60.0,70.0,40.0,53.0,53.0,77.0,75.0,70.0,65.0,55.0,70.0,65.0,40.0,73.0,54.0,61.0,55.0,64.0,40.0,53.0,50.0,55.0,50.0,70.0,53.0,52.0,65.0,58.0,45.0,53.0,55.0,62.0,65.0,68.0,61.0,50.0,55.0,56.0,45.0,40.0,44.0,51.0,67.0,42.0,60.0,45.0,70.0,70.0,50.0,55.0,70.0,70.0,42.0,65.0,50.0,55.0,60.0,45.0,65.0,90.0,45.0,60.0,52.0,63.0,62.0,55.0,45.0,45.0,50.0],\"xaxis\":\"x\",\"y\":[4,6,7,7,8,8,10,10,10,10,10,10,11,11,12,13,14,14,15,15,16,20,20,22,23,23,24,26,26,26,27,28,28,29,29,30,30,30,30,30,31,32,33,33,33,35,38,40,41,42,43,43,43,44,45,50,54,54,55,59,60,60,60,61,63,64,65,65,66,67,68,71,72,72,73,73,74,74,74,74,75,76,77,78,78,79,79,79,79,79,80,80,82,82,83,83,83,85,85,86,87,87,87,87,87,88,88,88,88,88,90,90,90,90,91,91,94,94,94,95,95,95,95,95,96,97,100,104,104,105,106,107,107,107,107,107,107,108,108,108,109,109,109,110,111,112,112,113,113,115,115,117,118,119,120,120,120,120,121,121,121,121,123,126,129,130,134,135,140,145,145,146,146,146,146,146,147,147,147,147,148,150,154,162,170,171,172,172,172,174,174,174,175,180,180,180,185,186,186,186,186,186,186,187,187,187,187,187,187,187,188,192,192,193,194,195,196,196,197,197,198,200,201,201,205,205,205,206,207,207,207,208,209,209,209,209,209,210,210,211,212,212,212,213,213,213,214,214,214,214,214,215,215,215,215,216,220,230,230,231,233,233,235,237,237,240,241,244,244,244,244,244,245,245,245,245,245,246,246,246,247,250,250,250,250,250,250,250,256,256,257,258,258,270,270,271,278,280,285],\"yaxis\":\"y\"},{\"line\":{\"color\":\"#FF6600\",\"width\":1},\"marker\":{\"color\":[1,1,1,1,1,1,1,1,1,1,1,1,1,1,0,1,1,1,1,1,0,1,1,0,1,1,1,1,1,1,1,1,1,0,1,1,1,1,0,1,1,1,1,0,1,1,1,1,1,1,1,1,1,1,1,1,0,0,1,1,1,1,0,1,0,1,1,1,1,1,0,0,1,0,1,1,0,0,0,0,0,0,1,0,1,0,0,0,0,0,0,0,0,1,0,0,0,0,0,0,0,0,0,0,0,1,0,0,0,0,1,0,0,1,0,0,0,0,0,1,0,0,0,0,1,0,1,0,0,0,0,0,0,0,0,0,0,0,0,0,1,0,0,0,1,0,0,0,1,0,1,0,0,0,0,0,0,0,0,0,0,0,0,1,1,1,0,1,0,0,0,0,0,0,0,0,0,0,0,0,0,1,1,1,1,1,1,1,0,0,0,0,0,0,1,1,0,0,0,0,0,0,0,0,0,0,0,0,0,0,0,0,0,1,0,0,0,1,0,0,1,0,0,0,0,0,0,0,0,0,1,0,0,0,0,0,0,0,0,0,0,0,0,0,0,0,1,0,0,0,0,0,0,0,0,0,0,0,0,0,0,0,1,0,0,0,1,0,0,0,0,0,0,0,0,0,0,0,0,0,0,0,0,0,0,0,0,0,0,0,0,0,0,0,0,0,0,0,0]},\"mode\":\"markers\",\"showlegend\":false,\"type\":\"scatter\",\"x\":[20,38,20,20,20,40,15,60,65,35,38,25,30,38,30,50,38,14,25,55,25,30,35,60,30,38,40,45,38,30,38,45,35,30,50,35,50,50,30,38,20,30,45,50,60,38,25,38,20,30,25,20,62,50,38,30,35,40,20,20,25,40,35,35,80,20,15,25,25,25,40,35,35,50,20,20,60,40,38,45,40,50,25,50,25,50,35,60,40,25,45,45,60,25,38,60,25,60,25,40,25,45,25,30,50,30,45,35,38,35,60,35,25,60,40,40,60,60,60,38,60,38,38,30,40,50,17,60,30,35,60,45,40,60,35,40,60,25,35,30,38,35,30,40,25,30,30,60,30,35,45,60,45,35,35,25,35,25,50,45,40,35,40,35,30,38,60,20,40,35,35,40,60,20,35,60,40,50,60,40,30,25,25,38,25,30,50,25,40,45,35,60,40,30,20,45,38,30,20,35,45,60,60,25,40,45,40,38,40,35,17,62,50,30,35,35,50,70,35,35,20,50,35,25,25,60,25,35,25,25,30,35,35,38,45,50,50,30,40,45,35,30,35,40,38,38,25,25,35,40,30,35,45,35,60,30,38,38,25,50,40,40,25,60,38,35,20,38,38,35,30,40,38,40,30,38,35,38,30,38,40,40,30,38,40,40,35,55,35,38,55,35,38,35,38,38,60,38,45],\"xaxis\":\"x2\",\"y\":[130,136,129,137,116,132,137,131,138,133,131,140,137,137,138,136,140,127,140,121,137,136,140,135,134,144,138,136,134,132,134,132,128,138,140,134,134,145,137,142,134,136,139,134,142,135,130,138,133,140,138,139,146,134,132,132,138,138,136,136,139,131,139,145,137,127,136,140,142,135,140,139,132,137,134,139,140,140,131,140,136,137,132,133,141,140,137,140,139,144,136,133,137,135,142,141,134,136,137,140,141,137,144,140,143,138,137,138,133,142,132,135,136,137,126,139,136,138,140,134,135,136,140,145,134,135,124,137,136,145,138,131,137,145,137,137,137,130,136,138,134,140,132,141,139,141,136,137,134,136,135,139,134,137,136,140,136,136,134,139,134,139,137,142,139,135,133,134,138,133,136,140,145,139,137,138,135,140,145,140,136,136,136,134,137,136,134,144,136,140,134,135,130,142,135,145,137,138,134,113,137,136,138,136,137,136,141,136,141,130,136,140,138,130,134,134,141,137,134,140,134,145,139,134,138,125,132,140,130,134,127,134,137,137,137,137,148,132,136,137,139,136,136,141,134,137,138,135,142,130,139,143,133,132,139,142,139,139,135,135,138,133,129,140,141,140,134,140,140,132,130,134,133,140,137,137,142,140,136,136,137,136,128,138,141,135,140,132,142,144,141,139,140,136,143,139,138,140,136],\"yaxis\":\"y2\"},{\"marker\":{\"color\":\"yellow\"},\"mode\":\"markers\",\"name\":\"1 (death)\",\"type\":\"scatter\",\"y\":[null]},{\"marker\":{\"color\":\"blue\"},\"mode\":\"markers\",\"name\":\"0 (no death)\",\"type\":\"scatter\",\"y\":[null]}],                        {\"height\":400,\"template\":{\"data\":{\"bar\":[{\"error_x\":{\"color\":\"#2a3f5f\"},\"error_y\":{\"color\":\"#2a3f5f\"},\"marker\":{\"line\":{\"color\":\"#E5ECF6\",\"width\":0.5},\"pattern\":{\"fillmode\":\"overlay\",\"size\":10,\"solidity\":0.2}},\"type\":\"bar\"}],\"barpolar\":[{\"marker\":{\"line\":{\"color\":\"#E5ECF6\",\"width\":0.5},\"pattern\":{\"fillmode\":\"overlay\",\"size\":10,\"solidity\":0.2}},\"type\":\"barpolar\"}],\"carpet\":[{\"aaxis\":{\"endlinecolor\":\"#2a3f5f\",\"gridcolor\":\"white\",\"linecolor\":\"white\",\"minorgridcolor\":\"white\",\"startlinecolor\":\"#2a3f5f\"},\"baxis\":{\"endlinecolor\":\"#2a3f5f\",\"gridcolor\":\"white\",\"linecolor\":\"white\",\"minorgridcolor\":\"white\",\"startlinecolor\":\"#2a3f5f\"},\"type\":\"carpet\"}],\"choropleth\":[{\"colorbar\":{\"outlinewidth\":0,\"ticks\":\"\"},\"type\":\"choropleth\"}],\"contour\":[{\"colorbar\":{\"outlinewidth\":0,\"ticks\":\"\"},\"colorscale\":[[0.0,\"#0d0887\"],[0.1111111111111111,\"#46039f\"],[0.2222222222222222,\"#7201a8\"],[0.3333333333333333,\"#9c179e\"],[0.4444444444444444,\"#bd3786\"],[0.5555555555555556,\"#d8576b\"],[0.6666666666666666,\"#ed7953\"],[0.7777777777777778,\"#fb9f3a\"],[0.8888888888888888,\"#fdca26\"],[1.0,\"#f0f921\"]],\"type\":\"contour\"}],\"contourcarpet\":[{\"colorbar\":{\"outlinewidth\":0,\"ticks\":\"\"},\"type\":\"contourcarpet\"}],\"heatmap\":[{\"colorbar\":{\"outlinewidth\":0,\"ticks\":\"\"},\"colorscale\":[[0.0,\"#0d0887\"],[0.1111111111111111,\"#46039f\"],[0.2222222222222222,\"#7201a8\"],[0.3333333333333333,\"#9c179e\"],[0.4444444444444444,\"#bd3786\"],[0.5555555555555556,\"#d8576b\"],[0.6666666666666666,\"#ed7953\"],[0.7777777777777778,\"#fb9f3a\"],[0.8888888888888888,\"#fdca26\"],[1.0,\"#f0f921\"]],\"type\":\"heatmap\"}],\"heatmapgl\":[{\"colorbar\":{\"outlinewidth\":0,\"ticks\":\"\"},\"colorscale\":[[0.0,\"#0d0887\"],[0.1111111111111111,\"#46039f\"],[0.2222222222222222,\"#7201a8\"],[0.3333333333333333,\"#9c179e\"],[0.4444444444444444,\"#bd3786\"],[0.5555555555555556,\"#d8576b\"],[0.6666666666666666,\"#ed7953\"],[0.7777777777777778,\"#fb9f3a\"],[0.8888888888888888,\"#fdca26\"],[1.0,\"#f0f921\"]],\"type\":\"heatmapgl\"}],\"histogram\":[{\"marker\":{\"pattern\":{\"fillmode\":\"overlay\",\"size\":10,\"solidity\":0.2}},\"type\":\"histogram\"}],\"histogram2d\":[{\"colorbar\":{\"outlinewidth\":0,\"ticks\":\"\"},\"colorscale\":[[0.0,\"#0d0887\"],[0.1111111111111111,\"#46039f\"],[0.2222222222222222,\"#7201a8\"],[0.3333333333333333,\"#9c179e\"],[0.4444444444444444,\"#bd3786\"],[0.5555555555555556,\"#d8576b\"],[0.6666666666666666,\"#ed7953\"],[0.7777777777777778,\"#fb9f3a\"],[0.8888888888888888,\"#fdca26\"],[1.0,\"#f0f921\"]],\"type\":\"histogram2d\"}],\"histogram2dcontour\":[{\"colorbar\":{\"outlinewidth\":0,\"ticks\":\"\"},\"colorscale\":[[0.0,\"#0d0887\"],[0.1111111111111111,\"#46039f\"],[0.2222222222222222,\"#7201a8\"],[0.3333333333333333,\"#9c179e\"],[0.4444444444444444,\"#bd3786\"],[0.5555555555555556,\"#d8576b\"],[0.6666666666666666,\"#ed7953\"],[0.7777777777777778,\"#fb9f3a\"],[0.8888888888888888,\"#fdca26\"],[1.0,\"#f0f921\"]],\"type\":\"histogram2dcontour\"}],\"mesh3d\":[{\"colorbar\":{\"outlinewidth\":0,\"ticks\":\"\"},\"type\":\"mesh3d\"}],\"parcoords\":[{\"line\":{\"colorbar\":{\"outlinewidth\":0,\"ticks\":\"\"}},\"type\":\"parcoords\"}],\"pie\":[{\"automargin\":true,\"type\":\"pie\"}],\"scatter\":[{\"marker\":{\"colorbar\":{\"outlinewidth\":0,\"ticks\":\"\"}},\"type\":\"scatter\"}],\"scatter3d\":[{\"line\":{\"colorbar\":{\"outlinewidth\":0,\"ticks\":\"\"}},\"marker\":{\"colorbar\":{\"outlinewidth\":0,\"ticks\":\"\"}},\"type\":\"scatter3d\"}],\"scattercarpet\":[{\"marker\":{\"colorbar\":{\"outlinewidth\":0,\"ticks\":\"\"}},\"type\":\"scattercarpet\"}],\"scattergeo\":[{\"marker\":{\"colorbar\":{\"outlinewidth\":0,\"ticks\":\"\"}},\"type\":\"scattergeo\"}],\"scattergl\":[{\"marker\":{\"colorbar\":{\"outlinewidth\":0,\"ticks\":\"\"}},\"type\":\"scattergl\"}],\"scattermapbox\":[{\"marker\":{\"colorbar\":{\"outlinewidth\":0,\"ticks\":\"\"}},\"type\":\"scattermapbox\"}],\"scatterpolar\":[{\"marker\":{\"colorbar\":{\"outlinewidth\":0,\"ticks\":\"\"}},\"type\":\"scatterpolar\"}],\"scatterpolargl\":[{\"marker\":{\"colorbar\":{\"outlinewidth\":0,\"ticks\":\"\"}},\"type\":\"scatterpolargl\"}],\"scatterternary\":[{\"marker\":{\"colorbar\":{\"outlinewidth\":0,\"ticks\":\"\"}},\"type\":\"scatterternary\"}],\"surface\":[{\"colorbar\":{\"outlinewidth\":0,\"ticks\":\"\"},\"colorscale\":[[0.0,\"#0d0887\"],[0.1111111111111111,\"#46039f\"],[0.2222222222222222,\"#7201a8\"],[0.3333333333333333,\"#9c179e\"],[0.4444444444444444,\"#bd3786\"],[0.5555555555555556,\"#d8576b\"],[0.6666666666666666,\"#ed7953\"],[0.7777777777777778,\"#fb9f3a\"],[0.8888888888888888,\"#fdca26\"],[1.0,\"#f0f921\"]],\"type\":\"surface\"}],\"table\":[{\"cells\":{\"fill\":{\"color\":\"#EBF0F8\"},\"line\":{\"color\":\"white\"}},\"header\":{\"fill\":{\"color\":\"#C8D4E3\"},\"line\":{\"color\":\"white\"}},\"type\":\"table\"}]},\"layout\":{\"annotationdefaults\":{\"arrowcolor\":\"#2a3f5f\",\"arrowhead\":0,\"arrowwidth\":1},\"autotypenumbers\":\"strict\",\"coloraxis\":{\"colorbar\":{\"outlinewidth\":0,\"ticks\":\"\"}},\"colorscale\":{\"diverging\":[[0,\"#8e0152\"],[0.1,\"#c51b7d\"],[0.2,\"#de77ae\"],[0.3,\"#f1b6da\"],[0.4,\"#fde0ef\"],[0.5,\"#f7f7f7\"],[0.6,\"#e6f5d0\"],[0.7,\"#b8e186\"],[0.8,\"#7fbc41\"],[0.9,\"#4d9221\"],[1,\"#276419\"]],\"sequential\":[[0.0,\"#0d0887\"],[0.1111111111111111,\"#46039f\"],[0.2222222222222222,\"#7201a8\"],[0.3333333333333333,\"#9c179e\"],[0.4444444444444444,\"#bd3786\"],[0.5555555555555556,\"#d8576b\"],[0.6666666666666666,\"#ed7953\"],[0.7777777777777778,\"#fb9f3a\"],[0.8888888888888888,\"#fdca26\"],[1.0,\"#f0f921\"]],\"sequentialminus\":[[0.0,\"#0d0887\"],[0.1111111111111111,\"#46039f\"],[0.2222222222222222,\"#7201a8\"],[0.3333333333333333,\"#9c179e\"],[0.4444444444444444,\"#bd3786\"],[0.5555555555555556,\"#d8576b\"],[0.6666666666666666,\"#ed7953\"],[0.7777777777777778,\"#fb9f3a\"],[0.8888888888888888,\"#fdca26\"],[1.0,\"#f0f921\"]]},\"colorway\":[\"#636efa\",\"#EF553B\",\"#00cc96\",\"#ab63fa\",\"#FFA15A\",\"#19d3f3\",\"#FF6692\",\"#B6E880\",\"#FF97FF\",\"#FECB52\"],\"font\":{\"color\":\"#2a3f5f\"},\"geo\":{\"bgcolor\":\"white\",\"lakecolor\":\"white\",\"landcolor\":\"#E5ECF6\",\"showlakes\":true,\"showland\":true,\"subunitcolor\":\"white\"},\"hoverlabel\":{\"align\":\"left\"},\"hovermode\":\"closest\",\"mapbox\":{\"style\":\"light\"},\"paper_bgcolor\":\"white\",\"plot_bgcolor\":\"#E5ECF6\",\"polar\":{\"angularaxis\":{\"gridcolor\":\"white\",\"linecolor\":\"white\",\"ticks\":\"\"},\"bgcolor\":\"#E5ECF6\",\"radialaxis\":{\"gridcolor\":\"white\",\"linecolor\":\"white\",\"ticks\":\"\"}},\"scene\":{\"xaxis\":{\"backgroundcolor\":\"#E5ECF6\",\"gridcolor\":\"white\",\"gridwidth\":2,\"linecolor\":\"white\",\"showbackground\":true,\"ticks\":\"\",\"zerolinecolor\":\"white\"},\"yaxis\":{\"backgroundcolor\":\"#E5ECF6\",\"gridcolor\":\"white\",\"gridwidth\":2,\"linecolor\":\"white\",\"showbackground\":true,\"ticks\":\"\",\"zerolinecolor\":\"white\"},\"zaxis\":{\"backgroundcolor\":\"#E5ECF6\",\"gridcolor\":\"white\",\"gridwidth\":2,\"linecolor\":\"white\",\"showbackground\":true,\"ticks\":\"\",\"zerolinecolor\":\"white\"}},\"shapedefaults\":{\"line\":{\"color\":\"#2a3f5f\"}},\"ternary\":{\"aaxis\":{\"gridcolor\":\"white\",\"linecolor\":\"white\",\"ticks\":\"\"},\"baxis\":{\"gridcolor\":\"white\",\"linecolor\":\"white\",\"ticks\":\"\"},\"bgcolor\":\"#E5ECF6\",\"caxis\":{\"gridcolor\":\"white\",\"linecolor\":\"white\",\"ticks\":\"\"}},\"title\":{\"x\":0.05},\"xaxis\":{\"automargin\":true,\"gridcolor\":\"white\",\"linecolor\":\"white\",\"ticks\":\"\",\"title\":{\"standoff\":15},\"zerolinecolor\":\"white\",\"zerolinewidth\":2},\"yaxis\":{\"automargin\":true,\"gridcolor\":\"white\",\"linecolor\":\"white\",\"ticks\":\"\",\"title\":{\"standoff\":15},\"zerolinecolor\":\"white\",\"zerolinewidth\":2}}},\"title\":{\"text\":\"Variation in Heart Disease Death Rate\"},\"width\":800,\"xaxis\":{\"anchor\":\"y\",\"domain\":[0.0,0.45],\"range\":[36,99],\"title\":{\"text\":\"Age\"}},\"xaxis2\":{\"anchor\":\"y2\",\"domain\":[0.55,1.0],\"title\":{\"text\":\"Time\"}},\"yaxis\":{\"anchor\":\"x\",\"domain\":[0.0,1.0],\"title\":{\"text\":\"Ejection Fraction\"}},\"yaxis2\":{\"anchor\":\"x2\",\"domain\":[0.0,1.0],\"title\":{\"text\":\"Serum Sodium\"}}},                        {\"responsive\": true}                    ).then(function(){\n",
       "                            \n",
       "var gd = document.getElementById('5529ce3a-a3a9-43f8-a564-ed8e38469784');\n",
       "var x = new MutationObserver(function (mutations, observer) {{\n",
       "        var display = window.getComputedStyle(gd).display;\n",
       "        if (!display || display === 'none') {{\n",
       "            console.log([gd, 'removed!']);\n",
       "            Plotly.purge(gd);\n",
       "            observer.disconnect();\n",
       "        }}\n",
       "}});\n",
       "\n",
       "// Listen for the removal of the full notebook cells\n",
       "var notebookContainer = gd.closest('#notebook-container');\n",
       "if (notebookContainer) {{\n",
       "    x.observe(notebookContainer, {childList: true});\n",
       "}}\n",
       "\n",
       "// Listen for the clearing of the current output cell\n",
       "var outputEl = gd.closest('.output');\n",
       "if (outputEl) {{\n",
       "    x.observe(outputEl, {childList: true});\n",
       "}}\n",
       "\n",
       "                        })                };                });            </script>        </div>"
      ]
     },
     "metadata": {},
     "output_type": "display_data"
    }
   ],
   "source": [
    "import plotly.graph_objects as go\n",
    "fig = plotly.subplots.make_subplots(\n",
    "rows=1, cols=2\n",
    ")\n",
    "\n",
    "fig.add_trace(\n",
    "    go.Scatter(x=heart_group2[\"age\"],y=heart_group2['time'],mode='markers',\n",
    "    marker=dict(\n",
    "            color=heart_group2['DEATH_EVENT']),\n",
    "        line=dict(color=\"#003366\",width=1),showlegend=False),\n",
    "    row=1, col=1\n",
    ")\n",
    "\n",
    "fig.add_trace(\n",
    "    go.Scatter(x=heart_group2['ejection_fraction'],y=heart_group2['serum_sodium'],mode='markers',\n",
    "    marker=dict(\n",
    "            color=heart_group2['DEATH_EVENT']),\n",
    "        line=dict(color=\"#FF6600\",width=1),showlegend=False),\n",
    "    row=1, col=2\n",
    ")\n",
    "\n",
    "fig.add_trace(go.Scatter(y=[None], mode='markers',\n",
    "                         marker=dict(color='yellow'),\n",
    "                         name='1 (death)',\n",
    "                         ))\n",
    "\n",
    "fig.add_trace(go.Scatter(y=[None], mode='markers',\n",
    "                         marker=dict(color='blue'),\n",
    "                         name='0 (no death)',\n",
    "                         ))\n",
    "\n",
    "# Update xaxis properties\n",
    "fig.update_xaxes(title_text=\"Age\", range=[36, 99], row=1, col=1)\n",
    "fig.update_xaxes(title_text=\"Time\", row=1, col=2)\n",
    "\n",
    "# Update yaxis properties\n",
    "fig.update_yaxes(title_text=\"Ejection Fraction\", row=1, col=1)\n",
    "fig.update_yaxes(title_text=\"Serum Sodium\", row=1, col=2)\n",
    "# fig.update_yaxes(title_text=\"yaxis 2 title\", range=[40, 80], row=1, col=2)\n",
    "# Update title and height\n",
    "fig.update_layout(height=400, width=800, title_text=\"Variation in Heart Disease Death Rate\")\n",
    "output_file=\"app/static/baseimage.svg\"\n",
    "fig.write_image(output_file,width=1200,engine=\"kaleido\")\n",
    "fig.show()"
   ]
  },
  {
   "cell_type": "code",
   "execution_count": 33,
   "metadata": {},
   "outputs": [],
   "source": [
    "import plotly.graph_objects as go\n",
    "def plot_graphs(model,new_input_arr):\n",
    "    fig = plotly.subplots.make_subplots(\n",
    "    rows=1, cols=2\n",
    "    )\n",
    "\n",
    "    fig.add_trace(\n",
    "        go.Scatter(x=heart_group2[\"age\"],y=heart_group2['time'],mode='markers',\n",
    "        marker=dict(\n",
    "                color=heart_group2['DEATH_EVENT']),\n",
    "            line=dict(color=\"#003366\",width=1)),\n",
    "        row=1, col=1\n",
    "    )\n",
    "\n",
    "    fig.add_trace(\n",
    "        go.Scatter(x=heart_group2['ejection_fraction'],y=heart_group2['serum_sodium'],mode='markers',\n",
    "        marker=dict(\n",
    "                color=heart_group2['DEATH_EVENT']),\n",
    "            line=dict(color=\"#FF6600\",width=1)),\n",
    "        row=1, col=2\n",
    "    )\n",
    "\n",
    "    new_preds = model.predict(new_input_arr)\n",
    "    Age_input = np.array(new_input_arr[0][0])\n",
    "    Ejection_input =np.array(new_input_arr[0][4])\n",
    "    Time_input = np.array(new_input_arr[0][11])\n",
    "    Serum_input =np.array(new_input_arr[0][8])\n",
    "\n",
    "    fig.add_trace(\n",
    "    go.Scatter(\n",
    "        x=Age_input,\n",
    "        y=Ejection_input,\n",
    "        mode='markers', name=\"Scatter Plot1\",\n",
    "        marker=dict(\n",
    "            color=heart_group2['DEATH_EVENT'],size=15),\n",
    "        line=dict(color=\"#FFCC00\",width=1)),\n",
    "        row=1, col=1\n",
    "    )\n",
    "\n",
    "    fig.add_trace(\n",
    "        go.Scatter(\n",
    "            x=Time_input,\n",
    "            y=Serum_input,\n",
    "            mode='markers', name=\"Scatter Plot2\",\n",
    "            marker=dict(\n",
    "                color=heart_group2['DEATH_EVENT'],size=15),\n",
    "            line=dict(color=\"red\",width=1)),\n",
    "            row=1, col=2\n",
    "    )\n",
    "\n",
    "    # Update xaxis properties\n",
    "    fig.update_xaxes(title_text=\"Age\", row=1, col=1)\n",
    "    fig.update_xaxes(title_text=\"Time\", row=1, col=2)\n",
    "\n",
    "    # Update yaxis properties\n",
    "    fig.update_yaxes(title_text=\"Ejection Fraction\", row=1, col=1)\n",
    "    fig.update_yaxes(title_text=\"Serum Sodium\", row=1, col=2)\n",
    "    # fig.update_yaxes(title_text=\"yaxis 2 title\", range=[40, 80], row=1, col=2)\n",
    "    # Update title and height\n",
    "    fig.update_layout(height=400, width=800, title_text=\"Variation in Heart Disease Death Rate\")\n",
    "    output_file=\"app/static/attempt.svg\"\n",
    "    fig.write_image(output_file,width=1200,engine=\"kaleido\")\n",
    "    fig.show()"
   ]
  },
  {
   "cell_type": "code",
   "execution_count": 34,
   "metadata": {},
   "outputs": [],
   "source": [
    "def floatsome_to_np_array(floats_str):\n",
    "    def is_float(s):\n",
    "        try:\n",
    "            float(s)\n",
    "            return True\n",
    "        except:\n",
    "            return False\n",
    "    floats = np.array([float(x) for x in floats_str.split(',') if is_float(x)])\n",
    "    return floats.reshape(1,len(floats))\n",
    "\n",
    "\n",
    "arr =floatsome_to_np_array(\"76,0,582,0,20,1,265000,1.9,130,1,0,4\")"
   ]
  },
  {
   "cell_type": "code",
   "execution_count": null,
   "metadata": {},
   "outputs": [],
   "source": [
    "plot_graphs(model,arr)"
   ]
  },
  {
   "cell_type": "markdown",
   "metadata": {
    "id": "li8UCHKRVq5R"
   },
   "source": [
    "### Prediction\n",
    "\n"
   ]
  },
  {
   "cell_type": "code",
   "execution_count": 45,
   "metadata": {
    "colab": {
     "base_uri": "https://localhost:8080/",
     "height": 1000
    },
    "id": "Q6nJ1JEYVn9r",
    "outputId": "9126b931-f2b5-4fb1-ea85-329507a5abdf"
   },
   "outputs": [
    {
     "name": "stdout",
     "output_type": "stream",
     "text": [
      "GBM Test score: 90.00%\n",
      "lg Test score: 73.33%\n",
      "Stacked Model Test score: 83.33%\n"
     ]
    },
    {
     "data": {
      "image/png": "[encoded data removed]",
      "text/plain": [
       "<Figure size 936x936 with 2 Axes>"
      ]
     },
     "metadata": {
      "needs_background": "light"
     },
     "output_type": "display_data"
    },
    {
     "data": {
      "image/png": "[encoded data removed]",
      "text/plain": [
       "<Figure size 936x936 with 2 Axes>"
      ]
     },
     "metadata": {
      "needs_background": "light"
     },
     "output_type": "display_data"
    },
    {
     "data": {
      "image/png": "[encoded data removed]",
      "text/plain": [
       "<Figure size 936x936 with 2 Axes>"
      ]
     },
     "metadata": {
      "needs_background": "light"
     },
     "output_type": "display_data"
    }
   ],
   "source": [
    "from sklearn import metrics\n",
    "for i in pickle_models:\n",
    "    model = pickle_models.get(i)\n",
    "    mod = model.fit(X_train_group2, y_train_group2)\n",
    "\n",
    "    y_predict = mod.predict(X_test_group2)\n",
    "  \n",
    "  # plot confusion matrix\n",
    "    title = \"Confusion Metrix by \" + i\n",
    "    cnf_matrix = metrics.confusion_matrix(y_test_group2, y_predict)\n",
    "    cm_group2 = metrics.plot_confusion_matrix(mod, X_test_group2, y_test_group2,\n",
    "                        cmap=plt.cm.Oranges)\n",
    "    cm_group2.ax_.set_title(title)\n",
    "    fig = cm_group2.confusion_matrix\n",
    "\n",
    "    print(y_predict)\n",
    "    score = mod.score(X_test_group2, y_test_group2)\n",
    "    print(i, \"Test score: {0:.2f}%\".format(100 * score))\n",
    "    name = title+'.svg'\n",
    "    plt.savefig(name, format=\"svg\")\n",
    "\n"
   ]
  },
  {
   "cell_type": "markdown",
   "metadata": {
    "id": "VL2pq3VWYoUv"
   },
   "source": [
    "The stacked model gives a better prediction than the logistic regression model but worse than the GBM model."
   ]
  },
  {
   "cell_type": "markdown",
   "metadata": {
    "id": "TB8wa_iI5GaP"
   },
   "source": [
    "### Feature Importance"
   ]
  },
  {
   "cell_type": "markdown",
   "metadata": {
    "id": "DViuRfsxyhtw"
   },
   "source": [
    "#### Use Random Forest"
   ]
  },
  {
   "cell_type": "code",
   "execution_count": 73,
   "metadata": {
    "colab": {
     "base_uri": "https://localhost:8080/",
     "height": 959
    },
    "id": "V8-WJN6846RM",
    "outputId": "83726935-79f2-4d18-db84-5befdb2fbf38"
   },
   "outputs": [
    {
     "data": {
      "image/png": "[encoded data removed]",
      "text/plain": [
       "<Figure size 936x936 with 1 Axes>"
      ]
     },
     "metadata": {
      "needs_background": "light"
     },
     "output_type": "display_data"
    },
    {
     "data": {
      "text/plain": [
       "<Figure size 936x936 with 0 Axes>"
      ]
     },
     "metadata": {},
     "output_type": "display_data"
    }
   ],
   "source": [
    "model = RandomForestClassifier()\n",
    "# fit the model\n",
    "model.fit(X_train_group2,y_train_group2)\n",
    "# get importance\n",
    "importance = model.feature_importances_\n",
    "# summarize feature importance\n",
    "\n",
    "model = LogisticRegression()\n",
    "# fit the model\n",
    "model.fit(X_train_group2,y_train_group2)\n",
    "# get importance\n",
    "importance2 = model.coef_[0]\n",
    "\n",
    "df = pd.DataFrame()\n",
    "for i,v in enumerate(importance):\n",
    "    j = list(X_train_group2.columns)[i]\n",
    "    df.loc[i,'feature'] = j\n",
    "    df.loc[i,'score'] = v\n",
    "\n",
    "df = df.sort_values('score')\n",
    "\n",
    "# plot feature importance\n",
    "plt.rc('font', size=15) \n",
    "plt.bar(df['feature'],df['score'], color = 'pink')\n",
    "plt.xticks(rotation = 75)\n",
    "plt.title('Feature Importance by Random Forest')\n",
    "plt.show()\n",
    "plt.savefig('RF_feature_importance.svg')"
   ]
  },
  {
   "cell_type": "code",
   "execution_count": 74,
   "metadata": {
    "colab": {
     "base_uri": "https://localhost:8080/",
     "height": 959
    },
    "id": "6f-IQUnl5EdT",
    "outputId": "93e9e8e0-1e0e-46df-d1f9-66d7af513cbc"
   },
   "outputs": [
    {
     "data": {
      "image/png": "[encoded data removed]",
      "text/plain": [
       "<Figure size 936x936 with 1 Axes>"
      ]
     },
     "metadata": {
      "needs_background": "light"
     },
     "output_type": "display_data"
    },
    {
     "data": {
      "text/plain": [
       "<Figure size 936x936 with 0 Axes>"
      ]
     },
     "metadata": {},
     "output_type": "display_data"
    }
   ],
   "source": [
    "# logistic regression for feature importance\n",
    "model = LogisticRegression()\n",
    "# fit the model\n",
    "model.fit(X_train_group2,y_train_group2)\n",
    "# get importance\n",
    "importance2 = model.coef_[0]\n",
    "\n",
    "df = pd.DataFrame()\n",
    "for i,v in enumerate(importance2):\n",
    "    j = list(X_train_group2.columns)[i]\n",
    "    df.loc[i,'feature'] = j\n",
    "    df.loc[i,'score'] = np.abs(v)\n",
    "\n",
    "df = df.sort_values('score')\n",
    "plt.bar(df['feature'],df['score'], color = 'lightblue')\n",
    "plt.xticks(rotation = 75)\n",
    "plt.title('Feature Importance by Logistic Regression')\n",
    "plt.show()\n",
    "plt.savefig('LG_feature_importance.svg')"
   ]
  },
  {
   "cell_type": "code",
   "execution_count": null,
   "metadata": {},
   "outputs": [],
   "source": []
  }
 ],
 "metadata": {
  "colab": {
   "collapsed_sections": [
    "QK_eXYIXBcxl",
    "vaQwBK1FBx4f"
   ],
   "name": "ProjectII_Group2.ipynb",
   "provenance": []
  },
  "hide_input": false,
  "kernelspec": {
   "display_name": "Python 3 (ipykernel)",
   "language": "python",
   "name": "python3"
  },
  "language_info": {
   "codemirror_mode": {
    "name": "ipython",
    "version": 3
   },
   "file_extension": ".py",
   "mimetype": "text/x-python",
   "name": "python",
   "nbconvert_exporter": "python",
   "pygments_lexer": "ipython3",
   "version": "3.8.5"
  }
 },
 "nbformat": 4,
 "nbformat_minor": 1
}
